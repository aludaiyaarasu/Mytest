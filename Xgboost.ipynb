{
  "nbformat": 4,
  "nbformat_minor": 0,
  "metadata": {
    "colab": {
      "name": "Xgboost.ipynb",
      "provenance": [],
      "collapsed_sections": [],
      "authorship_tag": "ABX9TyMA8HGC9wfZceXcrcDhIIB8",
      "include_colab_link": true
    },
    "kernelspec": {
      "name": "python3",
      "display_name": "Python 3"
    }
  },
  "cells": [
    {
      "cell_type": "markdown",
      "metadata": {
        "id": "view-in-github",
        "colab_type": "text"
      },
      "source": [
        "<a href=\"https://colab.research.google.com/github/aludaiyaarasu/Mytest/blob/master/Xgboost.ipynb\" target=\"_parent\"><img src=\"https://colab.research.google.com/assets/colab-badge.svg\" alt=\"Open In Colab\"/></a>"
      ]
    },
    {
      "cell_type": "code",
      "metadata": {
        "id": "_P7FgDeo7sBN",
        "outputId": "2c68e715-3490-47f8-d3a3-2c1c181af24f",
        "colab": {
          "base_uri": "https://localhost:8080/",
          "height": 71
        }
      },
      "source": [
        "import pandas as pd\n",
        "import seaborn as sns\n",
        "import matplotlib.pyplot as plt\n",
        "from sklearn.preprocessing import LabelEncoder\n",
        "from sklearn.preprocessing import StandardScaler\n",
        "from sklearn.model_selection import train_test_split\n",
        "from sklearn import metrics\n",
        "from sklearn.metrics import f1_score, roc_auc_score\n",
        "from sklearn.linear_model import LogisticRegression\n",
        "from sklearn.ensemble import RandomForestClassifier\n",
        "from sklearn.model_selection import GridSearchCV\n",
        "from sklearn.pipeline import Pipeline\n",
        "import category_encoders as ce\n",
        "from sklearn.tree import DecisionTreeClassifier\n",
        "from sklearn.metrics import accuracy_score\n",
        "from sklearn.pipeline import make_pipeline\n",
        "from sklearn.model_selection import train_test_split\n",
        "from sklearn.compose import ColumnTransformer"
      ],
      "execution_count": null,
      "outputs": [
        {
          "output_type": "stream",
          "text": [
            "/usr/local/lib/python3.6/dist-packages/statsmodels/tools/_testing.py:19: FutureWarning: pandas.util.testing is deprecated. Use the functions in the public API at pandas.testing instead.\n",
            "  import pandas.util.testing as tm\n"
          ],
          "name": "stderr"
        }
      ]
    },
    {
      "cell_type": "code",
      "metadata": {
        "id": "JenrziqO8H7K",
        "outputId": "fa7872fd-3d9f-4585-f660-d221daa9a2e6",
        "colab": {
          "base_uri": "https://localhost:8080/",
          "height": 102
        }
      },
      "source": [
        "pip install sklearn"
      ],
      "execution_count": null,
      "outputs": [
        {
          "output_type": "stream",
          "text": [
            "Requirement already satisfied: sklearn in /usr/local/lib/python3.6/dist-packages (0.0)\n",
            "Requirement already satisfied: scikit-learn in /usr/local/lib/python3.6/dist-packages (from sklearn) (0.22.2.post1)\n",
            "Requirement already satisfied: joblib>=0.11 in /usr/local/lib/python3.6/dist-packages (from scikit-learn->sklearn) (0.17.0)\n",
            "Requirement already satisfied: scipy>=0.17.0 in /usr/local/lib/python3.6/dist-packages (from scikit-learn->sklearn) (1.4.1)\n",
            "Requirement already satisfied: numpy>=1.11.0 in /usr/local/lib/python3.6/dist-packages (from scikit-learn->sklearn) (1.18.5)\n"
          ],
          "name": "stdout"
        }
      ]
    },
    {
      "cell_type": "code",
      "metadata": {
        "id": "OZQtmmUE8FLZ",
        "outputId": "1e9196e5-5486-41d3-d722-08361ae744f0",
        "colab": {
          "base_uri": "https://localhost:8080/",
          "height": 272
        }
      },
      "source": [
        "pip install category_encoders"
      ],
      "execution_count": null,
      "outputs": [
        {
          "output_type": "stream",
          "text": [
            "Collecting category_encoders\n",
            "\u001b[?25l  Downloading https://files.pythonhosted.org/packages/44/57/fcef41c248701ee62e8325026b90c432adea35555cbc870aff9cfba23727/category_encoders-2.2.2-py2.py3-none-any.whl (80kB)\n",
            "\r\u001b[K     |████                            | 10kB 17.5MB/s eta 0:00:01\r\u001b[K     |████████▏                       | 20kB 1.8MB/s eta 0:00:01\r\u001b[K     |████████████▏                   | 30kB 2.3MB/s eta 0:00:01\r\u001b[K     |████████████████▎               | 40kB 2.5MB/s eta 0:00:01\r\u001b[K     |████████████████████▎           | 51kB 2.0MB/s eta 0:00:01\r\u001b[K     |████████████████████████▍       | 61kB 2.3MB/s eta 0:00:01\r\u001b[K     |████████████████████████████▍   | 71kB 2.5MB/s eta 0:00:01\r\u001b[K     |████████████████████████████████| 81kB 2.3MB/s \n",
            "\u001b[?25hRequirement already satisfied: statsmodels>=0.9.0 in /usr/local/lib/python3.6/dist-packages (from category_encoders) (0.10.2)\n",
            "Requirement already satisfied: scikit-learn>=0.20.0 in /usr/local/lib/python3.6/dist-packages (from category_encoders) (0.22.2.post1)\n",
            "Requirement already satisfied: scipy>=1.0.0 in /usr/local/lib/python3.6/dist-packages (from category_encoders) (1.4.1)\n",
            "Requirement already satisfied: patsy>=0.5.1 in /usr/local/lib/python3.6/dist-packages (from category_encoders) (0.5.1)\n",
            "Requirement already satisfied: numpy>=1.14.0 in /usr/local/lib/python3.6/dist-packages (from category_encoders) (1.18.5)\n",
            "Requirement already satisfied: pandas>=0.21.1 in /usr/local/lib/python3.6/dist-packages (from category_encoders) (1.1.3)\n",
            "Requirement already satisfied: joblib>=0.11 in /usr/local/lib/python3.6/dist-packages (from scikit-learn>=0.20.0->category_encoders) (0.17.0)\n",
            "Requirement already satisfied: six in /usr/local/lib/python3.6/dist-packages (from patsy>=0.5.1->category_encoders) (1.15.0)\n",
            "Requirement already satisfied: python-dateutil>=2.7.3 in /usr/local/lib/python3.6/dist-packages (from pandas>=0.21.1->category_encoders) (2.8.1)\n",
            "Requirement already satisfied: pytz>=2017.2 in /usr/local/lib/python3.6/dist-packages (from pandas>=0.21.1->category_encoders) (2018.9)\n",
            "Installing collected packages: category-encoders\n",
            "Successfully installed category-encoders-2.2.2\n"
          ],
          "name": "stdout"
        }
      ]
    },
    {
      "cell_type": "code",
      "metadata": {
        "id": "fuueJeCn8QDS"
      },
      "source": [
        "original_dataset = pd.read_csv('/content/sample_data/trans.csv',delimiter=',',header=0)"
      ],
      "execution_count": null,
      "outputs": []
    },
    {
      "cell_type": "code",
      "metadata": {
        "id": "1XcZxM_e8bdL",
        "outputId": "a6a8738b-5a2c-42d6-c4db-569c8e6f97ba",
        "colab": {
          "base_uri": "https://localhost:8080/",
          "height": 1000
        }
      },
      "source": [
        "original_dataset.isnull().sum()"
      ],
      "execution_count": null,
      "outputs": [
        {
          "output_type": "execute_result",
          "data": {
            "text/plain": [
              "Ref                                    0\n",
              "Credit_Score                           0\n",
              "Final_Grade                            0\n",
              "Term                                   0\n",
              "Net_Advance                            0\n",
              "APR                                    0\n",
              "Loan_Type                              0\n",
              "Mosaic                                 0\n",
              "Mosaic_Class                           0\n",
              "Time_at_Address                        0\n",
              "Residential_Status                     0\n",
              "Telephone_Indicator                    0\n",
              "Number_of_Dependants                   0\n",
              "Marital_Status                         0\n",
              "Gender                                 0\n",
              "Time_in_Employment                     0\n",
              "Employment_Status                      0\n",
              "Full_Part_Time_Empl_Ind                0\n",
              "Perm_Temp_Empl_Ind                     0\n",
              "Income_Range                           0\n",
              "Current_Account                        0\n",
              "ACCESS_Card                            0\n",
              "VISA_Card                              0\n",
              "American_Express                       0\n",
              "Diners_Card                            0\n",
              "Cheque_Guarantee                       0\n",
              "Other_Credit_Store_Card                0\n",
              "Time_with_Bank                         0\n",
              "Value_of_Property                      0\n",
              "Outstanding_Mortgage_Bal               0\n",
              "Total_Outstanding_Balances             0\n",
              "Bureau_Data___Monthly_Other_Co_R       0\n",
              "Worst_History_CT                       0\n",
              "Payment_Method                         0\n",
              "Age                                    0\n",
              "Total_outstanding_balance__mortg       0\n",
              "Total___Public_Info___CCJ____ban       0\n",
              "Total_value__Public_Info___CCJ__       0\n",
              "Time_since_most_recent_Public_In       0\n",
              "Total_value__CAIS_8_9s                 0\n",
              "Worst_status_L6m                       0\n",
              "Worst_CUrrent_Status                   0\n",
              "__of_status_3_s_L6m                    0\n",
              "Searches___Total___L6m                 0\n",
              "Years_on_ER_for_SP                     0\n",
              "Bankruptcy_Detected__SP_               0\n",
              "Total___outstanding_CCJ_s              0\n",
              "Total_outstanding_balance___excl       0\n",
              "Total___of_accounts                    0\n",
              "CIFAS_detected                         0\n",
              "Time_since_most_recent_outstandi       0\n",
              "Insurance_Description               6922\n",
              "PPI                                    0\n",
              "code                                6978\n",
              "prdt_desc                           7038\n",
              "category                            6922\n",
              "PPI_SINGLE                             0\n",
              "PPI_JOINT                              0\n",
              "PPI_LCI                                0\n",
              "dtype: int64"
            ]
          },
          "metadata": {
            "tags": []
          },
          "execution_count": 7
        }
      ]
    },
    {
      "cell_type": "code",
      "metadata": {
        "id": "xVMspufL8dNA"
      },
      "source": [
        "def label_class(row):\n",
        "    if row['PPI_SINGLE'] == 1:\n",
        "        return 'single'\n",
        "    if row['PPI_JOINT'] == 1:\n",
        "        return 'joint'\n",
        "    if row['PPI_LCI'] == 1:\n",
        "        return 'lci'"
      ],
      "execution_count": null,
      "outputs": []
    },
    {
      "cell_type": "code",
      "metadata": {
        "id": "iWH65w_f8fiQ",
        "outputId": "2a7d755d-e5e5-4cec-b863-6fb44494f730",
        "colab": {
          "base_uri": "https://localhost:8080/",
          "height": 561
        }
      },
      "source": [
        "original_dataset['class'] = original_dataset.apply (lambda row: label_class(row), axis=1)"
      ],
      "execution_count": null,
      "outputs": [
        {
          "output_type": "error",
          "ename": "KeyError",
          "evalue": "ignored",
          "traceback": [
            "\u001b[0;31m---------------------------------------------------------------------------\u001b[0m",
            "\u001b[0;31mKeyError\u001b[0m                                  Traceback (most recent call last)",
            "\u001b[0;32m/usr/local/lib/python3.6/dist-packages/pandas/core/indexes/base.py\u001b[0m in \u001b[0;36mget_loc\u001b[0;34m(self, key, method, tolerance)\u001b[0m\n\u001b[1;32m   2894\u001b[0m             \u001b[0;32mtry\u001b[0m\u001b[0;34m:\u001b[0m\u001b[0;34m\u001b[0m\u001b[0;34m\u001b[0m\u001b[0m\n\u001b[0;32m-> 2895\u001b[0;31m                 \u001b[0;32mreturn\u001b[0m \u001b[0mself\u001b[0m\u001b[0;34m.\u001b[0m\u001b[0m_engine\u001b[0m\u001b[0;34m.\u001b[0m\u001b[0mget_loc\u001b[0m\u001b[0;34m(\u001b[0m\u001b[0mcasted_key\u001b[0m\u001b[0;34m)\u001b[0m\u001b[0;34m\u001b[0m\u001b[0;34m\u001b[0m\u001b[0m\n\u001b[0m\u001b[1;32m   2896\u001b[0m             \u001b[0;32mexcept\u001b[0m \u001b[0mKeyError\u001b[0m \u001b[0;32mas\u001b[0m \u001b[0merr\u001b[0m\u001b[0;34m:\u001b[0m\u001b[0;34m\u001b[0m\u001b[0;34m\u001b[0m\u001b[0m\n",
            "\u001b[0;32mpandas/_libs/index.pyx\u001b[0m in \u001b[0;36mpandas._libs.index.IndexEngine.get_loc\u001b[0;34m()\u001b[0m\n",
            "\u001b[0;32mpandas/_libs/index.pyx\u001b[0m in \u001b[0;36mpandas._libs.index.IndexEngine.get_loc\u001b[0;34m()\u001b[0m\n",
            "\u001b[0;32mpandas/_libs/hashtable_class_helper.pxi\u001b[0m in \u001b[0;36mpandas._libs.hashtable.PyObjectHashTable.get_item\u001b[0;34m()\u001b[0m\n",
            "\u001b[0;32mpandas/_libs/hashtable_class_helper.pxi\u001b[0m in \u001b[0;36mpandas._libs.hashtable.PyObjectHashTable.get_item\u001b[0;34m()\u001b[0m\n",
            "\u001b[0;31mKeyError\u001b[0m: 'PPI_SINGLE'",
            "\nThe above exception was the direct cause of the following exception:\n",
            "\u001b[0;31mKeyError\u001b[0m                                  Traceback (most recent call last)",
            "\u001b[0;32m<ipython-input-12-beea1784c32b>\u001b[0m in \u001b[0;36m<module>\u001b[0;34m()\u001b[0m\n\u001b[0;32m----> 1\u001b[0;31m \u001b[0moriginal_dataset\u001b[0m\u001b[0;34m[\u001b[0m\u001b[0;34m'class'\u001b[0m\u001b[0;34m]\u001b[0m \u001b[0;34m=\u001b[0m \u001b[0moriginal_dataset\u001b[0m\u001b[0;34m.\u001b[0m\u001b[0mapply\u001b[0m \u001b[0;34m(\u001b[0m\u001b[0;32mlambda\u001b[0m \u001b[0mrow\u001b[0m\u001b[0;34m:\u001b[0m \u001b[0mlabel_class\u001b[0m\u001b[0;34m(\u001b[0m\u001b[0mrow\u001b[0m\u001b[0;34m)\u001b[0m\u001b[0;34m,\u001b[0m \u001b[0maxis\u001b[0m\u001b[0;34m=\u001b[0m\u001b[0;36m1\u001b[0m\u001b[0;34m)\u001b[0m\u001b[0;34m\u001b[0m\u001b[0;34m\u001b[0m\u001b[0m\n\u001b[0m",
            "\u001b[0;32m/usr/local/lib/python3.6/dist-packages/pandas/core/frame.py\u001b[0m in \u001b[0;36mapply\u001b[0;34m(self, func, axis, raw, result_type, args, **kwds)\u001b[0m\n\u001b[1;32m   7546\u001b[0m             \u001b[0mkwds\u001b[0m\u001b[0;34m=\u001b[0m\u001b[0mkwds\u001b[0m\u001b[0;34m,\u001b[0m\u001b[0;34m\u001b[0m\u001b[0;34m\u001b[0m\u001b[0m\n\u001b[1;32m   7547\u001b[0m         )\n\u001b[0;32m-> 7548\u001b[0;31m         \u001b[0;32mreturn\u001b[0m \u001b[0mop\u001b[0m\u001b[0;34m.\u001b[0m\u001b[0mget_result\u001b[0m\u001b[0;34m(\u001b[0m\u001b[0;34m)\u001b[0m\u001b[0;34m\u001b[0m\u001b[0;34m\u001b[0m\u001b[0m\n\u001b[0m\u001b[1;32m   7549\u001b[0m \u001b[0;34m\u001b[0m\u001b[0m\n\u001b[1;32m   7550\u001b[0m     \u001b[0;32mdef\u001b[0m \u001b[0mapplymap\u001b[0m\u001b[0;34m(\u001b[0m\u001b[0mself\u001b[0m\u001b[0;34m,\u001b[0m \u001b[0mfunc\u001b[0m\u001b[0;34m)\u001b[0m \u001b[0;34m->\u001b[0m \u001b[0;34m\"DataFrame\"\u001b[0m\u001b[0;34m:\u001b[0m\u001b[0;34m\u001b[0m\u001b[0;34m\u001b[0m\u001b[0m\n",
            "\u001b[0;32m/usr/local/lib/python3.6/dist-packages/pandas/core/apply.py\u001b[0m in \u001b[0;36mget_result\u001b[0;34m(self)\u001b[0m\n\u001b[1;32m    178\u001b[0m             \u001b[0;32mreturn\u001b[0m \u001b[0mself\u001b[0m\u001b[0;34m.\u001b[0m\u001b[0mapply_raw\u001b[0m\u001b[0;34m(\u001b[0m\u001b[0;34m)\u001b[0m\u001b[0;34m\u001b[0m\u001b[0;34m\u001b[0m\u001b[0m\n\u001b[1;32m    179\u001b[0m \u001b[0;34m\u001b[0m\u001b[0m\n\u001b[0;32m--> 180\u001b[0;31m         \u001b[0;32mreturn\u001b[0m \u001b[0mself\u001b[0m\u001b[0;34m.\u001b[0m\u001b[0mapply_standard\u001b[0m\u001b[0;34m(\u001b[0m\u001b[0;34m)\u001b[0m\u001b[0;34m\u001b[0m\u001b[0;34m\u001b[0m\u001b[0m\n\u001b[0m\u001b[1;32m    181\u001b[0m \u001b[0;34m\u001b[0m\u001b[0m\n\u001b[1;32m    182\u001b[0m     \u001b[0;32mdef\u001b[0m \u001b[0mapply_empty_result\u001b[0m\u001b[0;34m(\u001b[0m\u001b[0mself\u001b[0m\u001b[0;34m)\u001b[0m\u001b[0;34m:\u001b[0m\u001b[0;34m\u001b[0m\u001b[0;34m\u001b[0m\u001b[0m\n",
            "\u001b[0;32m/usr/local/lib/python3.6/dist-packages/pandas/core/apply.py\u001b[0m in \u001b[0;36mapply_standard\u001b[0;34m(self)\u001b[0m\n\u001b[1;32m    269\u001b[0m \u001b[0;34m\u001b[0m\u001b[0m\n\u001b[1;32m    270\u001b[0m     \u001b[0;32mdef\u001b[0m \u001b[0mapply_standard\u001b[0m\u001b[0;34m(\u001b[0m\u001b[0mself\u001b[0m\u001b[0;34m)\u001b[0m\u001b[0;34m:\u001b[0m\u001b[0;34m\u001b[0m\u001b[0;34m\u001b[0m\u001b[0m\n\u001b[0;32m--> 271\u001b[0;31m         \u001b[0mresults\u001b[0m\u001b[0;34m,\u001b[0m \u001b[0mres_index\u001b[0m \u001b[0;34m=\u001b[0m \u001b[0mself\u001b[0m\u001b[0;34m.\u001b[0m\u001b[0mapply_series_generator\u001b[0m\u001b[0;34m(\u001b[0m\u001b[0;34m)\u001b[0m\u001b[0;34m\u001b[0m\u001b[0;34m\u001b[0m\u001b[0m\n\u001b[0m\u001b[1;32m    272\u001b[0m \u001b[0;34m\u001b[0m\u001b[0m\n\u001b[1;32m    273\u001b[0m         \u001b[0;31m# wrap results\u001b[0m\u001b[0;34m\u001b[0m\u001b[0;34m\u001b[0m\u001b[0;34m\u001b[0m\u001b[0m\n",
            "\u001b[0;32m/usr/local/lib/python3.6/dist-packages/pandas/core/apply.py\u001b[0m in \u001b[0;36mapply_series_generator\u001b[0;34m(self)\u001b[0m\n\u001b[1;32m    298\u001b[0m                 \u001b[0;32mfor\u001b[0m \u001b[0mi\u001b[0m\u001b[0;34m,\u001b[0m \u001b[0mv\u001b[0m \u001b[0;32min\u001b[0m \u001b[0menumerate\u001b[0m\u001b[0;34m(\u001b[0m\u001b[0mseries_gen\u001b[0m\u001b[0;34m)\u001b[0m\u001b[0;34m:\u001b[0m\u001b[0;34m\u001b[0m\u001b[0;34m\u001b[0m\u001b[0m\n\u001b[1;32m    299\u001b[0m                     \u001b[0;31m# ignore SettingWithCopy here in case the user mutates\u001b[0m\u001b[0;34m\u001b[0m\u001b[0;34m\u001b[0m\u001b[0;34m\u001b[0m\u001b[0m\n\u001b[0;32m--> 300\u001b[0;31m                     \u001b[0mresults\u001b[0m\u001b[0;34m[\u001b[0m\u001b[0mi\u001b[0m\u001b[0;34m]\u001b[0m \u001b[0;34m=\u001b[0m \u001b[0mself\u001b[0m\u001b[0;34m.\u001b[0m\u001b[0mf\u001b[0m\u001b[0;34m(\u001b[0m\u001b[0mv\u001b[0m\u001b[0;34m)\u001b[0m\u001b[0;34m\u001b[0m\u001b[0;34m\u001b[0m\u001b[0m\n\u001b[0m\u001b[1;32m    301\u001b[0m                     \u001b[0;32mif\u001b[0m \u001b[0misinstance\u001b[0m\u001b[0;34m(\u001b[0m\u001b[0mresults\u001b[0m\u001b[0;34m[\u001b[0m\u001b[0mi\u001b[0m\u001b[0;34m]\u001b[0m\u001b[0;34m,\u001b[0m \u001b[0mABCSeries\u001b[0m\u001b[0;34m)\u001b[0m\u001b[0;34m:\u001b[0m\u001b[0;34m\u001b[0m\u001b[0;34m\u001b[0m\u001b[0m\n\u001b[1;32m    302\u001b[0m                         \u001b[0;31m# If we have a view on v, we need to make a copy because\u001b[0m\u001b[0;34m\u001b[0m\u001b[0;34m\u001b[0m\u001b[0;34m\u001b[0m\u001b[0m\n",
            "\u001b[0;32m<ipython-input-12-beea1784c32b>\u001b[0m in \u001b[0;36m<lambda>\u001b[0;34m(row)\u001b[0m\n\u001b[0;32m----> 1\u001b[0;31m \u001b[0moriginal_dataset\u001b[0m\u001b[0;34m[\u001b[0m\u001b[0;34m'class'\u001b[0m\u001b[0;34m]\u001b[0m \u001b[0;34m=\u001b[0m \u001b[0moriginal_dataset\u001b[0m\u001b[0;34m.\u001b[0m\u001b[0mapply\u001b[0m \u001b[0;34m(\u001b[0m\u001b[0;32mlambda\u001b[0m \u001b[0mrow\u001b[0m\u001b[0;34m:\u001b[0m \u001b[0mlabel_class\u001b[0m\u001b[0;34m(\u001b[0m\u001b[0mrow\u001b[0m\u001b[0;34m)\u001b[0m\u001b[0;34m,\u001b[0m \u001b[0maxis\u001b[0m\u001b[0;34m=\u001b[0m\u001b[0;36m1\u001b[0m\u001b[0;34m)\u001b[0m\u001b[0;34m\u001b[0m\u001b[0;34m\u001b[0m\u001b[0m\n\u001b[0m",
            "\u001b[0;32m<ipython-input-9-5426e17f523d>\u001b[0m in \u001b[0;36mlabel_class\u001b[0;34m(row)\u001b[0m\n\u001b[1;32m      1\u001b[0m \u001b[0;32mdef\u001b[0m \u001b[0mlabel_class\u001b[0m\u001b[0;34m(\u001b[0m\u001b[0mrow\u001b[0m\u001b[0;34m)\u001b[0m\u001b[0;34m:\u001b[0m\u001b[0;34m\u001b[0m\u001b[0;34m\u001b[0m\u001b[0m\n\u001b[0;32m----> 2\u001b[0;31m     \u001b[0;32mif\u001b[0m \u001b[0mrow\u001b[0m\u001b[0;34m[\u001b[0m\u001b[0;34m'PPI_SINGLE'\u001b[0m\u001b[0;34m]\u001b[0m \u001b[0;34m==\u001b[0m \u001b[0;36m1\u001b[0m\u001b[0;34m:\u001b[0m\u001b[0;34m\u001b[0m\u001b[0;34m\u001b[0m\u001b[0m\n\u001b[0m\u001b[1;32m      3\u001b[0m         \u001b[0;32mreturn\u001b[0m \u001b[0;34m'single'\u001b[0m\u001b[0;34m\u001b[0m\u001b[0;34m\u001b[0m\u001b[0m\n\u001b[1;32m      4\u001b[0m     \u001b[0;32mif\u001b[0m \u001b[0mrow\u001b[0m\u001b[0;34m[\u001b[0m\u001b[0;34m'PPI_JOINT'\u001b[0m\u001b[0;34m]\u001b[0m \u001b[0;34m==\u001b[0m \u001b[0;36m1\u001b[0m\u001b[0;34m:\u001b[0m\u001b[0;34m\u001b[0m\u001b[0;34m\u001b[0m\u001b[0m\n\u001b[1;32m      5\u001b[0m         \u001b[0;32mreturn\u001b[0m \u001b[0;34m'joint'\u001b[0m\u001b[0;34m\u001b[0m\u001b[0;34m\u001b[0m\u001b[0m\n",
            "\u001b[0;32m/usr/local/lib/python3.6/dist-packages/pandas/core/series.py\u001b[0m in \u001b[0;36m__getitem__\u001b[0;34m(self, key)\u001b[0m\n\u001b[1;32m    880\u001b[0m \u001b[0;34m\u001b[0m\u001b[0m\n\u001b[1;32m    881\u001b[0m         \u001b[0;32melif\u001b[0m \u001b[0mkey_is_scalar\u001b[0m\u001b[0;34m:\u001b[0m\u001b[0;34m\u001b[0m\u001b[0;34m\u001b[0m\u001b[0m\n\u001b[0;32m--> 882\u001b[0;31m             \u001b[0;32mreturn\u001b[0m \u001b[0mself\u001b[0m\u001b[0;34m.\u001b[0m\u001b[0m_get_value\u001b[0m\u001b[0;34m(\u001b[0m\u001b[0mkey\u001b[0m\u001b[0;34m)\u001b[0m\u001b[0;34m\u001b[0m\u001b[0;34m\u001b[0m\u001b[0m\n\u001b[0m\u001b[1;32m    883\u001b[0m \u001b[0;34m\u001b[0m\u001b[0m\n\u001b[1;32m    884\u001b[0m         \u001b[0;32mif\u001b[0m \u001b[0mis_hashable\u001b[0m\u001b[0;34m(\u001b[0m\u001b[0mkey\u001b[0m\u001b[0;34m)\u001b[0m\u001b[0;34m:\u001b[0m\u001b[0;34m\u001b[0m\u001b[0;34m\u001b[0m\u001b[0m\n",
            "\u001b[0;32m/usr/local/lib/python3.6/dist-packages/pandas/core/series.py\u001b[0m in \u001b[0;36m_get_value\u001b[0;34m(self, label, takeable)\u001b[0m\n\u001b[1;32m    987\u001b[0m \u001b[0;34m\u001b[0m\u001b[0m\n\u001b[1;32m    988\u001b[0m         \u001b[0;31m# Similar to Index.get_value, but we do not fall back to positional\u001b[0m\u001b[0;34m\u001b[0m\u001b[0;34m\u001b[0m\u001b[0;34m\u001b[0m\u001b[0m\n\u001b[0;32m--> 989\u001b[0;31m         \u001b[0mloc\u001b[0m \u001b[0;34m=\u001b[0m \u001b[0mself\u001b[0m\u001b[0;34m.\u001b[0m\u001b[0mindex\u001b[0m\u001b[0;34m.\u001b[0m\u001b[0mget_loc\u001b[0m\u001b[0;34m(\u001b[0m\u001b[0mlabel\u001b[0m\u001b[0;34m)\u001b[0m\u001b[0;34m\u001b[0m\u001b[0;34m\u001b[0m\u001b[0m\n\u001b[0m\u001b[1;32m    990\u001b[0m         \u001b[0;32mreturn\u001b[0m \u001b[0mself\u001b[0m\u001b[0;34m.\u001b[0m\u001b[0mindex\u001b[0m\u001b[0;34m.\u001b[0m\u001b[0m_get_values_for_loc\u001b[0m\u001b[0;34m(\u001b[0m\u001b[0mself\u001b[0m\u001b[0;34m,\u001b[0m \u001b[0mloc\u001b[0m\u001b[0;34m,\u001b[0m \u001b[0mlabel\u001b[0m\u001b[0;34m)\u001b[0m\u001b[0;34m\u001b[0m\u001b[0;34m\u001b[0m\u001b[0m\n\u001b[1;32m    991\u001b[0m \u001b[0;34m\u001b[0m\u001b[0m\n",
            "\u001b[0;32m/usr/local/lib/python3.6/dist-packages/pandas/core/indexes/base.py\u001b[0m in \u001b[0;36mget_loc\u001b[0;34m(self, key, method, tolerance)\u001b[0m\n\u001b[1;32m   2895\u001b[0m                 \u001b[0;32mreturn\u001b[0m \u001b[0mself\u001b[0m\u001b[0;34m.\u001b[0m\u001b[0m_engine\u001b[0m\u001b[0;34m.\u001b[0m\u001b[0mget_loc\u001b[0m\u001b[0;34m(\u001b[0m\u001b[0mcasted_key\u001b[0m\u001b[0;34m)\u001b[0m\u001b[0;34m\u001b[0m\u001b[0;34m\u001b[0m\u001b[0m\n\u001b[1;32m   2896\u001b[0m             \u001b[0;32mexcept\u001b[0m \u001b[0mKeyError\u001b[0m \u001b[0;32mas\u001b[0m \u001b[0merr\u001b[0m\u001b[0;34m:\u001b[0m\u001b[0;34m\u001b[0m\u001b[0;34m\u001b[0m\u001b[0m\n\u001b[0;32m-> 2897\u001b[0;31m                 \u001b[0;32mraise\u001b[0m \u001b[0mKeyError\u001b[0m\u001b[0;34m(\u001b[0m\u001b[0mkey\u001b[0m\u001b[0;34m)\u001b[0m \u001b[0;32mfrom\u001b[0m \u001b[0merr\u001b[0m\u001b[0;34m\u001b[0m\u001b[0;34m\u001b[0m\u001b[0m\n\u001b[0m\u001b[1;32m   2898\u001b[0m \u001b[0;34m\u001b[0m\u001b[0m\n\u001b[1;32m   2899\u001b[0m         \u001b[0;32mif\u001b[0m \u001b[0mtolerance\u001b[0m \u001b[0;32mis\u001b[0m \u001b[0;32mnot\u001b[0m \u001b[0;32mNone\u001b[0m\u001b[0;34m:\u001b[0m\u001b[0;34m\u001b[0m\u001b[0;34m\u001b[0m\u001b[0m\n",
            "\u001b[0;31mKeyError\u001b[0m: 'PPI_SINGLE'"
          ]
        }
      ]
    },
    {
      "cell_type": "code",
      "metadata": {
        "id": "LvlP_7rZ8kLo"
      },
      "source": [
        "drop_columns =['Insurance_Description','code','prdt_desc','category','PPI_SINGLE','PPI_JOINT','PPI_LCI']\n",
        "original_dataset.drop(drop_columns,inplace=True,axis=1)"
      ],
      "execution_count": null,
      "outputs": []
    },
    {
      "cell_type": "code",
      "metadata": {
        "id": "3avyzry78k6h"
      },
      "source": [
        "data_preprocessced = original_dataset"
      ],
      "execution_count": null,
      "outputs": []
    },
    {
      "cell_type": "code",
      "metadata": {
        "id": "-xPWi2xQ8oOO"
      },
      "source": [
        "data_ready_for_pipeline_train_test = data_preprocessced[data_preprocessced['PPI'].isin(['1'])]\n",
        "data_ready_for_pipeline_scoring = data_preprocessced[data_preprocessced['PPI'].isin(['0'])]"
      ],
      "execution_count": null,
      "outputs": []
    },
    {
      "cell_type": "code",
      "metadata": {
        "id": "O1sHd6Uh8qWA",
        "outputId": "44e0b050-56d5-4905-8563-bbecd98f9d44",
        "colab": {
          "base_uri": "https://localhost:8080/",
          "height": 1000
        }
      },
      "source": [
        "data_ready_for_pipeline_train_test.info()"
      ],
      "execution_count": null,
      "outputs": [
        {
          "output_type": "stream",
          "text": [
            "<class 'pandas.core.frame.DataFrame'>\n",
            "Int64Index: 9461 entries, 1 to 16381\n",
            "Data columns (total 53 columns):\n",
            " #   Column                            Non-Null Count  Dtype  \n",
            "---  ------                            --------------  -----  \n",
            " 0   Ref                               9461 non-null   int64  \n",
            " 1   Credit_Score                      9461 non-null   int64  \n",
            " 2   Final_Grade                       9461 non-null   object \n",
            " 3   Term                              9461 non-null   int64  \n",
            " 4   Net_Advance                       9461 non-null   float64\n",
            " 5   APR                               9461 non-null   float64\n",
            " 6   Loan_Type                         9461 non-null   object \n",
            " 7   Mosaic                            9461 non-null   int64  \n",
            " 8   Mosaic_Class                      9461 non-null   int64  \n",
            " 9   Time_at_Address                   9461 non-null   int64  \n",
            " 10  Residential_Status                9461 non-null   object \n",
            " 11  Telephone_Indicator               9461 non-null   object \n",
            " 12  Number_of_Dependants              9461 non-null   int64  \n",
            " 13  Marital_Status                    9461 non-null   object \n",
            " 14  Gender                            9461 non-null   object \n",
            " 15  Time_in_Employment                9461 non-null   int64  \n",
            " 16  Employment_Status                 9461 non-null   object \n",
            " 17  Full_Part_Time_Empl_Ind           9461 non-null   object \n",
            " 18  Perm_Temp_Empl_Ind                9461 non-null   object \n",
            " 19  Income_Range                      9461 non-null   int64  \n",
            " 20  Current_Account                   9461 non-null   object \n",
            " 21  ACCESS_Card                       9461 non-null   object \n",
            " 22  VISA_Card                         9461 non-null   object \n",
            " 23  American_Express                  9461 non-null   object \n",
            " 24  Diners_Card                       9461 non-null   object \n",
            " 25  Cheque_Guarantee                  9461 non-null   object \n",
            " 26  Other_Credit_Store_Card           9461 non-null   object \n",
            " 27  Time_with_Bank                    9461 non-null   int64  \n",
            " 28  Value_of_Property                 9461 non-null   int64  \n",
            " 29  Outstanding_Mortgage_Bal          9461 non-null   int64  \n",
            " 30  Total_Outstanding_Balances        9461 non-null   int64  \n",
            " 31  Bureau_Data___Monthly_Other_Co_R  9461 non-null   int64  \n",
            " 32  Worst_History_CT                  9461 non-null   int64  \n",
            " 33  Payment_Method                    9461 non-null   object \n",
            " 34  Age                               9461 non-null   int64  \n",
            " 35  Total_outstanding_balance__mortg  9461 non-null   int64  \n",
            " 36  Total___Public_Info___CCJ____ban  9461 non-null   int64  \n",
            " 37  Total_value__Public_Info___CCJ__  9461 non-null   int64  \n",
            " 38  Time_since_most_recent_Public_In  9461 non-null   int64  \n",
            " 39  Total_value__CAIS_8_9s            9461 non-null   int64  \n",
            " 40  Worst_status_L6m                  9461 non-null   int64  \n",
            " 41  Worst_CUrrent_Status              9461 non-null   int64  \n",
            " 42  __of_status_3_s_L6m               9461 non-null   int64  \n",
            " 43  Searches___Total___L6m            9461 non-null   int64  \n",
            " 44  Years_on_ER_for_SP                9461 non-null   int64  \n",
            " 45  Bankruptcy_Detected__SP_          9461 non-null   object \n",
            " 46  Total___outstanding_CCJ_s         9461 non-null   int64  \n",
            " 47  Total_outstanding_balance___excl  9461 non-null   int64  \n",
            " 48  Total___of_accounts               9461 non-null   int64  \n",
            " 49  CIFAS_detected                    9461 non-null   object \n",
            " 50  Time_since_most_recent_outstandi  9461 non-null   int64  \n",
            " 51  PPI                               9461 non-null   int64  \n",
            " 52  class                             9461 non-null   object \n",
            "dtypes: float64(2), int64(31), object(20)\n",
            "memory usage: 3.9+ MB\n"
          ],
          "name": "stdout"
        }
      ]
    },
    {
      "cell_type": "code",
      "metadata": {
        "id": "KdHUiX8l8r9q"
      },
      "source": [
        "drop_columns_for_pipeline=['PPI']"
      ],
      "execution_count": null,
      "outputs": []
    },
    {
      "cell_type": "code",
      "metadata": {
        "id": "t1fcduCK8y5f",
        "outputId": "a5733824-3bbc-47f8-9699-60fd999bdb7a",
        "colab": {
          "base_uri": "https://localhost:8080/",
          "height": 439
        }
      },
      "source": [
        "data_ready_for_pipeline_scoring.drop(columns=['class'])"
      ],
      "execution_count": null,
      "outputs": [
        {
          "output_type": "execute_result",
          "data": {
            "text/html": [
              "<div>\n",
              "<style scoped>\n",
              "    .dataframe tbody tr th:only-of-type {\n",
              "        vertical-align: middle;\n",
              "    }\n",
              "\n",
              "    .dataframe tbody tr th {\n",
              "        vertical-align: top;\n",
              "    }\n",
              "\n",
              "    .dataframe thead th {\n",
              "        text-align: right;\n",
              "    }\n",
              "</style>\n",
              "<table border=\"1\" class=\"dataframe\">\n",
              "  <thead>\n",
              "    <tr style=\"text-align: right;\">\n",
              "      <th></th>\n",
              "      <th>Ref</th>\n",
              "      <th>Credit_Score</th>\n",
              "      <th>Final_Grade</th>\n",
              "      <th>Term</th>\n",
              "      <th>Net_Advance</th>\n",
              "      <th>APR</th>\n",
              "      <th>Loan_Type</th>\n",
              "      <th>Mosaic</th>\n",
              "      <th>Mosaic_Class</th>\n",
              "      <th>Time_at_Address</th>\n",
              "      <th>Residential_Status</th>\n",
              "      <th>Telephone_Indicator</th>\n",
              "      <th>Number_of_Dependants</th>\n",
              "      <th>Marital_Status</th>\n",
              "      <th>Gender</th>\n",
              "      <th>Time_in_Employment</th>\n",
              "      <th>Employment_Status</th>\n",
              "      <th>Full_Part_Time_Empl_Ind</th>\n",
              "      <th>Perm_Temp_Empl_Ind</th>\n",
              "      <th>Income_Range</th>\n",
              "      <th>Current_Account</th>\n",
              "      <th>ACCESS_Card</th>\n",
              "      <th>VISA_Card</th>\n",
              "      <th>American_Express</th>\n",
              "      <th>Diners_Card</th>\n",
              "      <th>Cheque_Guarantee</th>\n",
              "      <th>Other_Credit_Store_Card</th>\n",
              "      <th>Time_with_Bank</th>\n",
              "      <th>Value_of_Property</th>\n",
              "      <th>Outstanding_Mortgage_Bal</th>\n",
              "      <th>Total_Outstanding_Balances</th>\n",
              "      <th>Bureau_Data___Monthly_Other_Co_R</th>\n",
              "      <th>Worst_History_CT</th>\n",
              "      <th>Payment_Method</th>\n",
              "      <th>Age</th>\n",
              "      <th>Total_outstanding_balance__mortg</th>\n",
              "      <th>Total___Public_Info___CCJ____ban</th>\n",
              "      <th>Total_value__Public_Info___CCJ__</th>\n",
              "      <th>Time_since_most_recent_Public_In</th>\n",
              "      <th>Total_value__CAIS_8_9s</th>\n",
              "      <th>Worst_status_L6m</th>\n",
              "      <th>Worst_CUrrent_Status</th>\n",
              "      <th>__of_status_3_s_L6m</th>\n",
              "      <th>Searches___Total___L6m</th>\n",
              "      <th>Years_on_ER_for_SP</th>\n",
              "      <th>Bankruptcy_Detected__SP_</th>\n",
              "      <th>Total___outstanding_CCJ_s</th>\n",
              "      <th>Total_outstanding_balance___excl</th>\n",
              "      <th>Total___of_accounts</th>\n",
              "      <th>CIFAS_detected</th>\n",
              "      <th>Time_since_most_recent_outstandi</th>\n",
              "      <th>PPI</th>\n",
              "    </tr>\n",
              "  </thead>\n",
              "  <tbody>\n",
              "    <tr>\n",
              "      <th>0</th>\n",
              "      <td>1</td>\n",
              "      <td>918</td>\n",
              "      <td>A</td>\n",
              "      <td>36</td>\n",
              "      <td>3000.0</td>\n",
              "      <td>14.4</td>\n",
              "      <td>UnSecured</td>\n",
              "      <td>46</td>\n",
              "      <td>8</td>\n",
              "      <td>132</td>\n",
              "      <td>H</td>\n",
              "      <td>Y</td>\n",
              "      <td>0</td>\n",
              "      <td>M</td>\n",
              "      <td>M</td>\n",
              "      <td>288</td>\n",
              "      <td>S</td>\n",
              "      <td>F</td>\n",
              "      <td>P</td>\n",
              "      <td>6</td>\n",
              "      <td>TRUE</td>\n",
              "      <td>FALSE</td>\n",
              "      <td>FALSE</td>\n",
              "      <td>FALSE</td>\n",
              "      <td>FALSE</td>\n",
              "      <td>TRUE</td>\n",
              "      <td>TRUE</td>\n",
              "      <td>168</td>\n",
              "      <td>178000</td>\n",
              "      <td>47679</td>\n",
              "      <td>64406</td>\n",
              "      <td>513</td>\n",
              "      <td>5</td>\n",
              "      <td>D</td>\n",
              "      <td>46</td>\n",
              "      <td>64</td>\n",
              "      <td>1</td>\n",
              "      <td>5</td>\n",
              "      <td>16</td>\n",
              "      <td>0</td>\n",
              "      <td>0</td>\n",
              "      <td>0</td>\n",
              "      <td>0</td>\n",
              "      <td>9</td>\n",
              "      <td>10</td>\n",
              "      <td>N</td>\n",
              "      <td>1</td>\n",
              "      <td>18</td>\n",
              "      <td>6</td>\n",
              "      <td>N</td>\n",
              "      <td>16</td>\n",
              "      <td>0</td>\n",
              "    </tr>\n",
              "    <tr>\n",
              "      <th>7</th>\n",
              "      <td>10</td>\n",
              "      <td>961</td>\n",
              "      <td>X</td>\n",
              "      <td>60</td>\n",
              "      <td>5300.0</td>\n",
              "      <td>11.9</td>\n",
              "      <td>secured</td>\n",
              "      <td>43</td>\n",
              "      <td>7</td>\n",
              "      <td>163</td>\n",
              "      <td>H</td>\n",
              "      <td>N</td>\n",
              "      <td>2</td>\n",
              "      <td>M</td>\n",
              "      <td>M</td>\n",
              "      <td>351</td>\n",
              "      <td>P</td>\n",
              "      <td>F</td>\n",
              "      <td>P</td>\n",
              "      <td>6</td>\n",
              "      <td>TRUE</td>\n",
              "      <td>FALSE</td>\n",
              "      <td>FALSE</td>\n",
              "      <td>FALSE</td>\n",
              "      <td>FALSE</td>\n",
              "      <td>TRUE</td>\n",
              "      <td>TRUE</td>\n",
              "      <td>243</td>\n",
              "      <td>92000</td>\n",
              "      <td>73386</td>\n",
              "      <td>84624</td>\n",
              "      <td>800</td>\n",
              "      <td>0</td>\n",
              "      <td>D</td>\n",
              "      <td>49</td>\n",
              "      <td>75</td>\n",
              "      <td>4</td>\n",
              "      <td>96</td>\n",
              "      <td>7</td>\n",
              "      <td>175</td>\n",
              "      <td>0</td>\n",
              "      <td>0</td>\n",
              "      <td>0</td>\n",
              "      <td>6</td>\n",
              "      <td>8</td>\n",
              "      <td>N</td>\n",
              "      <td>4</td>\n",
              "      <td>113</td>\n",
              "      <td>8</td>\n",
              "      <td>N</td>\n",
              "      <td>7</td>\n",
              "      <td>0</td>\n",
              "    </tr>\n",
              "    <tr>\n",
              "      <th>10</th>\n",
              "      <td>17</td>\n",
              "      <td>840</td>\n",
              "      <td>B</td>\n",
              "      <td>120</td>\n",
              "      <td>10150.0</td>\n",
              "      <td>12.4</td>\n",
              "      <td>secured</td>\n",
              "      <td>24</td>\n",
              "      <td>4</td>\n",
              "      <td>37</td>\n",
              "      <td>H</td>\n",
              "      <td>Y</td>\n",
              "      <td>2</td>\n",
              "      <td>M</td>\n",
              "      <td>M</td>\n",
              "      <td>58</td>\n",
              "      <td>P</td>\n",
              "      <td>F</td>\n",
              "      <td>P</td>\n",
              "      <td>6</td>\n",
              "      <td>TRUE</td>\n",
              "      <td>FALSE</td>\n",
              "      <td>TRUE</td>\n",
              "      <td>FALSE</td>\n",
              "      <td>FALSE</td>\n",
              "      <td>TRUE</td>\n",
              "      <td>FALSE</td>\n",
              "      <td>261</td>\n",
              "      <td>110000</td>\n",
              "      <td>97253</td>\n",
              "      <td>109231</td>\n",
              "      <td>706</td>\n",
              "      <td>4</td>\n",
              "      <td>D</td>\n",
              "      <td>27</td>\n",
              "      <td>99</td>\n",
              "      <td>0</td>\n",
              "      <td>0</td>\n",
              "      <td>99</td>\n",
              "      <td>27</td>\n",
              "      <td>0</td>\n",
              "      <td>0</td>\n",
              "      <td>0</td>\n",
              "      <td>4</td>\n",
              "      <td>3</td>\n",
              "      <td>N</td>\n",
              "      <td>0</td>\n",
              "      <td>120</td>\n",
              "      <td>7</td>\n",
              "      <td>N</td>\n",
              "      <td>99</td>\n",
              "      <td>0</td>\n",
              "    </tr>\n",
              "    <tr>\n",
              "      <th>14</th>\n",
              "      <td>24</td>\n",
              "      <td>896</td>\n",
              "      <td>A</td>\n",
              "      <td>37</td>\n",
              "      <td>5000.0</td>\n",
              "      <td>9.4</td>\n",
              "      <td>UnSecured</td>\n",
              "      <td>15</td>\n",
              "      <td>3</td>\n",
              "      <td>4</td>\n",
              "      <td>H</td>\n",
              "      <td>Y</td>\n",
              "      <td>0</td>\n",
              "      <td>D</td>\n",
              "      <td>M</td>\n",
              "      <td>240</td>\n",
              "      <td>P</td>\n",
              "      <td>F</td>\n",
              "      <td>P</td>\n",
              "      <td>5</td>\n",
              "      <td>TRUE</td>\n",
              "      <td>FALSE</td>\n",
              "      <td>TRUE</td>\n",
              "      <td>FALSE</td>\n",
              "      <td>FALSE</td>\n",
              "      <td>TRUE</td>\n",
              "      <td>FALSE</td>\n",
              "      <td>300</td>\n",
              "      <td>246000</td>\n",
              "      <td>127983</td>\n",
              "      <td>257560</td>\n",
              "      <td>1526</td>\n",
              "      <td>5</td>\n",
              "      <td>D</td>\n",
              "      <td>48</td>\n",
              "      <td>257</td>\n",
              "      <td>0</td>\n",
              "      <td>0</td>\n",
              "      <td>99</td>\n",
              "      <td>0</td>\n",
              "      <td>0</td>\n",
              "      <td>0</td>\n",
              "      <td>0</td>\n",
              "      <td>3</td>\n",
              "      <td>20</td>\n",
              "      <td>N</td>\n",
              "      <td>0</td>\n",
              "      <td>16</td>\n",
              "      <td>9</td>\n",
              "      <td>N</td>\n",
              "      <td>99</td>\n",
              "      <td>0</td>\n",
              "    </tr>\n",
              "    <tr>\n",
              "      <th>23</th>\n",
              "      <td>44</td>\n",
              "      <td>966</td>\n",
              "      <td>X</td>\n",
              "      <td>48</td>\n",
              "      <td>8000.0</td>\n",
              "      <td>7.9</td>\n",
              "      <td>UnSecured</td>\n",
              "      <td>24</td>\n",
              "      <td>4</td>\n",
              "      <td>156</td>\n",
              "      <td>H</td>\n",
              "      <td>Y</td>\n",
              "      <td>3</td>\n",
              "      <td>D</td>\n",
              "      <td>F</td>\n",
              "      <td>81</td>\n",
              "      <td>P</td>\n",
              "      <td>F</td>\n",
              "      <td>P</td>\n",
              "      <td>3</td>\n",
              "      <td>TRUE</td>\n",
              "      <td>TRUE</td>\n",
              "      <td>FALSE</td>\n",
              "      <td>FALSE</td>\n",
              "      <td>FALSE</td>\n",
              "      <td>TRUE</td>\n",
              "      <td>FALSE</td>\n",
              "      <td>168</td>\n",
              "      <td>85000</td>\n",
              "      <td>38650</td>\n",
              "      <td>39908</td>\n",
              "      <td>282</td>\n",
              "      <td>0</td>\n",
              "      <td>D</td>\n",
              "      <td>34</td>\n",
              "      <td>40</td>\n",
              "      <td>0</td>\n",
              "      <td>0</td>\n",
              "      <td>99</td>\n",
              "      <td>0</td>\n",
              "      <td>0</td>\n",
              "      <td>0</td>\n",
              "      <td>0</td>\n",
              "      <td>0</td>\n",
              "      <td>13</td>\n",
              "      <td>N</td>\n",
              "      <td>0</td>\n",
              "      <td>13</td>\n",
              "      <td>6</td>\n",
              "      <td>N</td>\n",
              "      <td>99</td>\n",
              "      <td>0</td>\n",
              "    </tr>\n",
              "    <tr>\n",
              "      <th>...</th>\n",
              "      <td>...</td>\n",
              "      <td>...</td>\n",
              "      <td>...</td>\n",
              "      <td>...</td>\n",
              "      <td>...</td>\n",
              "      <td>...</td>\n",
              "      <td>...</td>\n",
              "      <td>...</td>\n",
              "      <td>...</td>\n",
              "      <td>...</td>\n",
              "      <td>...</td>\n",
              "      <td>...</td>\n",
              "      <td>...</td>\n",
              "      <td>...</td>\n",
              "      <td>...</td>\n",
              "      <td>...</td>\n",
              "      <td>...</td>\n",
              "      <td>...</td>\n",
              "      <td>...</td>\n",
              "      <td>...</td>\n",
              "      <td>...</td>\n",
              "      <td>...</td>\n",
              "      <td>...</td>\n",
              "      <td>...</td>\n",
              "      <td>...</td>\n",
              "      <td>...</td>\n",
              "      <td>...</td>\n",
              "      <td>...</td>\n",
              "      <td>...</td>\n",
              "      <td>...</td>\n",
              "      <td>...</td>\n",
              "      <td>...</td>\n",
              "      <td>...</td>\n",
              "      <td>...</td>\n",
              "      <td>...</td>\n",
              "      <td>...</td>\n",
              "      <td>...</td>\n",
              "      <td>...</td>\n",
              "      <td>...</td>\n",
              "      <td>...</td>\n",
              "      <td>...</td>\n",
              "      <td>...</td>\n",
              "      <td>...</td>\n",
              "      <td>...</td>\n",
              "      <td>...</td>\n",
              "      <td>...</td>\n",
              "      <td>...</td>\n",
              "      <td>...</td>\n",
              "      <td>...</td>\n",
              "      <td>...</td>\n",
              "      <td>...</td>\n",
              "      <td>...</td>\n",
              "    </tr>\n",
              "    <tr>\n",
              "      <th>16376</th>\n",
              "      <td>42060</td>\n",
              "      <td>922</td>\n",
              "      <td>A</td>\n",
              "      <td>60</td>\n",
              "      <td>1500.0</td>\n",
              "      <td>19.9</td>\n",
              "      <td>UnSecured</td>\n",
              "      <td>46</td>\n",
              "      <td>8</td>\n",
              "      <td>420</td>\n",
              "      <td>L</td>\n",
              "      <td>Y</td>\n",
              "      <td>0</td>\n",
              "      <td>S</td>\n",
              "      <td>F</td>\n",
              "      <td>78</td>\n",
              "      <td>P</td>\n",
              "      <td>F</td>\n",
              "      <td>P</td>\n",
              "      <td>2</td>\n",
              "      <td>TRUE</td>\n",
              "      <td>FALSE</td>\n",
              "      <td>FALSE</td>\n",
              "      <td>FALSE</td>\n",
              "      <td>FALSE</td>\n",
              "      <td>TRUE</td>\n",
              "      <td>FALSE</td>\n",
              "      <td>336</td>\n",
              "      <td>120000</td>\n",
              "      <td>0</td>\n",
              "      <td>787</td>\n",
              "      <td>10</td>\n",
              "      <td>0</td>\n",
              "      <td>D</td>\n",
              "      <td>36</td>\n",
              "      <td>0</td>\n",
              "      <td>0</td>\n",
              "      <td>0</td>\n",
              "      <td>99</td>\n",
              "      <td>0</td>\n",
              "      <td>1</td>\n",
              "      <td>0</td>\n",
              "      <td>0</td>\n",
              "      <td>2</td>\n",
              "      <td>3</td>\n",
              "      <td>N</td>\n",
              "      <td>0</td>\n",
              "      <td>8</td>\n",
              "      <td>9</td>\n",
              "      <td>N</td>\n",
              "      <td>99</td>\n",
              "      <td>0</td>\n",
              "    </tr>\n",
              "    <tr>\n",
              "      <th>16377</th>\n",
              "      <td>42064</td>\n",
              "      <td>915</td>\n",
              "      <td>A</td>\n",
              "      <td>36</td>\n",
              "      <td>1000.0</td>\n",
              "      <td>21.9</td>\n",
              "      <td>UnSecured</td>\n",
              "      <td>47</td>\n",
              "      <td>8</td>\n",
              "      <td>179</td>\n",
              "      <td>H</td>\n",
              "      <td>Y</td>\n",
              "      <td>2</td>\n",
              "      <td>M</td>\n",
              "      <td>F</td>\n",
              "      <td>108</td>\n",
              "      <td>S</td>\n",
              "      <td>F</td>\n",
              "      <td>P</td>\n",
              "      <td>2</td>\n",
              "      <td>TRUE</td>\n",
              "      <td>FALSE</td>\n",
              "      <td>TRUE</td>\n",
              "      <td>FALSE</td>\n",
              "      <td>FALSE</td>\n",
              "      <td>FALS</td>\n",
              "      <td>FALSE</td>\n",
              "      <td>120</td>\n",
              "      <td>110000</td>\n",
              "      <td>25000</td>\n",
              "      <td>29736</td>\n",
              "      <td>360</td>\n",
              "      <td>0</td>\n",
              "      <td>D</td>\n",
              "      <td>38</td>\n",
              "      <td>30</td>\n",
              "      <td>0</td>\n",
              "      <td>0</td>\n",
              "      <td>99</td>\n",
              "      <td>0</td>\n",
              "      <td>0</td>\n",
              "      <td>0</td>\n",
              "      <td>0</td>\n",
              "      <td>0</td>\n",
              "      <td>9</td>\n",
              "      <td>N</td>\n",
              "      <td>0</td>\n",
              "      <td>17</td>\n",
              "      <td>6</td>\n",
              "      <td>N</td>\n",
              "      <td>99</td>\n",
              "      <td>0</td>\n",
              "    </tr>\n",
              "    <tr>\n",
              "      <th>16378</th>\n",
              "      <td>42067</td>\n",
              "      <td>952</td>\n",
              "      <td>X</td>\n",
              "      <td>60</td>\n",
              "      <td>5000.0</td>\n",
              "      <td>8.9</td>\n",
              "      <td>UnSecured</td>\n",
              "      <td>59</td>\n",
              "      <td>11</td>\n",
              "      <td>193</td>\n",
              "      <td>H</td>\n",
              "      <td>Y</td>\n",
              "      <td>0</td>\n",
              "      <td>S</td>\n",
              "      <td>F</td>\n",
              "      <td>57</td>\n",
              "      <td>P</td>\n",
              "      <td>F</td>\n",
              "      <td>P</td>\n",
              "      <td>2</td>\n",
              "      <td>TRUE</td>\n",
              "      <td>FALSE</td>\n",
              "      <td>TRUE</td>\n",
              "      <td>FALSE</td>\n",
              "      <td>FALSE</td>\n",
              "      <td>FALS</td>\n",
              "      <td>TRUE</td>\n",
              "      <td>225</td>\n",
              "      <td>465000</td>\n",
              "      <td>230000</td>\n",
              "      <td>239597</td>\n",
              "      <td>1150</td>\n",
              "      <td>0</td>\n",
              "      <td>D</td>\n",
              "      <td>46</td>\n",
              "      <td>237</td>\n",
              "      <td>0</td>\n",
              "      <td>0</td>\n",
              "      <td>99</td>\n",
              "      <td>0</td>\n",
              "      <td>1</td>\n",
              "      <td>0</td>\n",
              "      <td>0</td>\n",
              "      <td>0</td>\n",
              "      <td>0</td>\n",
              "      <td>N</td>\n",
              "      <td>0</td>\n",
              "      <td>43</td>\n",
              "      <td>5</td>\n",
              "      <td>N</td>\n",
              "      <td>99</td>\n",
              "      <td>0</td>\n",
              "    </tr>\n",
              "    <tr>\n",
              "      <th>16379</th>\n",
              "      <td>42068</td>\n",
              "      <td>922</td>\n",
              "      <td>A</td>\n",
              "      <td>60</td>\n",
              "      <td>7500.0</td>\n",
              "      <td>7.9</td>\n",
              "      <td>UnSecured</td>\n",
              "      <td>55</td>\n",
              "      <td>10</td>\n",
              "      <td>1</td>\n",
              "      <td>H</td>\n",
              "      <td>Y</td>\n",
              "      <td>0</td>\n",
              "      <td>S</td>\n",
              "      <td>M</td>\n",
              "      <td>36</td>\n",
              "      <td>P</td>\n",
              "      <td>F</td>\n",
              "      <td>P</td>\n",
              "      <td>4</td>\n",
              "      <td>TRUE</td>\n",
              "      <td>TRUE</td>\n",
              "      <td>TRUE</td>\n",
              "      <td>FALSE</td>\n",
              "      <td>FALSE</td>\n",
              "      <td>FALS</td>\n",
              "      <td>FALSE</td>\n",
              "      <td>240</td>\n",
              "      <td>135000</td>\n",
              "      <td>122085</td>\n",
              "      <td>127002</td>\n",
              "      <td>639</td>\n",
              "      <td>4</td>\n",
              "      <td>D</td>\n",
              "      <td>32</td>\n",
              "      <td>124</td>\n",
              "      <td>0</td>\n",
              "      <td>0</td>\n",
              "      <td>99</td>\n",
              "      <td>0</td>\n",
              "      <td>0</td>\n",
              "      <td>0</td>\n",
              "      <td>0</td>\n",
              "      <td>2</td>\n",
              "      <td>0</td>\n",
              "      <td>N</td>\n",
              "      <td>0</td>\n",
              "      <td>50</td>\n",
              "      <td>8</td>\n",
              "      <td>N</td>\n",
              "      <td>99</td>\n",
              "      <td>0</td>\n",
              "    </tr>\n",
              "    <tr>\n",
              "      <th>16382</th>\n",
              "      <td>42072</td>\n",
              "      <td>905</td>\n",
              "      <td>A</td>\n",
              "      <td>60</td>\n",
              "      <td>8460.0</td>\n",
              "      <td>7.9</td>\n",
              "      <td>UnSecured</td>\n",
              "      <td>44</td>\n",
              "      <td>8</td>\n",
              "      <td>180</td>\n",
              "      <td>H</td>\n",
              "      <td>Y</td>\n",
              "      <td>0</td>\n",
              "      <td>M</td>\n",
              "      <td>F</td>\n",
              "      <td>3</td>\n",
              "      <td>P</td>\n",
              "      <td>F</td>\n",
              "      <td>P</td>\n",
              "      <td>4</td>\n",
              "      <td>TRUE</td>\n",
              "      <td>FALSE</td>\n",
              "      <td>TRUE</td>\n",
              "      <td>FALSE</td>\n",
              "      <td>FALSE</td>\n",
              "      <td>TRUE</td>\n",
              "      <td>FALSE</td>\n",
              "      <td>108</td>\n",
              "      <td>125000</td>\n",
              "      <td>470000</td>\n",
              "      <td>68270</td>\n",
              "      <td>582</td>\n",
              "      <td>0</td>\n",
              "      <td>D</td>\n",
              "      <td>53</td>\n",
              "      <td>47</td>\n",
              "      <td>0</td>\n",
              "      <td>0</td>\n",
              "      <td>99</td>\n",
              "      <td>0</td>\n",
              "      <td>0</td>\n",
              "      <td>0</td>\n",
              "      <td>0</td>\n",
              "      <td>3</td>\n",
              "      <td>14</td>\n",
              "      <td>N</td>\n",
              "      <td>0</td>\n",
              "      <td>229</td>\n",
              "      <td>7</td>\n",
              "      <td>N</td>\n",
              "      <td>99</td>\n",
              "      <td>0</td>\n",
              "    </tr>\n",
              "  </tbody>\n",
              "</table>\n",
              "<p>6922 rows × 52 columns</p>\n",
              "</div>"
            ],
            "text/plain": [
              "         Ref  Credit_Score  ... Time_since_most_recent_outstandi  PPI\n",
              "0          1           918  ...                               16    0\n",
              "7         10           961  ...                                7    0\n",
              "10        17           840  ...                               99    0\n",
              "14        24           896  ...                               99    0\n",
              "23        44           966  ...                               99    0\n",
              "...      ...           ...  ...                              ...  ...\n",
              "16376  42060           922  ...                               99    0\n",
              "16377  42064           915  ...                               99    0\n",
              "16378  42067           952  ...                               99    0\n",
              "16379  42068           922  ...                               99    0\n",
              "16382  42072           905  ...                               99    0\n",
              "\n",
              "[6922 rows x 52 columns]"
            ]
          },
          "metadata": {
            "tags": []
          },
          "execution_count": 20
        }
      ]
    },
    {
      "cell_type": "code",
      "metadata": {
        "id": "mqEDhURg81SR",
        "outputId": "31b3fc7f-7656-4f08-d65c-6e1bab3ee5ba",
        "colab": {
          "base_uri": "https://localhost:8080/",
          "height": 119
        }
      },
      "source": [
        "product_map_status={'lci':1,'single':2,'joint':3}\n",
        "data_ready_for_pipeline_train_test['class'] = data_ready_for_pipeline_train_test['class'].map(product_map_status)"
      ],
      "execution_count": null,
      "outputs": [
        {
          "output_type": "stream",
          "text": [
            "/usr/local/lib/python3.6/dist-packages/ipykernel_launcher.py:2: SettingWithCopyWarning: \n",
            "A value is trying to be set on a copy of a slice from a DataFrame.\n",
            "Try using .loc[row_indexer,col_indexer] = value instead\n",
            "\n",
            "See the caveats in the documentation: https://pandas.pydata.org/pandas-docs/stable/user_guide/indexing.html#returning-a-view-versus-a-copy\n",
            "  \n"
          ],
          "name": "stderr"
        }
      ]
    },
    {
      "cell_type": "code",
      "metadata": {
        "id": "WIUH7UTy9Ksf"
      },
      "source": [
        "y = data_ready_for_pipeline_train_test.pop('class')"
      ],
      "execution_count": null,
      "outputs": []
    },
    {
      "cell_type": "code",
      "metadata": {
        "id": "2uRtQnCE9Mld"
      },
      "source": [
        "X = data_ready_for_pipeline_train_test"
      ],
      "execution_count": null,
      "outputs": []
    },
    {
      "cell_type": "code",
      "metadata": {
        "id": "kXV9XUi49OCc",
        "outputId": "c4f31827-38d8-4730-f32f-60fb9d608c69",
        "colab": {
          "base_uri": "https://localhost:8080/",
          "height": 1000
        }
      },
      "source": [
        "X.info()\n"
      ],
      "execution_count": null,
      "outputs": [
        {
          "output_type": "stream",
          "text": [
            "<class 'pandas.core.frame.DataFrame'>\n",
            "Int64Index: 9461 entries, 1 to 16381\n",
            "Data columns (total 51 columns):\n",
            " #   Column                            Non-Null Count  Dtype  \n",
            "---  ------                            --------------  -----  \n",
            " 0   Ref                               9461 non-null   int64  \n",
            " 1   Credit_Score                      9461 non-null   int64  \n",
            " 2   Final_Grade                       9461 non-null   object \n",
            " 3   Term                              9461 non-null   int64  \n",
            " 4   Net_Advance                       9461 non-null   float64\n",
            " 5   APR                               9461 non-null   float64\n",
            " 6   Loan_Type                         9461 non-null   object \n",
            " 7   Mosaic                            9461 non-null   int64  \n",
            " 8   Mosaic_Class                      9461 non-null   int64  \n",
            " 9   Time_at_Address                   9461 non-null   int64  \n",
            " 10  Residential_Status                9461 non-null   object \n",
            " 11  Telephone_Indicator               9461 non-null   object \n",
            " 12  Number_of_Dependants              9461 non-null   int64  \n",
            " 13  Marital_Status                    9461 non-null   object \n",
            " 14  Gender                            9461 non-null   object \n",
            " 15  Time_in_Employment                9461 non-null   int64  \n",
            " 16  Employment_Status                 9461 non-null   object \n",
            " 17  Full_Part_Time_Empl_Ind           9461 non-null   object \n",
            " 18  Perm_Temp_Empl_Ind                9461 non-null   object \n",
            " 19  Income_Range                      9461 non-null   int64  \n",
            " 20  Current_Account                   9461 non-null   object \n",
            " 21  ACCESS_Card                       9461 non-null   object \n",
            " 22  VISA_Card                         9461 non-null   object \n",
            " 23  American_Express                  9461 non-null   object \n",
            " 24  Diners_Card                       9461 non-null   object \n",
            " 25  Cheque_Guarantee                  9461 non-null   object \n",
            " 26  Other_Credit_Store_Card           9461 non-null   object \n",
            " 27  Time_with_Bank                    9461 non-null   int64  \n",
            " 28  Value_of_Property                 9461 non-null   int64  \n",
            " 29  Outstanding_Mortgage_Bal          9461 non-null   int64  \n",
            " 30  Total_Outstanding_Balances        9461 non-null   int64  \n",
            " 31  Bureau_Data___Monthly_Other_Co_R  9461 non-null   int64  \n",
            " 32  Worst_History_CT                  9461 non-null   int64  \n",
            " 33  Payment_Method                    9461 non-null   object \n",
            " 34  Age                               9461 non-null   int64  \n",
            " 35  Total_outstanding_balance__mortg  9461 non-null   int64  \n",
            " 36  Total___Public_Info___CCJ____ban  9461 non-null   int64  \n",
            " 37  Total_value__Public_Info___CCJ__  9461 non-null   int64  \n",
            " 38  Time_since_most_recent_Public_In  9461 non-null   int64  \n",
            " 39  Total_value__CAIS_8_9s            9461 non-null   int64  \n",
            " 40  Worst_status_L6m                  9461 non-null   int64  \n",
            " 41  Worst_CUrrent_Status              9461 non-null   int64  \n",
            " 42  __of_status_3_s_L6m               9461 non-null   int64  \n",
            " 43  Searches___Total___L6m            9461 non-null   int64  \n",
            " 44  Years_on_ER_for_SP                9461 non-null   int64  \n",
            " 45  Bankruptcy_Detected__SP_          9461 non-null   object \n",
            " 46  Total___outstanding_CCJ_s         9461 non-null   int64  \n",
            " 47  Total_outstanding_balance___excl  9461 non-null   int64  \n",
            " 48  Total___of_accounts               9461 non-null   int64  \n",
            " 49  CIFAS_detected                    9461 non-null   object \n",
            " 50  Time_since_most_recent_outstandi  9461 non-null   int64  \n",
            "dtypes: float64(2), int64(30), object(19)\n",
            "memory usage: 3.8+ MB\n"
          ],
          "name": "stdout"
        }
      ]
    },
    {
      "cell_type": "code",
      "metadata": {
        "id": "aB0bu17S9Pk7"
      },
      "source": [
        "num_vars =['Credit_Score','Term','Net_Advance','APR','Mosaic','Time_at_Address','Number_of_Dependants','Time_in_Employment','Time_with_Bank','Outstanding_Mortgage_Bal','Total_Outstanding_Balances','Bureau_Data___Monthly_Other_Co_R','Age','Total_outstanding_balance__mortg','Total_value__Public_Info___CCJ__','Time_since_most_recent_Public_In','Total_value__CAIS_8_9s','Searches___Total___L6m','Years_on_ER_for_SP','Total_outstanding_balance___excl','Total___of_accounts','Time_since_most_recent_outstandi']\n",
        "cat_vars=['Final_Grade','Loan_Type','Mosaic_Class','Residential_Status','Telephone_Indicator','Marital_Status','Gender','Employment_Status','Full_Part_Time_Empl_Ind','Perm_Temp_Empl_Ind','Income_Range','Current_Account','ACCESS_Card','VISA_Card','American_Express','Diners_Card','Cheque_Guarantee','Other_Credit_Store_Card','Worst_History_CT','Payment_Method','Total___Public_Info___CCJ____ban','Worst_status_L6m','Worst_CUrrent_Status','__of_status_3_s_L6m','Bankruptcy_Detected__SP_','Total___outstanding_CCJ_s','CIFAS_detected']"
      ],
      "execution_count": null,
      "outputs": []
    },
    {
      "cell_type": "code",
      "metadata": {
        "id": "y_aQqpu_9UPG"
      },
      "source": [
        "X_train, X_test, y_train, y_test = train_test_split(X,y,test_size=0.20, random_state = 50)"
      ],
      "execution_count": null,
      "outputs": []
    },
    {
      "cell_type": "code",
      "metadata": {
        "id": "yt17khu89Waw",
        "outputId": "bc1ea667-0a6b-481e-fa76-d412e837e075",
        "colab": {
          "base_uri": "https://localhost:8080/",
          "height": 901
        }
      },
      "source": [
        "X_train.dtypes"
      ],
      "execution_count": null,
      "outputs": [
        {
          "output_type": "execute_result",
          "data": {
            "text/plain": [
              "Ref                                   int64\n",
              "Credit_Score                          int64\n",
              "Final_Grade                          object\n",
              "Term                                  int64\n",
              "Net_Advance                         float64\n",
              "APR                                 float64\n",
              "Loan_Type                            object\n",
              "Mosaic                                int64\n",
              "Mosaic_Class                          int64\n",
              "Time_at_Address                       int64\n",
              "Residential_Status                   object\n",
              "Telephone_Indicator                  object\n",
              "Number_of_Dependants                  int64\n",
              "Marital_Status                       object\n",
              "Gender                               object\n",
              "Time_in_Employment                    int64\n",
              "Employment_Status                    object\n",
              "Full_Part_Time_Empl_Ind              object\n",
              "Perm_Temp_Empl_Ind                   object\n",
              "Income_Range                          int64\n",
              "Current_Account                      object\n",
              "ACCESS_Card                          object\n",
              "VISA_Card                            object\n",
              "American_Express                     object\n",
              "Diners_Card                          object\n",
              "Cheque_Guarantee                     object\n",
              "Other_Credit_Store_Card              object\n",
              "Time_with_Bank                        int64\n",
              "Value_of_Property                     int64\n",
              "Outstanding_Mortgage_Bal              int64\n",
              "Total_Outstanding_Balances            int64\n",
              "Bureau_Data___Monthly_Other_Co_R      int64\n",
              "Worst_History_CT                      int64\n",
              "Payment_Method                       object\n",
              "Age                                   int64\n",
              "Total_outstanding_balance__mortg      int64\n",
              "Total___Public_Info___CCJ____ban      int64\n",
              "Total_value__Public_Info___CCJ__      int64\n",
              "Time_since_most_recent_Public_In      int64\n",
              "Total_value__CAIS_8_9s                int64\n",
              "Worst_status_L6m                      int64\n",
              "Worst_CUrrent_Status                  int64\n",
              "__of_status_3_s_L6m                   int64\n",
              "Searches___Total___L6m                int64\n",
              "Years_on_ER_for_SP                    int64\n",
              "Bankruptcy_Detected__SP_             object\n",
              "Total___outstanding_CCJ_s             int64\n",
              "Total_outstanding_balance___excl      int64\n",
              "Total___of_accounts                   int64\n",
              "CIFAS_detected                       object\n",
              "Time_since_most_recent_outstandi      int64\n",
              "dtype: object"
            ]
          },
          "metadata": {
            "tags": []
          },
          "execution_count": 27
        }
      ]
    },
    {
      "cell_type": "code",
      "metadata": {
        "id": "vwVorXR_9YJz"
      },
      "source": [
        "features_to_encode = X_train.columns[X_train.dtypes==object].tolist()"
      ],
      "execution_count": null,
      "outputs": []
    },
    {
      "cell_type": "code",
      "metadata": {
        "id": "QaEpvtKn9b28"
      },
      "source": [
        "from sklearn.compose import make_column_transformer\n",
        "from sklearn.preprocessing import OneHotEncoder\n",
        "\n",
        "col_trans = make_column_transformer(\n",
        "                        (OneHotEncoder(),features_to_encode),\n",
        "                        remainder = \"passthrough\"\n",
        "                        )"
      ],
      "execution_count": null,
      "outputs": []
    },
    {
      "cell_type": "code",
      "metadata": {
        "id": "pPH4rnZ79duw"
      },
      "source": [
        "from sklearn.ensemble import RandomForestClassifier\n",
        "rf_classifier = RandomForestClassifier(\n",
        "                      min_samples_leaf=50,\n",
        "                      n_estimators=150,\n",
        "                      bootstrap=True,\n",
        "                      oob_score=True,\n",
        "                      n_jobs=-1,\n",
        "                      random_state=50,\n",
        "                      max_features='auto')"
      ],
      "execution_count": null,
      "outputs": []
    },
    {
      "cell_type": "code",
      "metadata": {
        "id": "cmz5Ugiv9gHI",
        "outputId": "315c6f74-4b1d-4728-c2b9-08c7045b9857",
        "colab": {
          "base_uri": "https://localhost:8080/",
          "height": 476
        }
      },
      "source": [
        "pipe = make_pipeline(col_trans, rf_classifier)\n",
        "pipe.fit(X_train, y_train)"
      ],
      "execution_count": null,
      "outputs": [
        {
          "output_type": "execute_result",
          "data": {
            "text/plain": [
              "Pipeline(memory=None,\n",
              "         steps=[('columntransformer',\n",
              "                 ColumnTransformer(n_jobs=None, remainder='passthrough',\n",
              "                                   sparse_threshold=0.3,\n",
              "                                   transformer_weights=None,\n",
              "                                   transformers=[('onehotencoder',\n",
              "                                                  OneHotEncoder(categories='auto',\n",
              "                                                                drop=None,\n",
              "                                                                dtype=<class 'numpy.float64'>,\n",
              "                                                                handle_unknown='error',\n",
              "                                                                sparse=True),\n",
              "                                                  ['Final_Grade', 'Loan_Type',\n",
              "                                                   'Residential_Status',\n",
              "                                                   'Telephone_Indi...\n",
              "                 RandomForestClassifier(bootstrap=True, ccp_alpha=0.0,\n",
              "                                        class_weight=None, criterion='gini',\n",
              "                                        max_depth=None, max_features='auto',\n",
              "                                        max_leaf_nodes=None, max_samples=None,\n",
              "                                        min_impurity_decrease=0.0,\n",
              "                                        min_impurity_split=None,\n",
              "                                        min_samples_leaf=50,\n",
              "                                        min_samples_split=2,\n",
              "                                        min_weight_fraction_leaf=0.0,\n",
              "                                        n_estimators=150, n_jobs=-1,\n",
              "                                        oob_score=True, random_state=50,\n",
              "                                        verbose=0, warm_start=False))],\n",
              "         verbose=False)"
            ]
          },
          "metadata": {
            "tags": []
          },
          "execution_count": 32
        }
      ]
    },
    {
      "cell_type": "code",
      "metadata": {
        "id": "gxbsUKJL9jbF"
      },
      "source": [
        "y_pred = pipe.predict(X_test)"
      ],
      "execution_count": null,
      "outputs": []
    },
    {
      "cell_type": "code",
      "metadata": {
        "id": "mXMyGpmg9lte",
        "outputId": "b146f261-1813-4c44-b643-2b9044393337",
        "colab": {
          "base_uri": "https://localhost:8080/",
          "height": 34
        }
      },
      "source": [
        "from sklearn.metrics import accuracy_score, confusion_matrix, precision_score, recall_score, roc_auc_score, roc_curve, f1_score\n",
        "accuracy_score(y_test, y_pred)\n",
        "print(f\"The accuracy of the model is {round(accuracy_score(y_test,y_pred),3)*100} %\")"
      ],
      "execution_count": null,
      "outputs": [
        {
          "output_type": "stream",
          "text": [
            "The accuracy of the model is 68.4 %\n"
          ],
          "name": "stdout"
        }
      ]
    },
    {
      "cell_type": "code",
      "metadata": {
        "id": "aQJipgzO9zMo"
      },
      "source": [
        "train_probs = pipe.predict_proba(X_train)[:,1] \n",
        "probs = pipe.predict_proba(X_test)[:, 1]\n",
        "train_predictions = pipe.predict(X_train)"
      ],
      "execution_count": null,
      "outputs": []
    },
    {
      "cell_type": "code",
      "metadata": {
        "id": "9VMSOJHp938X",
        "outputId": "ac4034d2-b7c6-4dc3-e21d-cda3a9682694",
        "colab": {
          "base_uri": "https://localhost:8080/",
          "height": 299
        }
      },
      "source": [
        "print(f'Train ROC AUC Score: {roc_auc_score(y_train, train_probs)}')\n",
        "print(f'Test ROC AUC  Score: {roc_auc_score(y_test, probs)}')"
      ],
      "execution_count": null,
      "outputs": [
        {
          "output_type": "error",
          "ename": "ValueError",
          "evalue": "ignored",
          "traceback": [
            "\u001b[0;31m---------------------------------------------------------------------------\u001b[0m",
            "\u001b[0;31mValueError\u001b[0m                                Traceback (most recent call last)",
            "\u001b[0;32m<ipython-input-36-15fe2f3709ce>\u001b[0m in \u001b[0;36m<module>\u001b[0;34m()\u001b[0m\n\u001b[0;32m----> 1\u001b[0;31m \u001b[0mprint\u001b[0m\u001b[0;34m(\u001b[0m\u001b[0;34mf'Train ROC AUC Score: {roc_auc_score(y_train, train_probs)}'\u001b[0m\u001b[0;34m)\u001b[0m\u001b[0;34m\u001b[0m\u001b[0;34m\u001b[0m\u001b[0m\n\u001b[0m\u001b[1;32m      2\u001b[0m \u001b[0mprint\u001b[0m\u001b[0;34m(\u001b[0m\u001b[0;34mf'Test ROC AUC  Score: {roc_auc_score(y_test, probs)}'\u001b[0m\u001b[0;34m)\u001b[0m\u001b[0;34m\u001b[0m\u001b[0;34m\u001b[0m\u001b[0m\n",
            "\u001b[0;32m/usr/local/lib/python3.6/dist-packages/sklearn/metrics/_ranking.py\u001b[0m in \u001b[0;36mroc_auc_score\u001b[0;34m(y_true, y_score, average, sample_weight, max_fpr, multi_class, labels)\u001b[0m\n\u001b[1;32m    379\u001b[0m                              \"instead\".format(max_fpr))\n\u001b[1;32m    380\u001b[0m         \u001b[0;32mif\u001b[0m \u001b[0mmulti_class\u001b[0m \u001b[0;34m==\u001b[0m \u001b[0;34m'raise'\u001b[0m\u001b[0;34m:\u001b[0m\u001b[0;34m\u001b[0m\u001b[0;34m\u001b[0m\u001b[0m\n\u001b[0;32m--> 381\u001b[0;31m             \u001b[0;32mraise\u001b[0m \u001b[0mValueError\u001b[0m\u001b[0;34m(\u001b[0m\u001b[0;34m\"multi_class must be in ('ovo', 'ovr')\"\u001b[0m\u001b[0;34m)\u001b[0m\u001b[0;34m\u001b[0m\u001b[0;34m\u001b[0m\u001b[0m\n\u001b[0m\u001b[1;32m    382\u001b[0m         return _multiclass_roc_auc_score(y_true, y_score, labels,\n\u001b[1;32m    383\u001b[0m                                          multi_class, average, sample_weight)\n",
            "\u001b[0;31mValueError\u001b[0m: multi_class must be in ('ovo', 'ovr')"
          ]
        }
      ]
    },
    {
      "cell_type": "code",
      "metadata": {
        "id": "xH-oMaV497mp",
        "outputId": "e9d0e52c-c796-4e7f-c5ad-a3737d570e9e",
        "colab": {
          "base_uri": "https://localhost:8080/",
          "height": 616
        }
      },
      "source": [
        "import itertools\n",
        "import numpy as np\n",
        "def plot_confusion_matrix(cm, classes, normalize = False,\n",
        "                          title='Confusion matrix',\n",
        "                          cmap=plt.cm.Greens): # can change color \n",
        "    plt.figure(figsize = (10, 10))\n",
        "    plt.imshow(cm, interpolation='nearest', cmap=cmap)\n",
        "    plt.title(title, size = 24)\n",
        "    plt.colorbar(aspect=4)\n",
        "    tick_marks = np.arange(len(classes))\n",
        "    plt.xticks(tick_marks, classes, rotation=45, size = 14)\n",
        "    plt.yticks(tick_marks, classes, size = 14)\n",
        "    fmt = '.2f' if normalize else 'd'\n",
        "    thresh = cm.max() / 2.\n",
        "    # Label the plot\n",
        "    for i, j in itertools.product(range(cm.shape[0]),   range(cm.shape[1])):\n",
        "     plt.text(j, i, format(cm[i, j], fmt), \n",
        "             fontsize = 20,\n",
        "             horizontalalignment=\"center\",\n",
        "             color=\"white\" if cm[i, j] > thresh else \"black\")\n",
        "    plt.grid(None)\n",
        "    plt.tight_layout()\n",
        "    plt.ylabel('True label', size = 18)\n",
        "    plt.xlabel('Predicted label', size = 18)\n",
        "\n",
        "# Let's plot it out\n",
        "cm = confusion_matrix(y_test, y_pred)\n",
        "plot_confusion_matrix(cm, classes = ['1 - lci', '2 - single', '3 - joint'],\n",
        "                      title = 'Exit_status Confusion Matrix')"
      ],
      "execution_count": null,
      "outputs": [
        {
          "output_type": "display_data",
          "data": {
            "image/png": "[encoded data removed]",
            "text/plain": [
              "<Figure size 720x720 with 2 Axes>"
            ]
          },
          "metadata": {
            "tags": [],
            "needs_background": "light"
          }
        }
      ]
    },
    {
      "cell_type": "code",
      "metadata": {
        "id": "dO8h1SVX-KUR",
        "outputId": "5366a0ac-e9b6-4755-d401-8f1dc667d9db",
        "colab": {
          "base_uri": "https://localhost:8080/",
          "height": 425
        }
      },
      "source": [
        "print(rf_classifier.feature_importances_)\n",
        "print(f\" There are {len(rf_classifier.feature_importances_)} features in total\")\n"
      ],
      "execution_count": null,
      "outputs": [
        {
          "output_type": "stream",
          "text": [
            "[3.27226657e-03 1.33756340e-03 6.20369335e-04 2.95911099e-04\n",
            " 2.00272580e-04 6.25147287e-05 0.00000000e+00 0.00000000e+00\n",
            " 0.00000000e+00 1.74279024e-03 1.78977469e-03 2.66798835e-03\n",
            " 7.93507697e-03 9.78855549e-03 0.00000000e+00 1.52983975e-03\n",
            " 5.34639009e-05 2.53922048e-04 7.49311290e-03 6.60440281e-02\n",
            " 3.37964179e-02 9.29259099e-03 5.02530543e-03 5.27030174e-03\n",
            " 3.05196281e-02 1.06623988e-02 0.00000000e+00 0.00000000e+00\n",
            " 7.36398436e-02 9.94818034e-02 3.54197316e-03 0.00000000e+00\n",
            " 0.00000000e+00 0.00000000e+00 0.00000000e+00 0.00000000e+00\n",
            " 0.00000000e+00 0.00000000e+00 0.00000000e+00 1.28934276e-03\n",
            " 1.82336820e-03 1.40787211e-03 1.64973901e-03 0.00000000e+00\n",
            " 0.00000000e+00 0.00000000e+00 0.00000000e+00 2.61123919e-04\n",
            " 0.00000000e+00 1.49440817e-03 1.63866161e-03 0.00000000e+00\n",
            " 0.00000000e+00 0.00000000e+00 0.00000000e+00 0.00000000e+00\n",
            " 0.00000000e+00 0.00000000e+00 0.00000000e+00 0.00000000e+00\n",
            " 1.91660415e-02 2.43837192e-02 9.69033854e-03 2.47790410e-02\n",
            " 2.24490224e-02 1.71159339e-02 9.06689671e-03 1.99293495e-02\n",
            " 5.76880835e-03 2.38538092e-02 6.57430302e-02 1.78891547e-02\n",
            " 2.63513119e-02 2.99033960e-02 2.92994664e-02 2.64405635e-02\n",
            " 9.29855562e-03 5.98300848e-02 2.02641565e-02 8.40144731e-03\n",
            " 9.09032021e-03 9.10438829e-03 2.58851056e-02 6.30386332e-03\n",
            " 5.20822774e-03 1.94831021e-03 1.50289696e-02 1.45613716e-02\n",
            " 5.78016550e-03 2.48324048e-02 1.98461673e-02 6.90434960e-03]\n",
            " There are 92 features in total\n"
          ],
          "name": "stdout"
        }
      ]
    },
    {
      "cell_type": "code",
      "metadata": {
        "id": "b0qrxbtk-ueT"
      },
      "source": [
        "def encode_and_bind(original_dataframe, features_to_encode):\n",
        "    dummies = pd.get_dummies(original_dataframe[features_to_encode])\n",
        "    res = pd.concat([dummies, original_dataframe], axis=1)\n",
        "    res = res.drop(features_to_encode, axis=1)\n",
        "    return(res)\n",
        "X_train_encoded = encode_and_bind(X_train, features_to_encode)"
      ],
      "execution_count": null,
      "outputs": []
    },
    {
      "cell_type": "code",
      "metadata": {
        "id": "GYCQwFIk-2d_",
        "outputId": "a12ad192-7880-49e2-8cc7-a5a245546e96",
        "colab": {
          "base_uri": "https://localhost:8080/",
          "height": 1000
        }
      },
      "source": [
        "feature_importances = list(zip(X_train_encoded, rf_classifier.feature_importances_))\n",
        "# Then sort the feature importances by most important first\n",
        "feature_importances_ranked = sorted(feature_importances, key = lambda x: x[1], reverse = True)\n",
        "# Print out the feature and importances\n",
        "[print('Feature: {:35} Importance: {}'.format(*pair)) for pair in feature_importances_ranked];"
      ],
      "execution_count": null,
      "outputs": [
        {
          "output_type": "stream",
          "text": [
            "Feature: Employment_Status_R                 Importance: 0.0994818033678844\n",
            "Feature: Employment_Status_P                 Importance: 0.0736398435519821\n",
            "Feature: Marital_Status_M                    Importance: 0.06604402813801666\n",
            "Feature: Income_Range                        Importance: 0.06574303015827765\n",
            "Feature: Age                                 Importance: 0.059830084775566214\n",
            "Feature: Marital_Status_S                    Importance: 0.03379641791194327\n",
            "Feature: Employment_Status_D                 Importance: 0.030519628090104327\n",
            "Feature: Outstanding_Mortgage_Bal            Importance: 0.029903396007954695\n",
            "Feature: Total_Outstanding_Balances          Importance: 0.02929946644761601\n",
            "Feature: Bureau_Data___Monthly_Other_Co_R    Importance: 0.02644056349528535\n",
            "Feature: Value_of_Property                   Importance: 0.026351311892397002\n",
            "Feature: Total_value__CAIS_8_9s              Importance: 0.02588510563662976\n",
            "Feature: Total_outstanding_balance___excl    Importance: 0.024832404759279187\n",
            "Feature: Net_Advance                         Importance: 0.02477904102622433\n",
            "Feature: Credit_Score                        Importance: 0.024383719210330435\n",
            "Feature: Time_in_Employment                  Importance: 0.023853809163491536\n",
            "Feature: APR                                 Importance: 0.022449022442861313\n",
            "Feature: Total_outstanding_balance__mortg    Importance: 0.020264156513171632\n",
            "Feature: Time_at_Address                     Importance: 0.019929349489736795\n",
            "Feature: Total___of_accounts                 Importance: 0.019846167309438337\n",
            "Feature: Ref                                 Importance: 0.019166041547818487\n",
            "Feature: Time_with_Bank                      Importance: 0.017889154685456835\n",
            "Feature: Mosaic                              Importance: 0.017115933870216815\n",
            "Feature: Searches___Total___L6m              Importance: 0.015028969588837343\n",
            "Feature: Years_on_ER_for_SP                  Importance: 0.014561371603754534\n",
            "Feature: Employment_Status_G                 Importance: 0.010662398762710433\n",
            "Feature: Residential_Status_L                Importance: 0.009788555486186429\n",
            "Feature: Term                                Importance: 0.00969033854343067\n",
            "Feature: Worst_History_CT                    Importance: 0.009298555624299541\n",
            "Feature: Marital_Status_W                    Importance: 0.009292590987111715\n",
            "Feature: Time_since_most_recent_Public_In    Importance: 0.009104388290580242\n",
            "Feature: Total_value__Public_Info___CCJ__    Importance: 0.009090320214091703\n",
            "Feature: Mosaic_Class                        Importance: 0.00906689670875101\n",
            "Feature: Total___Public_Info___CCJ____ban    Importance: 0.008401447313513475\n",
            "Feature: Residential_Status_H                Importance: 0.007935076968266765\n",
            "Feature: Marital_Status_D                    Importance: 0.007493112901817324\n",
            "Feature: Time_since_most_recent_outstandi    Importance: 0.0069043495995210515\n",
            "Feature: Worst_status_L6m                    Importance: 0.006303863316599202\n",
            "Feature: Total___outstanding_CCJ_s           Importance: 0.0057801654960355385\n",
            "Feature: Number_of_Dependants                Importance: 0.005768808354582724\n",
            "Feature: Gender_M                            Importance: 0.0052703017431006026\n",
            "Feature: Worst_CUrrent_Status                Importance: 0.005208227738870219\n",
            "Feature: Gender_F                            Importance: 0.005025305430933213\n",
            "Feature: Employment_Status_S                 Importance: 0.0035419731550719352\n",
            "Feature: Final_Grade_A                       Importance: 0.0032722665699330767\n",
            "Feature: Loan_Type_secured                   Importance: 0.0026679883456965452\n",
            "Feature: __of_status_3_s_L6m                 Importance: 0.0019483102083379471\n",
            "Feature: ACCESS_Card_TRUE                    Importance: 0.001823368195654055\n",
            "Feature: Loan_Type_UnSecured                 Importance: 0.001789774692316058\n",
            "Feature: Final_Grade_X                       Importance: 0.0017427902408286644\n",
            "Feature: VISA_Card_TRUE                      Importance: 0.0016497390121152625\n",
            "Feature: Other_Credit_Store_Card_TRUE        Importance: 0.001638661614089613\n",
            "Feature: Residential_Status_T                Importance: 0.001529839750526423\n",
            "Feature: Other_Credit_Store_Card_FALSE       Importance: 0.001494408172673317\n",
            "Feature: VISA_Card_FALSE                     Importance: 0.0014078721091239825\n",
            "Feature: Final_Grade_B                       Importance: 0.0013375634002067542\n",
            "Feature: ACCESS_Card_FALSE                   Importance: 0.0012893427584236333\n",
            "Feature: Final_Grade_C                       Importance: 0.0006203693346853098\n",
            "Feature: Final_Grade_D                       Importance: 0.00029591109880590746\n",
            "Feature: Cheque_Guarantee_FALS               Importance: 0.0002611239191902027\n",
            "Feature: Telephone_Indicator_Y               Importance: 0.0002539220480198211\n",
            "Feature: Final_Grade_E                       Importance: 0.00020027257998488275\n",
            "Feature: Final_Grade_F                       Importance: 6.251472872217857e-05\n",
            "Feature: Telephone_Indicator_N               Importance: 5.346390091755798e-05\n",
            "Feature: Final_Grade_O                       Importance: 0.0\n",
            "Feature: Final_Grade_R                       Importance: 0.0\n",
            "Feature: Final_Grade_S                       Importance: 0.0\n",
            "Feature: Residential_Status_R                Importance: 0.0\n",
            "Feature: Employment_Status_H                 Importance: 0.0\n",
            "Feature: Employment_Status_M                 Importance: 0.0\n",
            "Feature: Employment_Status_T                 Importance: 0.0\n",
            "Feature: Employment_Status_U                 Importance: 0.0\n",
            "Feature: Full_Part_Time_Empl_Ind_F           Importance: 0.0\n",
            "Feature: Full_Part_Time_Empl_Ind_P           Importance: 0.0\n",
            "Feature: Perm_Temp_Empl_Ind_P                Importance: 0.0\n",
            "Feature: Perm_Temp_Empl_Ind_T                Importance: 0.0\n",
            "Feature: Current_Account_FALS                Importance: 0.0\n",
            "Feature: Current_Account_TRUE                Importance: 0.0\n",
            "Feature: American_Express_FALSE              Importance: 0.0\n",
            "Feature: American_Express_TRUE               Importance: 0.0\n",
            "Feature: Diners_Card_FALSE                   Importance: 0.0\n",
            "Feature: Diners_Card_TRUE                    Importance: 0.0\n",
            "Feature: Cheque_Guarantee_TRUE               Importance: 0.0\n",
            "Feature: Payment_Method_C                    Importance: 0.0\n",
            "Feature: Payment_Method_D                    Importance: 0.0\n",
            "Feature: Payment_Method_S                    Importance: 0.0\n",
            "Feature: Bankruptcy_Detected__SP__N          Importance: 0.0\n",
            "Feature: Bankruptcy_Detected__SP__T          Importance: 0.0\n",
            "Feature: Bankruptcy_Detected__SP__Y          Importance: 0.0\n",
            "Feature: CIFAS_detected_N                    Importance: 0.0\n",
            "Feature: CIFAS_detected_T                    Importance: 0.0\n",
            "Feature: CIFAS_detected_Y                    Importance: 0.0\n"
          ],
          "name": "stdout"
        }
      ]
    },
    {
      "cell_type": "code",
      "metadata": {
        "id": "o13zhm1B-7_h",
        "outputId": "750ba104-0249-4348-ffbf-bb26c8eb5c02",
        "colab": {
          "base_uri": "https://localhost:8080/",
          "height": 866
        }
      },
      "source": [
        "# Plot the top 25 feature importance\n",
        "feature_names_25 = [i[0] for i in feature_importances_ranked[:25]]\n",
        "y_ticks = np.arange(0, len(feature_names_25))\n",
        "x_axis = [i[1] for i in feature_importances_ranked[:25]]\n",
        "plt.figure(figsize = (10, 14))\n",
        "plt.barh(feature_names_25, x_axis)   #horizontal barplot\n",
        "plt.title('Random Forest Feature Importance (Top 25)',\n",
        "          fontdict= {'fontname':'Comic Sans MS','fontsize' : 20})\n",
        "plt.xlabel('Features',fontdict= {'fontsize' : 16})\n",
        "plt.show()"
      ],
      "execution_count": null,
      "outputs": [
        {
          "output_type": "stream",
          "text": [
            "findfont: Font family ['Comic Sans MS'] not found. Falling back to DejaVu Sans.\n"
          ],
          "name": "stderr"
        },
        {
          "output_type": "display_data",
          "data": {
            "image/png": "[encoded data removed]",
            "text/plain": [
              "<Figure size 720x1008 with 1 Axes>"
            ]
          },
          "metadata": {
            "tags": [],
            "needs_background": "light"
          }
        }
      ]
    },
    {
      "cell_type": "code",
      "metadata": {
        "id": "ixL9l95f_Hk2"
      },
      "source": [
        ""
      ],
      "execution_count": null,
      "outputs": []
    }
  ]
}