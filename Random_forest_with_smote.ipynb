{
  "nbformat": 4,
  "nbformat_minor": 0,
  "metadata": {
    "colab": {
      "name": "Random_forest_with_smote.ipynb",
      "provenance": [],
      "collapsed_sections": [],
      "mount_file_id": "1tmwTt1eDdXTcCm-_0vHFJUWoMD3rPC-g",
      "authorship_tag": "ABX9TyN9MuOoC3WX+dcAs29lpxWz",
      "include_colab_link": true
    },
    "kernelspec": {
      "name": "python3",
      "display_name": "Python 3"
    }
  },
  "cells": [
    {
      "cell_type": "markdown",
      "metadata": {
        "id": "view-in-github",
        "colab_type": "text"
      },
      "source": [
        "<a href=\"https://colab.research.google.com/github/aludaiyaarasu/Mytest/blob/master/Random_forest_with_smote.ipynb\" target=\"_parent\"><img src=\"https://colab.research.google.com/assets/colab-badge.svg\" alt=\"Open In Colab\"/></a>"
      ]
    },
    {
      "cell_type": "code",
      "metadata": {
        "id": "4xDGmVRqy9aE"
      },
      "source": [
        "import pandas as pd\n",
        "import seaborn as sns\n",
        "import matplotlib.pyplot as plt\n",
        "from sklearn.preprocessing import LabelEncoder\n",
        "from sklearn.preprocessing import StandardScaler\n",
        "from sklearn.model_selection import train_test_split\n",
        "from sklearn import metrics\n",
        "from sklearn.metrics import f1_score, roc_auc_score\n",
        "from sklearn.linear_model import LogisticRegression\n",
        "from sklearn.ensemble import RandomForestClassifier\n",
        "from sklearn.model_selection import GridSearchCV\n",
        "from sklearn.pipeline import Pipeline\n",
        "from sklearn.tree import DecisionTreeClassifier\n",
        "from sklearn.metrics import accuracy_score\n",
        "from sklearn.pipeline import make_pipeline\n",
        "from sklearn.model_selection import train_test_split\n",
        "from sklearn.compose import ColumnTransformer"
      ],
      "execution_count": 129,
      "outputs": []
    },
    {
      "cell_type": "code",
      "metadata": {
        "id": "s6mH6LJXzCoy"
      },
      "source": [
        "original_dataset = pd.read_csv('/content/drive/My Drive/trans.csv',delimiter=',',header=0)"
      ],
      "execution_count": 130,
      "outputs": []
    },
    {
      "cell_type": "code",
      "metadata": {
        "id": "JCQEkZzWzUMQ",
        "outputId": "2a619acc-e88b-4924-b5c5-f6c6243c05ef",
        "colab": {
          "base_uri": "https://localhost:8080/",
          "height": 1000
        }
      },
      "source": [
        "original_dataset.isnull().sum()"
      ],
      "execution_count": 131,
      "outputs": [
        {
          "output_type": "execute_result",
          "data": {
            "text/plain": [
              "Ref                                    0\n",
              "Credit_Score                           0\n",
              "Final_Grade                            0\n",
              "Term                                   0\n",
              "Net_Advance                            0\n",
              "APR                                    0\n",
              "Loan_Type                              0\n",
              "Mosaic                                 0\n",
              "Mosaic_Class                           0\n",
              "Time_at_Address                        0\n",
              "Residential_Status                     0\n",
              "Telephone_Indicator                    0\n",
              "Number_of_Dependants                   0\n",
              "Marital_Status                         0\n",
              "Gender                                 0\n",
              "Time_in_Employment                     0\n",
              "Employment_Status                      0\n",
              "Full_Part_Time_Empl_Ind                0\n",
              "Perm_Temp_Empl_Ind                     0\n",
              "Income_Range                           0\n",
              "Current_Account                        0\n",
              "ACCESS_Card                            0\n",
              "VISA_Card                              0\n",
              "American_Express                       0\n",
              "Diners_Card                            0\n",
              "Cheque_Guarantee                       0\n",
              "Other_Credit_Store_Card                0\n",
              "Time_with_Bank                         0\n",
              "Value_of_Property                      0\n",
              "Outstanding_Mortgage_Bal               0\n",
              "Total_Outstanding_Balances             0\n",
              "Bureau_Data___Monthly_Other_Co_R       0\n",
              "Worst_History_CT                       0\n",
              "Payment_Method                         0\n",
              "Age                                    0\n",
              "Total_outstanding_balance__mortg       0\n",
              "Total___Public_Info___CCJ____ban       0\n",
              "Total_value__Public_Info___CCJ__       0\n",
              "Time_since_most_recent_Public_In       0\n",
              "Total_value__CAIS_8_9s                 0\n",
              "Worst_status_L6m                       0\n",
              "Worst_CUrrent_Status                   0\n",
              "__of_status_3_s_L6m                    0\n",
              "Searches___Total___L6m                 0\n",
              "Years_on_ER_for_SP                     0\n",
              "Bankruptcy_Detected__SP_               0\n",
              "Total___outstanding_CCJ_s              0\n",
              "Total_outstanding_balance___excl       0\n",
              "Total___of_accounts                    0\n",
              "CIFAS_detected                         0\n",
              "Time_since_most_recent_outstandi       0\n",
              "Insurance_Description               6922\n",
              "PPI                                    0\n",
              "code                                6978\n",
              "prdt_desc                           7038\n",
              "category                            6922\n",
              "PPI_SINGLE                             0\n",
              "PPI_JOINT                              0\n",
              "PPI_LCI                                0\n",
              "dtype: int64"
            ]
          },
          "metadata": {
            "tags": []
          },
          "execution_count": 131
        }
      ]
    },
    {
      "cell_type": "code",
      "metadata": {
        "id": "tkgkl4YmzW7A"
      },
      "source": [
        "def label_class(row):\n",
        "    if row['PPI_SINGLE'] == 1:\n",
        "        return 'single'\n",
        "    if row['PPI_JOINT'] == 1:\n",
        "        return 'joint'\n",
        "    if row['PPI_LCI'] == 1:\n",
        "        return 'lci'"
      ],
      "execution_count": 132,
      "outputs": []
    },
    {
      "cell_type": "code",
      "metadata": {
        "id": "y3r9j-VJzccU"
      },
      "source": [
        "original_dataset['class'] = original_dataset.apply (lambda row: label_class(row), axis=1)"
      ],
      "execution_count": 133,
      "outputs": []
    },
    {
      "cell_type": "code",
      "metadata": {
        "id": "OsTLstKEzgkQ"
      },
      "source": [
        "data_preprocessced = original_dataset"
      ],
      "execution_count": 134,
      "outputs": []
    },
    {
      "cell_type": "code",
      "metadata": {
        "id": "Lj_pAVfuzlCY"
      },
      "source": [
        "data_ready_for_pipeline_train_test = data_preprocessced[data_preprocessced['PPI'].isin(['1'])]\n",
        "data_ready_for_pipeline_scoring = data_preprocessced[data_preprocessced['PPI'].isin(['0'])]"
      ],
      "execution_count": 135,
      "outputs": []
    },
    {
      "cell_type": "code",
      "metadata": {
        "id": "FPGuLvLrzocN",
        "outputId": "9a3519a5-db17-422d-9fca-d5d3acba39ab",
        "colab": {
          "base_uri": "https://localhost:8080/",
          "height": 1000
        }
      },
      "source": [
        "data_ready_for_pipeline_train_test.info()"
      ],
      "execution_count": 136,
      "outputs": [
        {
          "output_type": "stream",
          "text": [
            "<class 'pandas.core.frame.DataFrame'>\n",
            "Int64Index: 9461 entries, 1 to 16381\n",
            "Data columns (total 60 columns):\n",
            " #   Column                            Non-Null Count  Dtype  \n",
            "---  ------                            --------------  -----  \n",
            " 0   Ref                               9461 non-null   int64  \n",
            " 1   Credit_Score                      9461 non-null   int64  \n",
            " 2   Final_Grade                       9461 non-null   object \n",
            " 3   Term                              9461 non-null   int64  \n",
            " 4   Net_Advance                       9461 non-null   float64\n",
            " 5   APR                               9461 non-null   float64\n",
            " 6   Loan_Type                         9461 non-null   object \n",
            " 7   Mosaic                            9461 non-null   int64  \n",
            " 8   Mosaic_Class                      9461 non-null   int64  \n",
            " 9   Time_at_Address                   9461 non-null   int64  \n",
            " 10  Residential_Status                9461 non-null   object \n",
            " 11  Telephone_Indicator               9461 non-null   object \n",
            " 12  Number_of_Dependants              9461 non-null   int64  \n",
            " 13  Marital_Status                    9461 non-null   object \n",
            " 14  Gender                            9461 non-null   object \n",
            " 15  Time_in_Employment                9461 non-null   int64  \n",
            " 16  Employment_Status                 9461 non-null   object \n",
            " 17  Full_Part_Time_Empl_Ind           9461 non-null   object \n",
            " 18  Perm_Temp_Empl_Ind                9461 non-null   object \n",
            " 19  Income_Range                      9461 non-null   int64  \n",
            " 20  Current_Account                   9461 non-null   object \n",
            " 21  ACCESS_Card                       9461 non-null   object \n",
            " 22  VISA_Card                         9461 non-null   object \n",
            " 23  American_Express                  9461 non-null   object \n",
            " 24  Diners_Card                       9461 non-null   object \n",
            " 25  Cheque_Guarantee                  9461 non-null   object \n",
            " 26  Other_Credit_Store_Card           9461 non-null   object \n",
            " 27  Time_with_Bank                    9461 non-null   int64  \n",
            " 28  Value_of_Property                 9461 non-null   int64  \n",
            " 29  Outstanding_Mortgage_Bal          9461 non-null   int64  \n",
            " 30  Total_Outstanding_Balances        9461 non-null   int64  \n",
            " 31  Bureau_Data___Monthly_Other_Co_R  9461 non-null   int64  \n",
            " 32  Worst_History_CT                  9461 non-null   int64  \n",
            " 33  Payment_Method                    9461 non-null   object \n",
            " 34  Age                               9461 non-null   int64  \n",
            " 35  Total_outstanding_balance__mortg  9461 non-null   int64  \n",
            " 36  Total___Public_Info___CCJ____ban  9461 non-null   int64  \n",
            " 37  Total_value__Public_Info___CCJ__  9461 non-null   int64  \n",
            " 38  Time_since_most_recent_Public_In  9461 non-null   int64  \n",
            " 39  Total_value__CAIS_8_9s            9461 non-null   int64  \n",
            " 40  Worst_status_L6m                  9461 non-null   int64  \n",
            " 41  Worst_CUrrent_Status              9461 non-null   int64  \n",
            " 42  __of_status_3_s_L6m               9461 non-null   int64  \n",
            " 43  Searches___Total___L6m            9461 non-null   int64  \n",
            " 44  Years_on_ER_for_SP                9461 non-null   int64  \n",
            " 45  Bankruptcy_Detected__SP_          9461 non-null   object \n",
            " 46  Total___outstanding_CCJ_s         9461 non-null   int64  \n",
            " 47  Total_outstanding_balance___excl  9461 non-null   int64  \n",
            " 48  Total___of_accounts               9461 non-null   int64  \n",
            " 49  CIFAS_detected                    9461 non-null   object \n",
            " 50  Time_since_most_recent_outstandi  9461 non-null   int64  \n",
            " 51  Insurance_Description             9461 non-null   object \n",
            " 52  PPI                               9461 non-null   int64  \n",
            " 53  code                              9405 non-null   float64\n",
            " 54  prdt_desc                         9345 non-null   object \n",
            " 55  category                          9461 non-null   object \n",
            " 56  PPI_SINGLE                        9461 non-null   int64  \n",
            " 57  PPI_JOINT                         9461 non-null   int64  \n",
            " 58  PPI_LCI                           9461 non-null   int64  \n",
            " 59  class                             9461 non-null   object \n",
            "dtypes: float64(3), int64(34), object(23)\n",
            "memory usage: 4.4+ MB\n"
          ],
          "name": "stdout"
        }
      ]
    },
    {
      "cell_type": "code",
      "metadata": {
        "id": "_JGaJzInzryX",
        "outputId": "fb51b763-c580-4878-fe92-19b89d74188e",
        "colab": {
          "base_uri": "https://localhost:8080/",
          "height": 123
        }
      },
      "source": [
        "product_map_status={'lci':1,'single':2,'joint':3}\n",
        "data_ready_for_pipeline_train_test['class'] = data_ready_for_pipeline_train_test['class'].map(product_map_status)"
      ],
      "execution_count": 137,
      "outputs": [
        {
          "output_type": "stream",
          "text": [
            "/usr/local/lib/python3.6/dist-packages/ipykernel_launcher.py:2: SettingWithCopyWarning: \n",
            "A value is trying to be set on a copy of a slice from a DataFrame.\n",
            "Try using .loc[row_indexer,col_indexer] = value instead\n",
            "\n",
            "See the caveats in the documentation: https://pandas.pydata.org/pandas-docs/stable/user_guide/indexing.html#returning-a-view-versus-a-copy\n",
            "  \n"
          ],
          "name": "stderr"
        }
      ]
    },
    {
      "cell_type": "code",
      "metadata": {
        "id": "kXV9XUi49OCc"
      },
      "source": [
        "y = data_ready_for_pipeline_train_test.pop('class')"
      ],
      "execution_count": 138,
      "outputs": []
    },
    {
      "cell_type": "code",
      "metadata": {
        "id": "eO7o0RKpfDLB"
      },
      "source": [
        "X = data_ready_for_pipeline_train_test"
      ],
      "execution_count": 139,
      "outputs": []
    },
    {
      "cell_type": "code",
      "metadata": {
        "id": "dwkY2AvefGdW"
      },
      "source": [
        "num_vars =['Credit_Score','Term','Net_Advance','APR','Mosaic','Time_at_Address','Number_of_Dependants','Time_in_Employment','Time_with_Bank','Outstanding_Mortgage_Bal','Total_Outstanding_Balances','Bureau_Data___Monthly_Other_Co_R','Age','Total_outstanding_balance__mortg','Total_value__Public_Info___CCJ__','Time_since_most_recent_Public_In','Total_value__CAIS_8_9s','Searches___Total___L6m','Years_on_ER_for_SP','Total_outstanding_balance___excl','Total___of_accounts','Time_since_most_recent_outstandi']\n",
        "cat_vars=['Final_Grade','Loan_Type','Mosaic_Class','Residential_Status','Telephone_Indicator','Marital_Status','Gender','Employment_Status','Full_Part_Time_Empl_Ind','Perm_Temp_Empl_Ind','Income_Range','Current_Account','ACCESS_Card','VISA_Card','American_Express','Diners_Card','Cheque_Guarantee','Other_Credit_Store_Card','Worst_History_CT','Payment_Method','Total___Public_Info___CCJ____ban','Worst_status_L6m','Worst_CUrrent_Status','__of_status_3_s_L6m','Bankruptcy_Detected__SP_','Total___outstanding_CCJ_s','CIFAS_detected']"
      ],
      "execution_count": 140,
      "outputs": []
    },
    {
      "cell_type": "code",
      "metadata": {
        "id": "leLu_jUufKxs"
      },
      "source": [
        "from imblearn.over_sampling import SMOTE\n",
        "from collections import Counter\n",
        "from matplotlib import pyplot\n",
        "from sklearn.preprocessing import LabelEncoder"
      ],
      "execution_count": 141,
      "outputs": []
    },
    {
      "cell_type": "code",
      "metadata": {
        "id": "CmpdOM2Wg3cU",
        "outputId": "e32380de-f1df-4e53-e3fb-15fc8f70ca05",
        "colab": {
          "base_uri": "https://localhost:8080/",
          "height": 317
        }
      },
      "source": [
        "y = LabelEncoder().fit_transform(y)\n",
        "counter = Counter(y)\n",
        "for k,v in counter.items():\n",
        "\tper = v / len(y) * 100\n",
        "\tprint('Class=%d, n=%d (%.3f%%)' % (k, v, per))\n",
        "# plot the distribution\n",
        "pyplot.bar(counter.keys(), counter.values())\n",
        "pyplot.show()"
      ],
      "execution_count": 142,
      "outputs": [
        {
          "output_type": "stream",
          "text": [
            "Class=0, n=1972 (20.843%)\n",
            "Class=2, n=1225 (12.948%)\n",
            "Class=1, n=6264 (66.209%)\n"
          ],
          "name": "stdout"
        },
        {
          "output_type": "display_data",
          "data": {
            "image/png": "[encoded data removed]",
            "text/plain": [
              "<Figure size 432x288 with 1 Axes>"
            ]
          },
          "metadata": {
            "tags": [],
            "needs_background": "light"
          }
        }
      ]
    },
    {
      "cell_type": "code",
      "metadata": {
        "id": "tLg2CT2Bg9gg"
      },
      "source": [
        "oversample = SMOTE()"
      ],
      "execution_count": 143,
      "outputs": []
    },
    {
      "cell_type": "code",
      "metadata": {
        "id": "1_u1a6dghEuQ",
        "outputId": "4303d440-e069-435f-bf5a-78b3ba590fc6",
        "colab": {
          "base_uri": "https://localhost:8080/",
          "height": 1000
        }
      },
      "source": [
        "X_train, X_test, y_train, y_test = train_test_split(X,y,test_size=0.20, random_state = 50)\n",
        "X_test.info()"
      ],
      "execution_count": 148,
      "outputs": [
        {
          "output_type": "stream",
          "text": [
            "<class 'pandas.core.frame.DataFrame'>\n",
            "Int64Index: 1893 entries, 10065 to 2141\n",
            "Data columns (total 59 columns):\n",
            " #   Column                            Non-Null Count  Dtype  \n",
            "---  ------                            --------------  -----  \n",
            " 0   Ref                               1893 non-null   int64  \n",
            " 1   Credit_Score                      1893 non-null   int64  \n",
            " 2   Final_Grade                       1893 non-null   object \n",
            " 3   Term                              1893 non-null   int64  \n",
            " 4   Net_Advance                       1893 non-null   float64\n",
            " 5   APR                               1893 non-null   float64\n",
            " 6   Loan_Type                         1893 non-null   object \n",
            " 7   Mosaic                            1893 non-null   int64  \n",
            " 8   Mosaic_Class                      1893 non-null   int64  \n",
            " 9   Time_at_Address                   1893 non-null   int64  \n",
            " 10  Residential_Status                1893 non-null   object \n",
            " 11  Telephone_Indicator               1893 non-null   object \n",
            " 12  Number_of_Dependants              1893 non-null   int64  \n",
            " 13  Marital_Status                    1893 non-null   object \n",
            " 14  Gender                            1893 non-null   object \n",
            " 15  Time_in_Employment                1893 non-null   int64  \n",
            " 16  Employment_Status                 1893 non-null   object \n",
            " 17  Full_Part_Time_Empl_Ind           1893 non-null   object \n",
            " 18  Perm_Temp_Empl_Ind                1893 non-null   object \n",
            " 19  Income_Range                      1893 non-null   int64  \n",
            " 20  Current_Account                   1893 non-null   object \n",
            " 21  ACCESS_Card                       1893 non-null   object \n",
            " 22  VISA_Card                         1893 non-null   object \n",
            " 23  American_Express                  1893 non-null   object \n",
            " 24  Diners_Card                       1893 non-null   object \n",
            " 25  Cheque_Guarantee                  1893 non-null   object \n",
            " 26  Other_Credit_Store_Card           1893 non-null   object \n",
            " 27  Time_with_Bank                    1893 non-null   int64  \n",
            " 28  Value_of_Property                 1893 non-null   int64  \n",
            " 29  Outstanding_Mortgage_Bal          1893 non-null   int64  \n",
            " 30  Total_Outstanding_Balances        1893 non-null   int64  \n",
            " 31  Bureau_Data___Monthly_Other_Co_R  1893 non-null   int64  \n",
            " 32  Worst_History_CT                  1893 non-null   int64  \n",
            " 33  Payment_Method                    1893 non-null   object \n",
            " 34  Age                               1893 non-null   int64  \n",
            " 35  Total_outstanding_balance__mortg  1893 non-null   int64  \n",
            " 36  Total___Public_Info___CCJ____ban  1893 non-null   int64  \n",
            " 37  Total_value__Public_Info___CCJ__  1893 non-null   int64  \n",
            " 38  Time_since_most_recent_Public_In  1893 non-null   int64  \n",
            " 39  Total_value__CAIS_8_9s            1893 non-null   int64  \n",
            " 40  Worst_status_L6m                  1893 non-null   int64  \n",
            " 41  Worst_CUrrent_Status              1893 non-null   int64  \n",
            " 42  __of_status_3_s_L6m               1893 non-null   int64  \n",
            " 43  Searches___Total___L6m            1893 non-null   int64  \n",
            " 44  Years_on_ER_for_SP                1893 non-null   int64  \n",
            " 45  Bankruptcy_Detected__SP_          1893 non-null   object \n",
            " 46  Total___outstanding_CCJ_s         1893 non-null   int64  \n",
            " 47  Total_outstanding_balance___excl  1893 non-null   int64  \n",
            " 48  Total___of_accounts               1893 non-null   int64  \n",
            " 49  CIFAS_detected                    1893 non-null   object \n",
            " 50  Time_since_most_recent_outstandi  1893 non-null   int64  \n",
            " 51  Insurance_Description             1893 non-null   object \n",
            " 52  PPI                               1893 non-null   int64  \n",
            " 53  code                              1888 non-null   float64\n",
            " 54  prdt_desc                         1880 non-null   object \n",
            " 55  category                          1893 non-null   object \n",
            " 56  PPI_SINGLE                        1893 non-null   int64  \n",
            " 57  PPI_JOINT                         1893 non-null   int64  \n",
            " 58  PPI_LCI                           1893 non-null   int64  \n",
            "dtypes: float64(3), int64(34), object(22)\n",
            "memory usage: 887.3+ KB\n"
          ],
          "name": "stdout"
        }
      ]
    },
    {
      "cell_type": "code",
      "metadata": {
        "id": "MapMI4nHibuh"
      },
      "source": [
        "from sklearn.compose import make_column_transformer\n",
        "from sklearn.preprocessing import OneHotEncoder\n",
        "\n",
        "col_trans = make_column_transformer(\n",
        "                        (OneHotEncoder(),cat_vars),\n",
        "                        remainder = \"passthrough\"\n",
        "                        )\n",
        "\n",
        "drop_Columns=['Ref','Insurance_Description','PPI','code','prdt_desc','category','PPI_SINGLE','PPI_JOINT','PPI_LCI']\n"
      ],
      "execution_count": 145,
      "outputs": []
    },
    {
      "cell_type": "code",
      "metadata": {
        "id": "ZJRFqgJGsbl5",
        "outputId": "6126308e-9dc4-4521-b0a8-cabf586a78f6",
        "colab": {
          "base_uri": "https://localhost:8080/",
          "height": 1000
        }
      },
      "source": [
        "X_test.drop(drop_Columns,inplace=True,axis=1)\n",
        "X_test.info()"
      ],
      "execution_count": 152,
      "outputs": [
        {
          "output_type": "stream",
          "text": [
            "<class 'pandas.core.frame.DataFrame'>\n",
            "Int64Index: 1893 entries, 10065 to 2141\n",
            "Data columns (total 50 columns):\n",
            " #   Column                            Non-Null Count  Dtype  \n",
            "---  ------                            --------------  -----  \n",
            " 0   Credit_Score                      1893 non-null   int64  \n",
            " 1   Final_Grade                       1893 non-null   object \n",
            " 2   Term                              1893 non-null   int64  \n",
            " 3   Net_Advance                       1893 non-null   float64\n",
            " 4   APR                               1893 non-null   float64\n",
            " 5   Loan_Type                         1893 non-null   object \n",
            " 6   Mosaic                            1893 non-null   int64  \n",
            " 7   Mosaic_Class                      1893 non-null   int64  \n",
            " 8   Time_at_Address                   1893 non-null   int64  \n",
            " 9   Residential_Status                1893 non-null   object \n",
            " 10  Telephone_Indicator               1893 non-null   object \n",
            " 11  Number_of_Dependants              1893 non-null   int64  \n",
            " 12  Marital_Status                    1893 non-null   object \n",
            " 13  Gender                            1893 non-null   object \n",
            " 14  Time_in_Employment                1893 non-null   int64  \n",
            " 15  Employment_Status                 1893 non-null   object \n",
            " 16  Full_Part_Time_Empl_Ind           1893 non-null   object \n",
            " 17  Perm_Temp_Empl_Ind                1893 non-null   object \n",
            " 18  Income_Range                      1893 non-null   int64  \n",
            " 19  Current_Account                   1893 non-null   object \n",
            " 20  ACCESS_Card                       1893 non-null   object \n",
            " 21  VISA_Card                         1893 non-null   object \n",
            " 22  American_Express                  1893 non-null   object \n",
            " 23  Diners_Card                       1893 non-null   object \n",
            " 24  Cheque_Guarantee                  1893 non-null   object \n",
            " 25  Other_Credit_Store_Card           1893 non-null   object \n",
            " 26  Time_with_Bank                    1893 non-null   int64  \n",
            " 27  Value_of_Property                 1893 non-null   int64  \n",
            " 28  Outstanding_Mortgage_Bal          1893 non-null   int64  \n",
            " 29  Total_Outstanding_Balances        1893 non-null   int64  \n",
            " 30  Bureau_Data___Monthly_Other_Co_R  1893 non-null   int64  \n",
            " 31  Worst_History_CT                  1893 non-null   int64  \n",
            " 32  Payment_Method                    1893 non-null   object \n",
            " 33  Age                               1893 non-null   int64  \n",
            " 34  Total_outstanding_balance__mortg  1893 non-null   int64  \n",
            " 35  Total___Public_Info___CCJ____ban  1893 non-null   int64  \n",
            " 36  Total_value__Public_Info___CCJ__  1893 non-null   int64  \n",
            " 37  Time_since_most_recent_Public_In  1893 non-null   int64  \n",
            " 38  Total_value__CAIS_8_9s            1893 non-null   int64  \n",
            " 39  Worst_status_L6m                  1893 non-null   int64  \n",
            " 40  Worst_CUrrent_Status              1893 non-null   int64  \n",
            " 41  __of_status_3_s_L6m               1893 non-null   int64  \n",
            " 42  Searches___Total___L6m            1893 non-null   int64  \n",
            " 43  Years_on_ER_for_SP                1893 non-null   int64  \n",
            " 44  Bankruptcy_Detected__SP_          1893 non-null   object \n",
            " 45  Total___outstanding_CCJ_s         1893 non-null   int64  \n",
            " 46  Total_outstanding_balance___excl  1893 non-null   int64  \n",
            " 47  Total___of_accounts               1893 non-null   int64  \n",
            " 48  CIFAS_detected                    1893 non-null   object \n",
            " 49  Time_since_most_recent_outstandi  1893 non-null   int64  \n",
            "dtypes: float64(2), int64(29), object(19)\n",
            "memory usage: 754.2+ KB\n"
          ],
          "name": "stdout"
        },
        {
          "output_type": "stream",
          "text": [
            "/usr/local/lib/python3.6/dist-packages/pandas/core/frame.py:4170: SettingWithCopyWarning: \n",
            "A value is trying to be set on a copy of a slice from a DataFrame\n",
            "\n",
            "See the caveats in the documentation: https://pandas.pydata.org/pandas-docs/stable/user_guide/indexing.html#returning-a-view-versus-a-copy\n",
            "  errors=errors,\n"
          ],
          "name": "stderr"
        }
      ]
    },
    {
      "cell_type": "code",
      "metadata": {
        "id": "XQ4q2AbmxYct",
        "outputId": "471af384-a21a-4c55-960b-e31961c906bb",
        "colab": {
          "base_uri": "https://localhost:8080/",
          "height": 52
        }
      },
      "source": [
        "print(X_train.shape)\n",
        "print(X_test.shape)\n"
      ],
      "execution_count": 157,
      "outputs": [
        {
          "output_type": "stream",
          "text": [
            "(7568, 154)\n",
            "(1893, 154)\n"
          ],
          "name": "stdout"
        }
      ]
    },
    {
      "cell_type": "code",
      "metadata": {
        "id": "A-Eal3YDyQFR",
        "outputId": "8ec71b18-f295-4249-ea9d-79f6c9526e3b",
        "colab": {
          "base_uri": "https://localhost:8080/",
          "height": 107
        }
      },
      "source": [
        "X_train,y_train = SMOTE().fit_resample(X_train,y_train)"
      ],
      "execution_count": 158,
      "outputs": [
        {
          "output_type": "stream",
          "text": [
            "/usr/local/lib/python3.6/dist-packages/sklearn/utils/deprecation.py:87: FutureWarning: Function safe_indexing is deprecated; safe_indexing is deprecated in version 0.22 and will be removed in version 0.24.\n",
            "  warnings.warn(msg, category=FutureWarning)\n",
            "/usr/local/lib/python3.6/dist-packages/sklearn/utils/deprecation.py:87: FutureWarning: Function safe_indexing is deprecated; safe_indexing is deprecated in version 0.22 and will be removed in version 0.24.\n",
            "  warnings.warn(msg, category=FutureWarning)\n"
          ],
          "name": "stderr"
        }
      ]
    },
    {
      "cell_type": "code",
      "metadata": {
        "id": "hED4T5nMysfI",
        "outputId": "cf76d7d5-49ee-44c4-dda7-1164e71d53c6",
        "colab": {
          "base_uri": "https://localhost:8080/",
          "height": 52
        }
      },
      "source": [
        "print(X_train.shape)\n",
        "print(y_train.shape)"
      ],
      "execution_count": 159,
      "outputs": [
        {
          "output_type": "stream",
          "text": [
            "(15000, 154)\n",
            "(15000,)\n"
          ],
          "name": "stdout"
        }
      ]
    },
    {
      "cell_type": "code",
      "metadata": {
        "id": "hTbK0VoG2rCc",
        "outputId": "83272377-9e0c-4cef-a544-d5a1051d88f3",
        "colab": {
          "base_uri": "https://localhost:8080/",
          "height": 317
        }
      },
      "source": [
        "counter = Counter(y_train)\n",
        "for k,v in counter.items():\n",
        "\tper = v / len(y) * 100\n",
        "\tprint('Class=%d, n=%d (%.3f%%)' % (k, v, per))\n",
        "# plot the distribution\n",
        "pyplot.bar(counter.keys(), counter.values())\n",
        "pyplot.show()"
      ],
      "execution_count": 177,
      "outputs": [
        {
          "output_type": "stream",
          "text": [
            "Class=2, n=5000 (52.849%)\n",
            "Class=0, n=5000 (52.849%)\n",
            "Class=1, n=5000 (52.849%)\n"
          ],
          "name": "stdout"
        },
        {
          "output_type": "display_data",
          "data": {
            "image/png": "[encoded data removed]",
            "text/plain": [
              "<Figure size 432x288 with 1 Axes>"
            ]
          },
          "metadata": {
            "tags": [],
            "needs_background": "light"
          }
        }
      ]
    },
    {
      "cell_type": "code",
      "metadata": {
        "id": "hfkYmBwCzBmX"
      },
      "source": [
        "from sklearn.ensemble import RandomForestClassifier\n",
        "rf_classifier = RandomForestClassifier(\n",
        "                      min_samples_leaf=50,\n",
        "                      n_estimators=150,\n",
        "                      bootstrap=True,\n",
        "                      oob_score=True,\n",
        "                      n_jobs=-1,\n",
        "                      random_state=50,\n",
        "                      max_features='auto',class_weight='balanced')"
      ],
      "execution_count": 160,
      "outputs": []
    },
    {
      "cell_type": "code",
      "metadata": {
        "id": "8k9_-X5nyxAY",
        "outputId": "b6af46cd-38f6-464c-f552-4b6cc2dd7807",
        "colab": {
          "base_uri": "https://localhost:8080/",
          "height": 301
        }
      },
      "source": [
        "pipe = make_pipeline(rf_classifier)\n",
        "pipe.fit(X_train, y_train)"
      ],
      "execution_count": 161,
      "outputs": [
        {
          "output_type": "execute_result",
          "data": {
            "text/plain": [
              "Pipeline(memory=None,\n",
              "         steps=[('randomforestclassifier',\n",
              "                 RandomForestClassifier(bootstrap=True, ccp_alpha=0.0,\n",
              "                                        class_weight='balanced',\n",
              "                                        criterion='gini', max_depth=None,\n",
              "                                        max_features='auto',\n",
              "                                        max_leaf_nodes=None, max_samples=None,\n",
              "                                        min_impurity_decrease=0.0,\n",
              "                                        min_impurity_split=None,\n",
              "                                        min_samples_leaf=50,\n",
              "                                        min_samples_split=2,\n",
              "                                        min_weight_fraction_leaf=0.0,\n",
              "                                        n_estimators=150, n_jobs=-1,\n",
              "                                        oob_score=True, random_state=50,\n",
              "                                        verbose=0, warm_start=False))],\n",
              "         verbose=False)"
            ]
          },
          "metadata": {
            "tags": []
          },
          "execution_count": 161
        }
      ]
    },
    {
      "cell_type": "code",
      "metadata": {
        "id": "8enJ4M4SzH15"
      },
      "source": [
        "y_pred = pipe.predict(X_test)"
      ],
      "execution_count": 162,
      "outputs": []
    },
    {
      "cell_type": "code",
      "metadata": {
        "id": "RI1uUpnVzMXQ",
        "outputId": "eeec24c1-16b9-4676-d0e5-9c668e6ee5f4",
        "colab": {
          "base_uri": "https://localhost:8080/",
          "height": 34
        }
      },
      "source": [
        "from sklearn.metrics import accuracy_score, confusion_matrix, precision_score, recall_score, roc_auc_score, roc_curve, f1_score\n",
        "accuracy_score(y_test, y_pred)\n",
        "print(f\"The accuracy of the model is {round(accuracy_score(y_test,y_pred),3)*100} %\")"
      ],
      "execution_count": 163,
      "outputs": [
        {
          "output_type": "stream",
          "text": [
            "The accuracy of the model is 67.30000000000001 %\n"
          ],
          "name": "stdout"
        }
      ]
    },
    {
      "cell_type": "code",
      "metadata": {
        "id": "YmZ_27EhzOzu"
      },
      "source": [
        "train_probs = pipe.predict_proba(X_train)[:,1] \n",
        "probs = pipe.predict_proba(X_test)[:, 1]\n",
        "train_predictions = pipe.predict(X_train)"
      ],
      "execution_count": 165,
      "outputs": []
    },
    {
      "cell_type": "code",
      "metadata": {
        "id": "borZ0HazzUTj",
        "outputId": "2d3ce787-ea1e-4ff1-d962-6c4a54f27db6",
        "colab": {
          "base_uri": "https://localhost:8080/",
          "height": 615
        }
      },
      "source": [
        "import itertools\n",
        "import numpy as np\n",
        "def plot_confusion_matrix(cm, classes, normalize = False,\n",
        "                          title='Confusion matrix',\n",
        "                          cmap=plt.cm.Greens): # can change color \n",
        "    plt.figure(figsize = (10, 10))\n",
        "    plt.imshow(cm, interpolation='nearest', cmap=cmap)\n",
        "    plt.title(title, size = 24)\n",
        "    plt.colorbar(aspect=4)\n",
        "    tick_marks = np.arange(len(classes))\n",
        "    plt.xticks(tick_marks, classes, rotation=45, size = 14)\n",
        "    plt.yticks(tick_marks, classes, size = 14)\n",
        "    fmt = '.2f' if normalize else 'd'\n",
        "    thresh = cm.max() / 2.\n",
        "    # Label the plot\n",
        "    for i, j in itertools.product(range(cm.shape[0]),   range(cm.shape[1])):\n",
        "     plt.text(j, i, format(cm[i, j], fmt), \n",
        "             fontsize = 20,\n",
        "             horizontalalignment=\"center\",\n",
        "             color=\"white\" if cm[i, j] > thresh else \"black\")\n",
        "    plt.grid(None)\n",
        "    plt.tight_layout()\n",
        "    plt.ylabel('True label', size = 18)\n",
        "    plt.xlabel('Predicted label', size = 18)\n",
        "\n",
        "# Let's plot it out\n",
        "cm = confusion_matrix(y_test, y_pred)\n",
        "plot_confusion_matrix(cm, classes = ['1 - lci', '2 - single', '3 - joint'],\n",
        "                      title = 'Exit_status Confusion Matrix')"
      ],
      "execution_count": 167,
      "outputs": [
        {
          "output_type": "display_data",
          "data": {
            "image/png": "[encoded data removed]",
            "text/plain": [
              "<Figure size 720x720 with 2 Axes>"
            ]
          },
          "metadata": {
            "tags": [],
            "needs_background": "light"
          }
        }
      ]
    },
    {
      "cell_type": "code",
      "metadata": {
        "id": "gE9RbosgzX_u",
        "outputId": "a87e247e-0195-4166-9e8a-f60c2c539187",
        "colab": {
          "base_uri": "https://localhost:8080/",
          "height": 727
        }
      },
      "source": [
        "print(rf_classifier.feature_importances_)\n",
        "print(f\" There are {len(rf_classifier.feature_importances_)} features in total\")\n"
      ],
      "execution_count": 168,
      "outputs": [
        {
          "output_type": "stream",
          "text": [
            "[9.01109391e-03 2.18184413e-03 2.34726543e-03 3.00124759e-04\n",
            " 4.29745358e-04 9.04722442e-05 0.00000000e+00 0.00000000e+00\n",
            " 0.00000000e+00 5.82030373e-03 2.26640143e-03 2.04282237e-03\n",
            " 1.23591204e-04 9.65479450e-04 5.50926363e-04 3.58774602e-03\n",
            " 0.00000000e+00 2.49583004e-04 1.34123783e-03 5.44780867e-03\n",
            " 5.05008370e-07 1.16574222e-04 0.00000000e+00 0.00000000e+00\n",
            " 1.76407861e-03 3.63826671e-03 0.00000000e+00 2.03489835e-03\n",
            " 1.89320758e-04 2.63310005e-04 2.62001123e-02 1.03038050e-01\n",
            " 5.48263774e-02 7.14107837e-03 1.52409598e-02 1.25969327e-02\n",
            " 1.65511533e-02 1.40278342e-02 0.00000000e+00 0.00000000e+00\n",
            " 6.69349905e-02 6.56658352e-02 7.12001407e-03 0.00000000e+00\n",
            " 0.00000000e+00 0.00000000e+00 0.00000000e+00 0.00000000e+00\n",
            " 0.00000000e+00 0.00000000e+00 7.93457936e-04 1.57229280e-02\n",
            " 2.62034055e-02 9.17620253e-03 2.34301094e-02 4.50281854e-02\n",
            " 0.00000000e+00 0.00000000e+00 7.43416707e-03 5.85237038e-03\n",
            " 9.88368973e-03 8.62747573e-03 0.00000000e+00 0.00000000e+00\n",
            " 0.00000000e+00 0.00000000e+00 8.02785949e-04 5.23561933e-04\n",
            " 8.90696600e-03 8.65503153e-03 1.32073663e-02 9.44769558e-06\n",
            " 0.00000000e+00 0.00000000e+00 4.10752580e-03 8.33338809e-03\n",
            " 0.00000000e+00 0.00000000e+00 0.00000000e+00 0.00000000e+00\n",
            " 0.00000000e+00 2.53972326e-02 1.00618242e-02 9.85905407e-04\n",
            " 1.26332727e-04 0.00000000e+00 0.00000000e+00 0.00000000e+00\n",
            " 0.00000000e+00 0.00000000e+00 2.25751648e-02 7.42807169e-03\n",
            " 2.97225320e-03 3.93178638e-04 2.15690469e-05 0.00000000e+00\n",
            " 4.71975193e-05 1.79167438e-02 4.94617098e-03 6.14806934e-04\n",
            " 4.24581360e-05 0.00000000e+00 0.00000000e+00 6.79746273e-05\n",
            " 0.00000000e+00 4.08391118e-03 5.20243290e-05 0.00000000e+00\n",
            " 5.88457435e-05 0.00000000e+00 0.00000000e+00 0.00000000e+00\n",
            " 0.00000000e+00 0.00000000e+00 0.00000000e+00 0.00000000e+00\n",
            " 0.00000000e+00 0.00000000e+00 0.00000000e+00 1.58170601e-02\n",
            " 1.17086140e-02 1.21826546e-03 8.38416831e-05 0.00000000e+00\n",
            " 0.00000000e+00 0.00000000e+00 0.00000000e+00 0.00000000e+00\n",
            " 0.00000000e+00 0.00000000e+00 0.00000000e+00 5.68323536e-03\n",
            " 3.55128663e-03 5.84843995e-03 5.92167740e-03 4.66920334e-03\n",
            " 4.13582336e-03 2.38301488e-02 5.56269989e-03 4.17179939e-03\n",
            " 8.81018933e-03 9.35599385e-03 9.42245206e-03 9.78670412e-03\n",
            " 1.50159075e-02 5.31510923e-03 1.83304297e-02 1.42769051e-02\n",
            " 4.02449873e-02 1.66605348e-02 4.22817023e-03 8.14654224e-03\n",
            " 8.11876729e-03 1.14887436e-02]\n",
            " There are 154 features in total\n"
          ],
          "name": "stdout"
        }
      ]
    },
    {
      "cell_type": "code",
      "metadata": {
        "id": "P-zCyrOOzoph",
        "outputId": "e94c2549-c851-4dd8-85b5-516e7986d989",
        "colab": {
          "base_uri": "https://localhost:8080/",
          "height": 327
        }
      },
      "source": [
        "def encode_and_bind(original_dataframe, features_to_encode):\n",
        "    dummies = pd.get_dummies(original_dataframe[features_to_encode])\n",
        "    res = pd.concat([dummies, original_dataframe], axis=1)\n",
        "    res = res.drop(features_to_encode, axis=1)\n",
        "    return(res)\n",
        "X_train_encoded = encode_and_bind(X_train, features_to_encode='cat_vars')"
      ],
      "execution_count": 179,
      "outputs": [
        {
          "output_type": "error",
          "ename": "IndexError",
          "evalue": "ignored",
          "traceback": [
            "\u001b[0;31m---------------------------------------------------------------------------\u001b[0m",
            "\u001b[0;31mIndexError\u001b[0m                                Traceback (most recent call last)",
            "\u001b[0;32m<ipython-input-179-ee03f7d87b69>\u001b[0m in \u001b[0;36m<module>\u001b[0;34m()\u001b[0m\n\u001b[1;32m      4\u001b[0m     \u001b[0mres\u001b[0m \u001b[0;34m=\u001b[0m \u001b[0mres\u001b[0m\u001b[0;34m.\u001b[0m\u001b[0mdrop\u001b[0m\u001b[0;34m(\u001b[0m\u001b[0mfeatures_to_encode\u001b[0m\u001b[0;34m,\u001b[0m \u001b[0maxis\u001b[0m\u001b[0;34m=\u001b[0m\u001b[0;36m1\u001b[0m\u001b[0;34m)\u001b[0m\u001b[0;34m\u001b[0m\u001b[0;34m\u001b[0m\u001b[0m\n\u001b[1;32m      5\u001b[0m     \u001b[0;32mreturn\u001b[0m\u001b[0;34m(\u001b[0m\u001b[0mres\u001b[0m\u001b[0;34m)\u001b[0m\u001b[0;34m\u001b[0m\u001b[0;34m\u001b[0m\u001b[0m\n\u001b[0;32m----> 6\u001b[0;31m \u001b[0mX_train_encoded\u001b[0m \u001b[0;34m=\u001b[0m \u001b[0mencode_and_bind\u001b[0m\u001b[0;34m(\u001b[0m\u001b[0mX_train\u001b[0m\u001b[0;34m,\u001b[0m \u001b[0mfeatures_to_encode\u001b[0m\u001b[0;34m=\u001b[0m\u001b[0;34m'cat_vars'\u001b[0m\u001b[0;34m)\u001b[0m\u001b[0;34m\u001b[0m\u001b[0;34m\u001b[0m\u001b[0m\n\u001b[0m",
            "\u001b[0;32m<ipython-input-179-ee03f7d87b69>\u001b[0m in \u001b[0;36mencode_and_bind\u001b[0;34m(original_dataframe, features_to_encode)\u001b[0m\n\u001b[1;32m      1\u001b[0m \u001b[0;32mdef\u001b[0m \u001b[0mencode_and_bind\u001b[0m\u001b[0;34m(\u001b[0m\u001b[0moriginal_dataframe\u001b[0m\u001b[0;34m,\u001b[0m \u001b[0mfeatures_to_encode\u001b[0m\u001b[0;34m)\u001b[0m\u001b[0;34m:\u001b[0m\u001b[0;34m\u001b[0m\u001b[0;34m\u001b[0m\u001b[0m\n\u001b[0;32m----> 2\u001b[0;31m     \u001b[0mdummies\u001b[0m \u001b[0;34m=\u001b[0m \u001b[0mpd\u001b[0m\u001b[0;34m.\u001b[0m\u001b[0mget_dummies\u001b[0m\u001b[0;34m(\u001b[0m\u001b[0moriginal_dataframe\u001b[0m\u001b[0;34m[\u001b[0m\u001b[0mfeatures_to_encode\u001b[0m\u001b[0;34m]\u001b[0m\u001b[0;34m)\u001b[0m\u001b[0;34m\u001b[0m\u001b[0;34m\u001b[0m\u001b[0m\n\u001b[0m\u001b[1;32m      3\u001b[0m     \u001b[0mres\u001b[0m \u001b[0;34m=\u001b[0m \u001b[0mpd\u001b[0m\u001b[0;34m.\u001b[0m\u001b[0mconcat\u001b[0m\u001b[0;34m(\u001b[0m\u001b[0;34m[\u001b[0m\u001b[0mdummies\u001b[0m\u001b[0;34m,\u001b[0m \u001b[0moriginal_dataframe\u001b[0m\u001b[0;34m]\u001b[0m\u001b[0;34m,\u001b[0m \u001b[0maxis\u001b[0m\u001b[0;34m=\u001b[0m\u001b[0;36m1\u001b[0m\u001b[0;34m)\u001b[0m\u001b[0;34m\u001b[0m\u001b[0;34m\u001b[0m\u001b[0m\n\u001b[1;32m      4\u001b[0m     \u001b[0mres\u001b[0m \u001b[0;34m=\u001b[0m \u001b[0mres\u001b[0m\u001b[0;34m.\u001b[0m\u001b[0mdrop\u001b[0m\u001b[0;34m(\u001b[0m\u001b[0mfeatures_to_encode\u001b[0m\u001b[0;34m,\u001b[0m \u001b[0maxis\u001b[0m\u001b[0;34m=\u001b[0m\u001b[0;36m1\u001b[0m\u001b[0;34m)\u001b[0m\u001b[0;34m\u001b[0m\u001b[0;34m\u001b[0m\u001b[0m\n\u001b[1;32m      5\u001b[0m     \u001b[0;32mreturn\u001b[0m\u001b[0;34m(\u001b[0m\u001b[0mres\u001b[0m\u001b[0;34m)\u001b[0m\u001b[0;34m\u001b[0m\u001b[0;34m\u001b[0m\u001b[0m\n",
            "\u001b[0;31mIndexError\u001b[0m: only integers, slices (`:`), ellipsis (`...`), numpy.newaxis (`None`) and integer or boolean arrays are valid indices"
          ]
        }
      ]
    },
    {
      "cell_type": "code",
      "metadata": {
        "id": "hTKK3nw8zrVZ",
        "outputId": "bf580725-00b1-4453-8d99-e8fcc664dc59",
        "colab": {
          "base_uri": "https://localhost:8080/",
          "height": 292
        }
      },
      "source": [
        "feature_importances = list(zip(X_train, rf_classifier.feature_importances_))\n",
        "# Then sort the feature importances by most important first\n",
        "feature_importances_ranked = sorted(feature_importances, key = lambda x: x[1], reverse = True)\n",
        "# Print out the feature and importances\n",
        "[print('Feature: {:35} Importance: {}'.format(*pair)) for pair in feature_importances_ranked];"
      ],
      "execution_count": 180,
      "outputs": [
        {
          "output_type": "error",
          "ename": "TypeError",
          "evalue": "ignored",
          "traceback": [
            "\u001b[0;31m---------------------------------------------------------------------------\u001b[0m",
            "\u001b[0;31mTypeError\u001b[0m                                 Traceback (most recent call last)",
            "\u001b[0;32m<ipython-input-180-5eec66b4ebd7>\u001b[0m in \u001b[0;36m<module>\u001b[0;34m()\u001b[0m\n\u001b[1;32m      3\u001b[0m \u001b[0mfeature_importances_ranked\u001b[0m \u001b[0;34m=\u001b[0m \u001b[0msorted\u001b[0m\u001b[0;34m(\u001b[0m\u001b[0mfeature_importances\u001b[0m\u001b[0;34m,\u001b[0m \u001b[0mkey\u001b[0m \u001b[0;34m=\u001b[0m \u001b[0;32mlambda\u001b[0m \u001b[0mx\u001b[0m\u001b[0;34m:\u001b[0m \u001b[0mx\u001b[0m\u001b[0;34m[\u001b[0m\u001b[0;36m1\u001b[0m\u001b[0;34m]\u001b[0m\u001b[0;34m,\u001b[0m \u001b[0mreverse\u001b[0m \u001b[0;34m=\u001b[0m \u001b[0;32mTrue\u001b[0m\u001b[0;34m)\u001b[0m\u001b[0;34m\u001b[0m\u001b[0;34m\u001b[0m\u001b[0m\n\u001b[1;32m      4\u001b[0m \u001b[0;31m# Print out the feature and importances\u001b[0m\u001b[0;34m\u001b[0m\u001b[0;34m\u001b[0m\u001b[0;34m\u001b[0m\u001b[0m\n\u001b[0;32m----> 5\u001b[0;31m \u001b[0;34m[\u001b[0m\u001b[0mprint\u001b[0m\u001b[0;34m(\u001b[0m\u001b[0;34m'Feature: {:35} Importance: {}'\u001b[0m\u001b[0;34m.\u001b[0m\u001b[0mformat\u001b[0m\u001b[0;34m(\u001b[0m\u001b[0;34m*\u001b[0m\u001b[0mpair\u001b[0m\u001b[0;34m)\u001b[0m\u001b[0;34m)\u001b[0m \u001b[0;32mfor\u001b[0m \u001b[0mpair\u001b[0m \u001b[0;32min\u001b[0m \u001b[0mfeature_importances_ranked\u001b[0m\u001b[0;34m]\u001b[0m\u001b[0;34m;\u001b[0m\u001b[0;34m\u001b[0m\u001b[0;34m\u001b[0m\u001b[0m\n\u001b[0m",
            "\u001b[0;32m<ipython-input-180-5eec66b4ebd7>\u001b[0m in \u001b[0;36m<listcomp>\u001b[0;34m(.0)\u001b[0m\n\u001b[1;32m      3\u001b[0m \u001b[0mfeature_importances_ranked\u001b[0m \u001b[0;34m=\u001b[0m \u001b[0msorted\u001b[0m\u001b[0;34m(\u001b[0m\u001b[0mfeature_importances\u001b[0m\u001b[0;34m,\u001b[0m \u001b[0mkey\u001b[0m \u001b[0;34m=\u001b[0m \u001b[0;32mlambda\u001b[0m \u001b[0mx\u001b[0m\u001b[0;34m:\u001b[0m \u001b[0mx\u001b[0m\u001b[0;34m[\u001b[0m\u001b[0;36m1\u001b[0m\u001b[0;34m]\u001b[0m\u001b[0;34m,\u001b[0m \u001b[0mreverse\u001b[0m \u001b[0;34m=\u001b[0m \u001b[0;32mTrue\u001b[0m\u001b[0;34m)\u001b[0m\u001b[0;34m\u001b[0m\u001b[0;34m\u001b[0m\u001b[0m\n\u001b[1;32m      4\u001b[0m \u001b[0;31m# Print out the feature and importances\u001b[0m\u001b[0;34m\u001b[0m\u001b[0;34m\u001b[0m\u001b[0;34m\u001b[0m\u001b[0m\n\u001b[0;32m----> 5\u001b[0;31m \u001b[0;34m[\u001b[0m\u001b[0mprint\u001b[0m\u001b[0;34m(\u001b[0m\u001b[0;34m'Feature: {:35} Importance: {}'\u001b[0m\u001b[0;34m.\u001b[0m\u001b[0mformat\u001b[0m\u001b[0;34m(\u001b[0m\u001b[0;34m*\u001b[0m\u001b[0mpair\u001b[0m\u001b[0;34m)\u001b[0m\u001b[0;34m)\u001b[0m \u001b[0;32mfor\u001b[0m \u001b[0mpair\u001b[0m \u001b[0;32min\u001b[0m \u001b[0mfeature_importances_ranked\u001b[0m\u001b[0;34m]\u001b[0m\u001b[0;34m;\u001b[0m\u001b[0;34m\u001b[0m\u001b[0;34m\u001b[0m\u001b[0m\n\u001b[0m",
            "\u001b[0;31mTypeError\u001b[0m: unsupported format string passed to numpy.ndarray.__format__"
          ]
        }
      ]
    },
    {
      "cell_type": "code",
      "metadata": {
        "id": "KXLr6Qj31PlE"
      },
      "source": [
        ""
      ],
      "execution_count": null,
      "outputs": []
    }
  ]
}