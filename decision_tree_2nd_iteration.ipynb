{
  "nbformat": 4,
  "nbformat_minor": 0,
  "metadata": {
    "colab": {
      "name": "decision_tree_2nd_iteration.ipynb",
      "provenance": [],
      "collapsed_sections": []
    },
    "kernelspec": {
      "name": "python3",
      "display_name": "Python 3"
    }
  },
  "cells": [
    {
      "cell_type": "code",
      "metadata": {
        "id": "_P7FgDeo7sBN"
      },
      "source": [
        "import pandas as pd\n",
        "import seaborn as sns\n",
        "import matplotlib.pyplot as plt\n",
        "from sklearn.preprocessing import LabelEncoder\n",
        "from sklearn.preprocessing import StandardScaler\n",
        "from sklearn.model_selection import train_test_split\n",
        "from sklearn import metrics\n",
        "from sklearn.metrics import f1_score, roc_auc_score\n",
        "from sklearn.ensemble import GradientBoostingClassifier\n",
        "from sklearn.ensemble import RandomForestClassifier\n",
        "from sklearn.model_selection import GridSearchCV\n",
        "from sklearn.pipeline import Pipeline\n",
        "from sklearn.tree import DecisionTreeClassifier\n",
        "from sklearn.metrics import accuracy_score\n",
        "from sklearn.pipeline import make_pipeline\n",
        "from sklearn.model_selection import train_test_split\n",
        "from sklearn.compose import ColumnTransformer"
      ],
      "execution_count": 5,
      "outputs": []
    },
    {
      "cell_type": "code",
      "metadata": {
        "id": "fuueJeCn8QDS"
      },
      "source": [
        "original_dataset = pd.read_csv('/content/drive/My Drive/trans.csv',delimiter=',',header=0)"
      ],
      "execution_count": 8,
      "outputs": []
    },
    {
      "cell_type": "code",
      "metadata": {
        "id": "1XcZxM_e8bdL",
        "outputId": "a8cbacb3-23f1-4907-b46f-b59c523b57c4",
        "colab": {
          "base_uri": "https://localhost:8080/"
        }
      },
      "source": [
        "original_dataset.isnull().sum()"
      ],
      "execution_count": 9,
      "outputs": [
        {
          "output_type": "execute_result",
          "data": {
            "text/plain": [
              "Ref                                    0\n",
              "Credit_Score                           0\n",
              "Final_Grade                            0\n",
              "Term                                   0\n",
              "Net_Advance                            0\n",
              "APR                                    0\n",
              "Loan_Type                              0\n",
              "Mosaic                                 0\n",
              "Mosaic_Class                           0\n",
              "Time_at_Address                        0\n",
              "Residential_Status                     0\n",
              "Telephone_Indicator                    0\n",
              "Number_of_Dependants                   0\n",
              "Marital_Status                         0\n",
              "Gender                                 0\n",
              "Time_in_Employment                     0\n",
              "Employment_Status                      0\n",
              "Full_Part_Time_Empl_Ind                0\n",
              "Perm_Temp_Empl_Ind                     0\n",
              "Income_Range                           0\n",
              "Current_Account                        0\n",
              "ACCESS_Card                            0\n",
              "VISA_Card                              0\n",
              "American_Express                       0\n",
              "Diners_Card                            0\n",
              "Cheque_Guarantee                       0\n",
              "Other_Credit_Store_Card                0\n",
              "Time_with_Bank                         0\n",
              "Value_of_Property                      0\n",
              "Outstanding_Mortgage_Bal               0\n",
              "Total_Outstanding_Balances             0\n",
              "Bureau_Data___Monthly_Other_Co_R       0\n",
              "Worst_History_CT                       0\n",
              "Payment_Method                         0\n",
              "Age                                    0\n",
              "Total_outstanding_balance__mortg       0\n",
              "Total___Public_Info___CCJ____ban       0\n",
              "Total_value__Public_Info___CCJ__       0\n",
              "Time_since_most_recent_Public_In       0\n",
              "Total_value__CAIS_8_9s                 0\n",
              "Worst_status_L6m                       0\n",
              "Worst_CUrrent_Status                   0\n",
              "__of_status_3_s_L6m                    0\n",
              "Searches___Total___L6m                 0\n",
              "Years_on_ER_for_SP                     0\n",
              "Bankruptcy_Detected__SP_               0\n",
              "Total___outstanding_CCJ_s              0\n",
              "Total_outstanding_balance___excl       0\n",
              "Total___of_accounts                    0\n",
              "CIFAS_detected                         0\n",
              "Time_since_most_recent_outstandi       0\n",
              "Insurance_Description               6922\n",
              "PPI                                    0\n",
              "code                                6978\n",
              "prdt_desc                           7038\n",
              "category                            6922\n",
              "PPI_SINGLE                             0\n",
              "PPI_JOINT                              0\n",
              "PPI_LCI                                0\n",
              "dtype: int64"
            ]
          },
          "metadata": {
            "tags": []
          },
          "execution_count": 9
        }
      ]
    },
    {
      "cell_type": "code",
      "metadata": {
        "id": "xVMspufL8dNA"
      },
      "source": [
        "def label_class(row):\n",
        "    if row['PPI_SINGLE'] == 1:\n",
        "        return 'single'\n",
        "    if row['PPI_JOINT'] == 1:\n",
        "        return 'joint'\n",
        "    if row['PPI_LCI'] == 1:\n",
        "        return 'lci'"
      ],
      "execution_count": 10,
      "outputs": []
    },
    {
      "cell_type": "code",
      "metadata": {
        "id": "iWH65w_f8fiQ"
      },
      "source": [
        "original_dataset['class'] = original_dataset.apply (lambda row: label_class(row), axis=1)"
      ],
      "execution_count": 11,
      "outputs": []
    },
    {
      "cell_type": "code",
      "metadata": {
        "id": "LvlP_7rZ8kLo"
      },
      "source": [
        "drop_columns =['Insurance_Description','code','prdt_desc','category','PPI_SINGLE','PPI_JOINT','PPI_LCI']\n",
        "original_dataset.drop(drop_columns,inplace=True,axis=1)"
      ],
      "execution_count": 12,
      "outputs": []
    },
    {
      "cell_type": "code",
      "metadata": {
        "id": "3avyzry78k6h"
      },
      "source": [
        "data_preprocessced = original_dataset"
      ],
      "execution_count": 13,
      "outputs": []
    },
    {
      "cell_type": "code",
      "metadata": {
        "id": "-xPWi2xQ8oOO"
      },
      "source": [
        "data_ready_for_pipeline_train_test = data_preprocessced[data_preprocessced['PPI'].isin(['1'])]\n",
        "data_ready_for_pipeline_scoring = data_preprocessced[data_preprocessced['PPI'].isin(['0'])]"
      ],
      "execution_count": 14,
      "outputs": []
    },
    {
      "cell_type": "code",
      "metadata": {
        "id": "O1sHd6Uh8qWA",
        "outputId": "c22713ec-59ac-4f84-89dc-598bcf380f87",
        "colab": {
          "base_uri": "https://localhost:8080/"
        }
      },
      "source": [
        "\n",
        "data_ready_for_pipeline_scoring.info()"
      ],
      "execution_count": 15,
      "outputs": [
        {
          "output_type": "stream",
          "text": [
            "<class 'pandas.core.frame.DataFrame'>\n",
            "Int64Index: 6922 entries, 0 to 16382\n",
            "Data columns (total 53 columns):\n",
            " #   Column                            Non-Null Count  Dtype  \n",
            "---  ------                            --------------  -----  \n",
            " 0   Ref                               6922 non-null   int64  \n",
            " 1   Credit_Score                      6922 non-null   int64  \n",
            " 2   Final_Grade                       6922 non-null   object \n",
            " 3   Term                              6922 non-null   int64  \n",
            " 4   Net_Advance                       6922 non-null   float64\n",
            " 5   APR                               6922 non-null   float64\n",
            " 6   Loan_Type                         6922 non-null   object \n",
            " 7   Mosaic                            6922 non-null   int64  \n",
            " 8   Mosaic_Class                      6922 non-null   int64  \n",
            " 9   Time_at_Address                   6922 non-null   int64  \n",
            " 10  Residential_Status                6922 non-null   object \n",
            " 11  Telephone_Indicator               6922 non-null   object \n",
            " 12  Number_of_Dependants              6922 non-null   int64  \n",
            " 13  Marital_Status                    6922 non-null   object \n",
            " 14  Gender                            6922 non-null   object \n",
            " 15  Time_in_Employment                6922 non-null   int64  \n",
            " 16  Employment_Status                 6922 non-null   object \n",
            " 17  Full_Part_Time_Empl_Ind           6922 non-null   object \n",
            " 18  Perm_Temp_Empl_Ind                6922 non-null   object \n",
            " 19  Income_Range                      6922 non-null   int64  \n",
            " 20  Current_Account                   6922 non-null   object \n",
            " 21  ACCESS_Card                       6922 non-null   object \n",
            " 22  VISA_Card                         6922 non-null   object \n",
            " 23  American_Express                  6922 non-null   object \n",
            " 24  Diners_Card                       6922 non-null   object \n",
            " 25  Cheque_Guarantee                  6922 non-null   object \n",
            " 26  Other_Credit_Store_Card           6922 non-null   object \n",
            " 27  Time_with_Bank                    6922 non-null   int64  \n",
            " 28  Value_of_Property                 6922 non-null   int64  \n",
            " 29  Outstanding_Mortgage_Bal          6922 non-null   int64  \n",
            " 30  Total_Outstanding_Balances        6922 non-null   int64  \n",
            " 31  Bureau_Data___Monthly_Other_Co_R  6922 non-null   int64  \n",
            " 32  Worst_History_CT                  6922 non-null   int64  \n",
            " 33  Payment_Method                    6922 non-null   object \n",
            " 34  Age                               6922 non-null   int64  \n",
            " 35  Total_outstanding_balance__mortg  6922 non-null   int64  \n",
            " 36  Total___Public_Info___CCJ____ban  6922 non-null   int64  \n",
            " 37  Total_value__Public_Info___CCJ__  6922 non-null   int64  \n",
            " 38  Time_since_most_recent_Public_In  6922 non-null   int64  \n",
            " 39  Total_value__CAIS_8_9s            6922 non-null   int64  \n",
            " 40  Worst_status_L6m                  6922 non-null   int64  \n",
            " 41  Worst_CUrrent_Status              6922 non-null   int64  \n",
            " 42  __of_status_3_s_L6m               6922 non-null   int64  \n",
            " 43  Searches___Total___L6m            6922 non-null   int64  \n",
            " 44  Years_on_ER_for_SP                6922 non-null   int64  \n",
            " 45  Bankruptcy_Detected__SP_          6922 non-null   object \n",
            " 46  Total___outstanding_CCJ_s         6922 non-null   int64  \n",
            " 47  Total_outstanding_balance___excl  6922 non-null   int64  \n",
            " 48  Total___of_accounts               6922 non-null   int64  \n",
            " 49  CIFAS_detected                    6922 non-null   object \n",
            " 50  Time_since_most_recent_outstandi  6922 non-null   int64  \n",
            " 51  PPI                               6922 non-null   int64  \n",
            " 52  class                             0 non-null      object \n",
            "dtypes: float64(2), int64(31), object(20)\n",
            "memory usage: 2.9+ MB\n"
          ],
          "name": "stdout"
        }
      ]
    },
    {
      "cell_type": "code",
      "metadata": {
        "id": "KdHUiX8l8r9q"
      },
      "source": [
        "drop_columns_for_pipeline_scoring=['PPI','class','Ref']\n",
        "drop_columns_for_pipeline_train_test=['PPI','Ref']"
      ],
      "execution_count": 16,
      "outputs": []
    },
    {
      "cell_type": "code",
      "metadata": {
        "id": "t1fcduCK8y5f",
        "outputId": "8717404c-0680-468a-9a33-9b3772cfa095",
        "colab": {
          "base_uri": "https://localhost:8080/"
        }
      },
      "source": [
        "data_ready_for_pipeline_scoring.drop(drop_columns_for_pipeline_scoring,inplace=True,axis=1)"
      ],
      "execution_count": 17,
      "outputs": [
        {
          "output_type": "stream",
          "text": [
            "/usr/local/lib/python3.6/dist-packages/pandas/core/frame.py:4170: SettingWithCopyWarning: \n",
            "A value is trying to be set on a copy of a slice from a DataFrame\n",
            "\n",
            "See the caveats in the documentation: https://pandas.pydata.org/pandas-docs/stable/user_guide/indexing.html#returning-a-view-versus-a-copy\n",
            "  errors=errors,\n"
          ],
          "name": "stderr"
        }
      ]
    },
    {
      "cell_type": "code",
      "metadata": {
        "id": "xC6VsXvWaFHo",
        "outputId": "af002b79-7009-42d6-fe02-2ffc657d9ac8",
        "colab": {
          "base_uri": "https://localhost:8080/"
        }
      },
      "source": [
        "data_ready_for_pipeline_scoring.shape"
      ],
      "execution_count": 18,
      "outputs": [
        {
          "output_type": "execute_result",
          "data": {
            "text/plain": [
              "(6922, 50)"
            ]
          },
          "metadata": {
            "tags": []
          },
          "execution_count": 18
        }
      ]
    },
    {
      "cell_type": "code",
      "metadata": {
        "id": "clDtxl39aUWk",
        "outputId": "b3c61b31-4bd2-4cd1-acf5-a2427c490f5e",
        "colab": {
          "base_uri": "https://localhost:8080/"
        }
      },
      "source": [
        "data_ready_for_pipeline_train_test.drop(drop_columns_for_pipeline_train_test,inplace=True,axis=1)"
      ],
      "execution_count": 19,
      "outputs": [
        {
          "output_type": "stream",
          "text": [
            "/usr/local/lib/python3.6/dist-packages/pandas/core/frame.py:4170: SettingWithCopyWarning: \n",
            "A value is trying to be set on a copy of a slice from a DataFrame\n",
            "\n",
            "See the caveats in the documentation: https://pandas.pydata.org/pandas-docs/stable/user_guide/indexing.html#returning-a-view-versus-a-copy\n",
            "  errors=errors,\n"
          ],
          "name": "stderr"
        }
      ]
    },
    {
      "cell_type": "code",
      "metadata": {
        "id": "r8Yn74NTackw",
        "outputId": "0d981c7f-9473-4fb0-a95d-9f7c748a0d7a",
        "colab": {
          "base_uri": "https://localhost:8080/"
        }
      },
      "source": [
        "data_ready_for_pipeline_train_test.shape"
      ],
      "execution_count": 20,
      "outputs": [
        {
          "output_type": "execute_result",
          "data": {
            "text/plain": [
              "(9461, 51)"
            ]
          },
          "metadata": {
            "tags": []
          },
          "execution_count": 20
        }
      ]
    },
    {
      "cell_type": "code",
      "metadata": {
        "id": "mqEDhURg81SR",
        "outputId": "1c38c4ab-55f4-451a-be93-0def54ae8af1",
        "colab": {
          "base_uri": "https://localhost:8080/"
        }
      },
      "source": [
        "product_map_status={'lci':1,'single':2,'joint':3}\n",
        "data_ready_for_pipeline_train_test['class'] = data_ready_for_pipeline_train_test['class'].map(product_map_status)"
      ],
      "execution_count": 21,
      "outputs": [
        {
          "output_type": "stream",
          "text": [
            "/usr/local/lib/python3.6/dist-packages/ipykernel_launcher.py:2: SettingWithCopyWarning: \n",
            "A value is trying to be set on a copy of a slice from a DataFrame.\n",
            "Try using .loc[row_indexer,col_indexer] = value instead\n",
            "\n",
            "See the caveats in the documentation: https://pandas.pydata.org/pandas-docs/stable/user_guide/indexing.html#returning-a-view-versus-a-copy\n",
            "  \n"
          ],
          "name": "stderr"
        }
      ]
    },
    {
      "cell_type": "code",
      "metadata": {
        "id": "WIUH7UTy9Ksf"
      },
      "source": [
        "y = data_ready_for_pipeline_train_test.pop('class')"
      ],
      "execution_count": 22,
      "outputs": []
    },
    {
      "cell_type": "code",
      "metadata": {
        "id": "2uRtQnCE9Mld"
      },
      "source": [
        "X = data_ready_for_pipeline_train_test"
      ],
      "execution_count": 23,
      "outputs": []
    },
    {
      "cell_type": "code",
      "metadata": {
        "id": "kXV9XUi49OCc",
        "outputId": "11b4df92-77f5-4189-d8ad-4b44a69b5f2c",
        "colab": {
          "base_uri": "https://localhost:8080/"
        }
      },
      "source": [
        "X.info()\n",
        "X.shape"
      ],
      "execution_count": 24,
      "outputs": [
        {
          "output_type": "stream",
          "text": [
            "<class 'pandas.core.frame.DataFrame'>\n",
            "Int64Index: 9461 entries, 1 to 16381\n",
            "Data columns (total 50 columns):\n",
            " #   Column                            Non-Null Count  Dtype  \n",
            "---  ------                            --------------  -----  \n",
            " 0   Credit_Score                      9461 non-null   int64  \n",
            " 1   Final_Grade                       9461 non-null   object \n",
            " 2   Term                              9461 non-null   int64  \n",
            " 3   Net_Advance                       9461 non-null   float64\n",
            " 4   APR                               9461 non-null   float64\n",
            " 5   Loan_Type                         9461 non-null   object \n",
            " 6   Mosaic                            9461 non-null   int64  \n",
            " 7   Mosaic_Class                      9461 non-null   int64  \n",
            " 8   Time_at_Address                   9461 non-null   int64  \n",
            " 9   Residential_Status                9461 non-null   object \n",
            " 10  Telephone_Indicator               9461 non-null   object \n",
            " 11  Number_of_Dependants              9461 non-null   int64  \n",
            " 12  Marital_Status                    9461 non-null   object \n",
            " 13  Gender                            9461 non-null   object \n",
            " 14  Time_in_Employment                9461 non-null   int64  \n",
            " 15  Employment_Status                 9461 non-null   object \n",
            " 16  Full_Part_Time_Empl_Ind           9461 non-null   object \n",
            " 17  Perm_Temp_Empl_Ind                9461 non-null   object \n",
            " 18  Income_Range                      9461 non-null   int64  \n",
            " 19  Current_Account                   9461 non-null   object \n",
            " 20  ACCESS_Card                       9461 non-null   object \n",
            " 21  VISA_Card                         9461 non-null   object \n",
            " 22  American_Express                  9461 non-null   object \n",
            " 23  Diners_Card                       9461 non-null   object \n",
            " 24  Cheque_Guarantee                  9461 non-null   object \n",
            " 25  Other_Credit_Store_Card           9461 non-null   object \n",
            " 26  Time_with_Bank                    9461 non-null   int64  \n",
            " 27  Value_of_Property                 9461 non-null   int64  \n",
            " 28  Outstanding_Mortgage_Bal          9461 non-null   int64  \n",
            " 29  Total_Outstanding_Balances        9461 non-null   int64  \n",
            " 30  Bureau_Data___Monthly_Other_Co_R  9461 non-null   int64  \n",
            " 31  Worst_History_CT                  9461 non-null   int64  \n",
            " 32  Payment_Method                    9461 non-null   object \n",
            " 33  Age                               9461 non-null   int64  \n",
            " 34  Total_outstanding_balance__mortg  9461 non-null   int64  \n",
            " 35  Total___Public_Info___CCJ____ban  9461 non-null   int64  \n",
            " 36  Total_value__Public_Info___CCJ__  9461 non-null   int64  \n",
            " 37  Time_since_most_recent_Public_In  9461 non-null   int64  \n",
            " 38  Total_value__CAIS_8_9s            9461 non-null   int64  \n",
            " 39  Worst_status_L6m                  9461 non-null   int64  \n",
            " 40  Worst_CUrrent_Status              9461 non-null   int64  \n",
            " 41  __of_status_3_s_L6m               9461 non-null   int64  \n",
            " 42  Searches___Total___L6m            9461 non-null   int64  \n",
            " 43  Years_on_ER_for_SP                9461 non-null   int64  \n",
            " 44  Bankruptcy_Detected__SP_          9461 non-null   object \n",
            " 45  Total___outstanding_CCJ_s         9461 non-null   int64  \n",
            " 46  Total_outstanding_balance___excl  9461 non-null   int64  \n",
            " 47  Total___of_accounts               9461 non-null   int64  \n",
            " 48  CIFAS_detected                    9461 non-null   object \n",
            " 49  Time_since_most_recent_outstandi  9461 non-null   int64  \n",
            "dtypes: float64(2), int64(29), object(19)\n",
            "memory usage: 3.7+ MB\n"
          ],
          "name": "stdout"
        },
        {
          "output_type": "execute_result",
          "data": {
            "text/plain": [
              "(9461, 50)"
            ]
          },
          "metadata": {
            "tags": []
          },
          "execution_count": 24
        }
      ]
    },
    {
      "cell_type": "code",
      "metadata": {
        "id": "aB0bu17S9Pk7",
        "outputId": "24c2a22e-de0d-4661-e1b1-b5cb877fbc83",
        "colab": {
          "base_uri": "https://localhost:8080/"
        }
      },
      "source": [
        "num_vars =['Credit_Score','Term','Net_Advance','APR','Mosaic','Time_at_Address','Number_of_Dependants','Time_in_Employment','Time_with_Bank','Value_of_Property','Outstanding_Mortgage_Bal','Total_Outstanding_Balances','Bureau_Data___Monthly_Other_Co_R','Age','Total_outstanding_balance__mortg','Total_value__Public_Info___CCJ__','Time_since_most_recent_Public_In','Total_value__CAIS_8_9s','Searches___Total___L6m','Years_on_ER_for_SP','Total_outstanding_balance___excl','Total___of_accounts','Time_since_most_recent_outstandi']\n",
        "cat_vars=['Final_Grade','Loan_Type','Mosaic_Class','Residential_Status','Telephone_Indicator','Marital_Status','Gender','Employment_Status','Full_Part_Time_Empl_Ind','Perm_Temp_Empl_Ind','Income_Range','Current_Account','ACCESS_Card','VISA_Card','American_Express','Diners_Card','Cheque_Guarantee','Other_Credit_Store_Card','Worst_History_CT','Payment_Method','Total___Public_Info___CCJ____ban','Worst_status_L6m','Worst_CUrrent_Status','__of_status_3_s_L6m','Bankruptcy_Detected__SP_','Total___outstanding_CCJ_s','CIFAS_detected']\n",
        "print(len(num_vars))\n",
        "print(len(cat_vars))"
      ],
      "execution_count": 25,
      "outputs": [
        {
          "output_type": "stream",
          "text": [
            "23\n",
            "27\n"
          ],
          "name": "stdout"
        }
      ]
    },
    {
      "cell_type": "code",
      "metadata": {
        "id": "TdTdBtr-9OZD",
        "outputId": "cee1c2d2-b1f6-4867-f3c9-1ceb2be0f8f5",
        "colab": {
          "base_uri": "https://localhost:8080/"
        }
      },
      "source": [
        "from sklearn.preprocessing import LabelEncoder\n",
        "\n",
        "label = LabelEncoder()\n",
        "for column in cat_vars:\n",
        "    X[column] = label.fit_transform(X[column])"
      ],
      "execution_count": 26,
      "outputs": [
        {
          "output_type": "stream",
          "text": [
            "/usr/local/lib/python3.6/dist-packages/ipykernel_launcher.py:5: SettingWithCopyWarning: \n",
            "A value is trying to be set on a copy of a slice from a DataFrame.\n",
            "Try using .loc[row_indexer,col_indexer] = value instead\n",
            "\n",
            "See the caveats in the documentation: https://pandas.pydata.org/pandas-docs/stable/user_guide/indexing.html#returning-a-view-versus-a-copy\n",
            "  \"\"\"\n"
          ],
          "name": "stderr"
        }
      ]
    },
    {
      "cell_type": "code",
      "metadata": {
        "id": "y_aQqpu_9UPG",
        "outputId": "2475a0eb-0c00-4a27-e4eb-0983ae3e1bec",
        "colab": {
          "base_uri": "https://localhost:8080/"
        }
      },
      "source": [
        "X_train, X_test, y_train, y_test = train_test_split(X,y,test_size=0.20, random_state = 50)\n",
        "print(\"Number transactions X_train dataset: \", X_train.shape)\n",
        "print(\"Number transactions y_train dataset: \", y_train.shape)\n",
        "print(\"Number transactions X_test dataset: \", X_test.shape)\n",
        "print(\"Number transactions y_test dataset: \", y_test.shape)"
      ],
      "execution_count": 43,
      "outputs": [
        {
          "output_type": "stream",
          "text": [
            "Number transactions X_train dataset:  (7568, 50)\n",
            "Number transactions y_train dataset:  (7568,)\n",
            "Number transactions X_test dataset:  (1893, 50)\n",
            "Number transactions y_test dataset:  (1893,)\n"
          ],
          "name": "stdout"
        }
      ]
    },
    {
      "cell_type": "code",
      "metadata": {
        "id": "7WYWA_TCDR5u",
        "outputId": "e9da8497-39b8-436c-fb75-a46c17a24472",
        "colab": {
          "base_uri": "https://localhost:8080/"
        }
      },
      "source": [
        "\n",
        "from imblearn.over_sampling import SMOTE\n",
        "X_train_sm,y_train_sm = SMOTE().fit_sample(X_train,y_train.ravel())\n",
        "print('After OverSampling, the shape of X_train: {}'.format(X_train_sm.shape))\n",
        "print('After OverSampling, the shape of y_train: {} \\n'.format(y_train_sm.shape))\n"
      ],
      "execution_count": 45,
      "outputs": [
        {
          "output_type": "stream",
          "text": [
            "After OverSampling, the shape of train_X: (15000, 50)\n",
            "After OverSampling, the shape of train_y: (15000,) \n",
            "\n"
          ],
          "name": "stdout"
        },
        {
          "output_type": "stream",
          "text": [
            "/usr/local/lib/python3.6/dist-packages/sklearn/utils/deprecation.py:87: FutureWarning: Function safe_indexing is deprecated; safe_indexing is deprecated in version 0.22 and will be removed in version 0.24.\n",
            "  warnings.warn(msg, category=FutureWarning)\n",
            "/usr/local/lib/python3.6/dist-packages/sklearn/utils/deprecation.py:87: FutureWarning: Function safe_indexing is deprecated; safe_indexing is deprecated in version 0.22 and will be removed in version 0.24.\n",
            "  warnings.warn(msg, category=FutureWarning)\n"
          ],
          "name": "stderr"
        }
      ]
    },
    {
      "cell_type": "code",
      "metadata": {
        "id": "yt17khu89Waw",
        "outputId": "406e9dde-79b2-4438-8f7c-49ef2e8c219b",
        "colab": {
          "base_uri": "https://localhost:8080/"
        }
      },
      "source": [
        "y_train.shape"
      ],
      "execution_count": 42,
      "outputs": [
        {
          "output_type": "execute_result",
          "data": {
            "text/plain": [
              "(15000,)"
            ]
          },
          "metadata": {
            "tags": []
          },
          "execution_count": 42
        }
      ]
    },
    {
      "cell_type": "code",
      "metadata": {
        "id": "pPH4rnZ79duw"
      },
      "source": [
        "ds_classifier=DecisionTreeClassifier(criterion='entropy',class_weight='balanced',random_state=35)"
      ],
      "execution_count": 52,
      "outputs": []
    },
    {
      "cell_type": "code",
      "metadata": {
        "id": "cmz5Ugiv9gHI",
        "outputId": "056a3cc7-1e4c-46ca-8cd0-c5fc5a7a9a44",
        "colab": {
          "base_uri": "https://localhost:8080/"
        }
      },
      "source": [
        "pipe = make_pipeline(ds_classifier)\n",
        "pipe.fit(X_train, y_train)"
      ],
      "execution_count": 54,
      "outputs": [
        {
          "output_type": "execute_result",
          "data": {
            "text/plain": [
              "Pipeline(memory=None,\n",
              "         steps=[('decisiontreeclassifier',\n",
              "                 DecisionTreeClassifier(ccp_alpha=0.0, class_weight='balanced',\n",
              "                                        criterion='entropy', max_depth=None,\n",
              "                                        max_features=None, max_leaf_nodes=None,\n",
              "                                        min_impurity_decrease=0.0,\n",
              "                                        min_impurity_split=None,\n",
              "                                        min_samples_leaf=1, min_samples_split=2,\n",
              "                                        min_weight_fraction_leaf=0.0,\n",
              "                                        presort='deprecated', random_state=35,\n",
              "                                        splitter='best'))],\n",
              "         verbose=False)"
            ]
          },
          "metadata": {
            "tags": []
          },
          "execution_count": 54
        }
      ]
    },
    {
      "cell_type": "code",
      "metadata": {
        "id": "gxbsUKJL9jbF"
      },
      "source": [
        "y_pred = pipe.predict(X_test)"
      ],
      "execution_count": 55,
      "outputs": []
    },
    {
      "cell_type": "code",
      "metadata": {
        "id": "mXMyGpmg9lte",
        "outputId": "1d4c528d-7c19-4951-b2e0-79f0ebbd3460",
        "colab": {
          "base_uri": "https://localhost:8080/"
        }
      },
      "source": [
        "from sklearn.metrics import accuracy_score, confusion_matrix, precision_score, recall_score, roc_auc_score, roc_curve, f1_score,classification_report\n",
        "accuracy_score(y_test, y_pred)\n",
        "print(f\"The accuracy of the model is {round(accuracy_score(y_test,y_pred),3)*100} %\")\n",
        "print('Classification report\\n {} \\n'.format(classification_report(y_test,y_pred)))"
      ],
      "execution_count": 56,
      "outputs": [
        {
          "output_type": "stream",
          "text": [
            "The accuracy of the model is 53.900000000000006 %\n",
            "Classification report\n",
            "               precision    recall  f1-score   support\n",
            "\n",
            "           1       0.28      0.29      0.28       397\n",
            "           2       0.69      0.66      0.67      1264\n",
            "           3       0.27      0.31      0.29       232\n",
            "\n",
            "    accuracy                           0.54      1893\n",
            "   macro avg       0.41      0.42      0.42      1893\n",
            "weighted avg       0.55      0.54      0.54      1893\n",
            " \n",
            "\n"
          ],
          "name": "stdout"
        }
      ]
    },
    {
      "cell_type": "code",
      "metadata": {
        "id": "xH-oMaV497mp",
        "outputId": "ab32b27e-9ed0-42f9-c533-2a3dc10b0e9f",
        "colab": {
          "base_uri": "https://localhost:8080/",
          "height": 621
        }
      },
      "source": [
        "import itertools\n",
        "import numpy as np\n",
        "def plot_confusion_matrix(cm, classes, normalize = False,\n",
        "                          title='Confusion matrix',\n",
        "                          cmap=plt.cm.Blues): # can change color \n",
        "    plt.figure(figsize = (10, 10))\n",
        "    plt.imshow(cm, interpolation='nearest', cmap=cmap)\n",
        "    plt.title(title, size = 24)\n",
        "    plt.colorbar(aspect=4)\n",
        "    tick_marks = np.arange(len(classes))\n",
        "    plt.xticks(tick_marks, classes, rotation=45, size = 14)\n",
        "    plt.yticks(tick_marks, classes, size = 14)\n",
        "    fmt = '.2f' if normalize else 'd'\n",
        "    thresh = cm.max() / 2.\n",
        "    # Label the plot\n",
        "    for i, j in itertools.product(range(cm.shape[0]),   range(cm.shape[1])):\n",
        "     plt.text(j, i, format(cm[i, j], fmt), \n",
        "             fontsize = 20,\n",
        "             horizontalalignment=\"center\",\n",
        "             color=\"white\" if cm[i, j] > thresh else \"black\")\n",
        "    plt.grid(None)\n",
        "    plt.tight_layout()\n",
        "    plt.ylabel('True label', size = 18)\n",
        "    plt.xlabel('Predicted label', size = 18)\n",
        "\n",
        "# Let's plot it out\n",
        "cm = confusion_matrix(y_test, y_pred)\n",
        "plot_confusion_matrix(cm, classes = ['1 - lci', '2 - single', '3 - joint'],\n",
        "                      title = 'Product_fit Confusion Matrix')"
      ],
      "execution_count": 57,
      "outputs": [
        {
          "output_type": "display_data",
          "data": {
            "image/png": "[encoded data removed]",
            "text/plain": [
              "<Figure size 720x720 with 2 Axes>"
            ]
          },
          "metadata": {
            "tags": [],
            "needs_background": "light"
          }
        }
      ]
    },
    {
      "cell_type": "code",
      "metadata": {
        "id": "dO8h1SVX-KUR",
        "outputId": "dd6a7c7f-5b71-4e12-effc-5848f510ce3c",
        "colab": {
          "base_uri": "https://localhost:8080/"
        }
      },
      "source": [
        "print(ds_classifier.feature_importances_)\n",
        "print(f\" There are {len(ds_classifier.feature_importances_)} features in total\")\n",
        "\n"
      ],
      "execution_count": 58,
      "outputs": [
        {
          "output_type": "stream",
          "text": [
            "[0.05283683 0.01117843 0.01721942 0.04306728 0.03241871 0.00145127\n",
            " 0.03326623 0.01227108 0.05092864 0.00783014 0.00244123 0.01401668\n",
            " 0.03046718 0.00684445 0.05925032 0.05513551 0.00101581 0.\n",
            " 0.0668524  0.         0.0029047  0.00493375 0.00061726 0.00052765\n",
            " 0.00294232 0.00799119 0.04173648 0.04637157 0.03079334 0.0265249\n",
            " 0.03808976 0.01058888 0.00013947 0.04223858 0.01733174 0.00307347\n",
            " 0.00622091 0.00191648 0.03590672 0.0140082  0.01013006 0.00535536\n",
            " 0.03490045 0.03087251 0.         0.00132977 0.05210439 0.02368222\n",
            " 0.00165726 0.00661901]\n",
            " There are 50 features in total\n"
          ],
          "name": "stdout"
        }
      ]
    },
    {
      "cell_type": "code",
      "metadata": {
        "id": "GYCQwFIk-2d_",
        "outputId": "f54a403c-1cad-475f-a94f-2b78904a9e67",
        "colab": {
          "base_uri": "https://localhost:8080/"
        }
      },
      "source": [
        "feature_importances = list(zip(X_train, ds_classifier.feature_importances_))\n",
        "# Then sort the feature importances by most important first\n",
        "feature_importances_ranked = sorted(feature_importances, key = lambda x: x[1], reverse = True)\n",
        "# Print out the feature and importances\n",
        "[print('Feature: {:35} Importance: {}'.format(*pair)) for pair in feature_importances_ranked];"
      ],
      "execution_count": 59,
      "outputs": [
        {
          "output_type": "stream",
          "text": [
            "Feature: Income_Range                        Importance: 0.06685240440001555\n",
            "Feature: Time_in_Employment                  Importance: 0.05925031692093734\n",
            "Feature: Employment_Status                   Importance: 0.055135510229315086\n",
            "Feature: Credit_Score                        Importance: 0.05283683123849871\n",
            "Feature: Total_outstanding_balance___excl    Importance: 0.05210439131895243\n",
            "Feature: Time_at_Address                     Importance: 0.05092863610621824\n",
            "Feature: Value_of_Property                   Importance: 0.04637156769533985\n",
            "Feature: Net_Advance                         Importance: 0.043067284822248836\n",
            "Feature: Age                                 Importance: 0.04223857635108389\n",
            "Feature: Time_with_Bank                      Importance: 0.041736477180320586\n",
            "Feature: Bureau_Data___Monthly_Other_Co_R    Importance: 0.038089761349348016\n",
            "Feature: Total_value__CAIS_8_9s              Importance: 0.03590671658761862\n",
            "Feature: Searches___Total___L6m              Importance: 0.03490045423929516\n",
            "Feature: Mosaic                              Importance: 0.03326623236994765\n",
            "Feature: APR                                 Importance: 0.032418710354284966\n",
            "Feature: Years_on_ER_for_SP                  Importance: 0.03087251269409523\n",
            "Feature: Outstanding_Mortgage_Bal            Importance: 0.030793344871786234\n",
            "Feature: Marital_Status                      Importance: 0.030467176351772176\n",
            "Feature: Total_Outstanding_Balances          Importance: 0.026524901234847843\n",
            "Feature: Total___of_accounts                 Importance: 0.02368222067401023\n",
            "Feature: Total_outstanding_balance__mortg    Importance: 0.01733174170101863\n",
            "Feature: Term                                Importance: 0.01721942356153383\n",
            "Feature: Number_of_Dependants                Importance: 0.014016681259519522\n",
            "Feature: Worst_status_L6m                    Importance: 0.01400819896444505\n",
            "Feature: Mosaic_Class                        Importance: 0.01227108169139928\n",
            "Feature: Final_Grade                         Importance: 0.01117842834885373\n",
            "Feature: Worst_History_CT                    Importance: 0.010588882655388362\n",
            "Feature: Worst_CUrrent_Status                Importance: 0.010130057228220656\n",
            "Feature: Other_Credit_Store_Card             Importance: 0.007991192429293777\n",
            "Feature: Residential_Status                  Importance: 0.007830137435252316\n",
            "Feature: Gender                              Importance: 0.0068444466830596806\n",
            "Feature: Time_since_most_recent_outstandi    Importance: 0.006619005514745214\n",
            "Feature: Total_value__Public_Info___CCJ__    Importance: 0.006220907284306148\n",
            "Feature: __of_status_3_s_L6m                 Importance: 0.005355363185777289\n",
            "Feature: VISA_Card                           Importance: 0.004933754431068627\n",
            "Feature: Total___Public_Info___CCJ____ban    Importance: 0.0030734652701256498\n",
            "Feature: Cheque_Guarantee                    Importance: 0.002942317826264445\n",
            "Feature: ACCESS_Card                         Importance: 0.0029046963273495086\n",
            "Feature: Telephone_Indicator                 Importance: 0.002441232659388729\n",
            "Feature: Time_since_most_recent_Public_In    Importance: 0.0019164821674032034\n",
            "Feature: CIFAS_detected                      Importance: 0.0016572551898044118\n",
            "Feature: Loan_Type                           Importance: 0.0014512663134764526\n",
            "Feature: Total___outstanding_CCJ_s           Importance: 0.0013297654587903877\n",
            "Feature: Full_Part_Time_Empl_Ind             Importance: 0.001015813689455751\n",
            "Feature: American_Express                    Importance: 0.0006172575058924325\n",
            "Feature: Diners_Card                         Importance: 0.0005276488219910681\n",
            "Feature: Payment_Method                      Importance: 0.00013946940623935596\n",
            "Feature: Perm_Temp_Empl_Ind                  Importance: 0.0\n",
            "Feature: Current_Account                     Importance: 0.0\n",
            "Feature: Bankruptcy_Detected__SP_            Importance: 0.0\n"
          ],
          "name": "stdout"
        }
      ]
    },
    {
      "cell_type": "code",
      "metadata": {
        "id": "o13zhm1B-7_h",
        "outputId": "cf98c79c-f41b-4462-fced-52c10249f2f6",
        "colab": {
          "base_uri": "https://localhost:8080/",
          "height": 848
        }
      },
      "source": [
        "# Plot the top 30 feature importance\n",
        "feature_names_25 = [i[0] for i in feature_importances_ranked[:30]]\n",
        "y_ticks = np.arange(0, len(feature_names_25))\n",
        "x_axis = [i[1] for i in feature_importances_ranked[:30]]\n",
        "plt.figure(figsize = (10, 14))\n",
        "plt.barh(feature_names_25, x_axis)   #horizontal barplot\n",
        "plt.title('Decision Tree feature Importance (Top 30)',\n",
        "          fontdict= {'fontname':'Comic Sans MS','fontsize' : 20})\n",
        "plt.xlabel('Features',fontdict= {'fontsize' : 16})\n",
        "plt.show()"
      ],
      "execution_count": 66,
      "outputs": [
        {
          "output_type": "display_data",
          "data": {
            "image/png": "[encoded data removed]",
            "text/plain": [
              "<Figure size 720x1008 with 1 Axes>"
            ]
          },
          "metadata": {
            "tags": [],
            "needs_background": "light"
          }
        }
      ]
    },
    {
      "cell_type": "code",
      "metadata": {
        "id": "F6BhqcvABf9_",
        "outputId": "2660a385-224c-43ae-a562-de29e1aa8f52",
        "colab": {
          "base_uri": "https://localhost:8080/"
        }
      },
      "source": [
        "pip install eli5"
      ],
      "execution_count": 62,
      "outputs": [
        {
          "output_type": "stream",
          "text": [
            "Collecting eli5\n",
            "\u001b[?25l  Downloading https://files.pythonhosted.org/packages/97/2f/c85c7d8f8548e460829971785347e14e45fa5c6617da374711dec8cb38cc/eli5-0.10.1-py2.py3-none-any.whl (105kB)\n",
            "\r\u001b[K     |███                             | 10kB 15.8MB/s eta 0:00:01\r\u001b[K     |██████▏                         | 20kB 1.7MB/s eta 0:00:01\r\u001b[K     |█████████▎                      | 30kB 2.1MB/s eta 0:00:01\r\u001b[K     |████████████▍                   | 40kB 2.4MB/s eta 0:00:01\r\u001b[K     |███████████████▌                | 51kB 1.9MB/s eta 0:00:01\r\u001b[K     |██████████████████▋             | 61kB 2.2MB/s eta 0:00:01\r\u001b[K     |█████████████████████▊          | 71kB 2.4MB/s eta 0:00:01\r\u001b[K     |████████████████████████▊       | 81kB 2.7MB/s eta 0:00:01\r\u001b[K     |███████████████████████████▉    | 92kB 2.8MB/s eta 0:00:01\r\u001b[K     |███████████████████████████████ | 102kB 2.7MB/s eta 0:00:01\r\u001b[K     |████████████████████████████████| 112kB 2.7MB/s \n",
            "\u001b[?25hRequirement already satisfied: tabulate>=0.7.7 in /usr/local/lib/python3.6/dist-packages (from eli5) (0.8.7)\n",
            "Requirement already satisfied: scipy in /usr/local/lib/python3.6/dist-packages (from eli5) (1.4.1)\n",
            "Requirement already satisfied: graphviz in /usr/local/lib/python3.6/dist-packages (from eli5) (0.10.1)\n",
            "Requirement already satisfied: jinja2 in /usr/local/lib/python3.6/dist-packages (from eli5) (2.11.2)\n",
            "Requirement already satisfied: attrs>16.0.0 in /usr/local/lib/python3.6/dist-packages (from eli5) (20.2.0)\n",
            "Requirement already satisfied: six in /usr/local/lib/python3.6/dist-packages (from eli5) (1.15.0)\n",
            "Requirement already satisfied: numpy>=1.9.0 in /usr/local/lib/python3.6/dist-packages (from eli5) (1.18.5)\n",
            "Requirement already satisfied: scikit-learn>=0.18 in /usr/local/lib/python3.6/dist-packages (from eli5) (0.22.2.post1)\n",
            "Requirement already satisfied: MarkupSafe>=0.23 in /usr/local/lib/python3.6/dist-packages (from jinja2->eli5) (1.1.1)\n",
            "Requirement already satisfied: joblib>=0.11 in /usr/local/lib/python3.6/dist-packages (from scikit-learn>=0.18->eli5) (0.17.0)\n",
            "Installing collected packages: eli5\n",
            "Successfully installed eli5-0.10.1\n"
          ],
          "name": "stdout"
        }
      ]
    },
    {
      "cell_type": "code",
      "metadata": {
        "id": "HoABiqv0vUAx",
        "outputId": "cdda25d5-4c0d-4517-c3ec-f9baa445f199",
        "colab": {
          "base_uri": "https://localhost:8080/",
          "height": 383
        }
      },
      "source": [
        "import eli5\n",
        "from eli5.sklearn import PermutationImportance\n",
        "\n",
        "perm = PermutationImportance(ds_classifier, random_state=1).fit(X_test,y_test)\n",
        "eli5.show_weights(perm, feature_names = X_test.columns.tolist())\n"
      ],
      "execution_count": 65,
      "outputs": [
        {
          "output_type": "execute_result",
          "data": {
            "text/html": [
              "\n",
              "    <style>\n",
              "    table.eli5-weights tr:hover {\n",
              "        filter: brightness(85%);\n",
              "    }\n",
              "</style>\n",
              "\n",
              "\n",
              "\n",
              "    \n",
              "\n",
              "    \n",
              "\n",
              "    \n",
              "\n",
              "    \n",
              "\n",
              "    \n",
              "\n",
              "    \n",
              "\n",
              "\n",
              "    \n",
              "\n",
              "    \n",
              "\n",
              "    \n",
              "\n",
              "    \n",
              "\n",
              "    \n",
              "\n",
              "    \n",
              "\n",
              "\n",
              "    \n",
              "\n",
              "    \n",
              "\n",
              "    \n",
              "\n",
              "    \n",
              "\n",
              "    \n",
              "        <table class=\"eli5-weights eli5-feature-importances\" style=\"border-collapse: collapse; border: none; margin-top: 0em; table-layout: auto;\">\n",
              "    <thead>\n",
              "    <tr style=\"border: none;\">\n",
              "        <th style=\"padding: 0 1em 0 0.5em; text-align: right; border: none;\">Weight</th>\n",
              "        <th style=\"padding: 0 0.5em 0 0.5em; text-align: left; border: none;\">Feature</th>\n",
              "    </tr>\n",
              "    </thead>\n",
              "    <tbody>\n",
              "    \n",
              "        <tr style=\"background-color: hsl(120, 100.00%, 80.00%); border: none;\">\n",
              "            <td style=\"padding: 0 1em 0 0.5em; text-align: right; border: none;\">\n",
              "                0.0250\n",
              "                \n",
              "                    &plusmn; 0.0118\n",
              "                \n",
              "            </td>\n",
              "            <td style=\"padding: 0 0.5em 0 0.5em; text-align: left; border: none;\">\n",
              "                Employment_Status\n",
              "            </td>\n",
              "        </tr>\n",
              "    \n",
              "        <tr style=\"background-color: hsl(120, 100.00%, 86.23%); border: none;\">\n",
              "            <td style=\"padding: 0 1em 0 0.5em; text-align: right; border: none;\">\n",
              "                0.0147\n",
              "                \n",
              "                    &plusmn; 0.0074\n",
              "                \n",
              "            </td>\n",
              "            <td style=\"padding: 0 0.5em 0 0.5em; text-align: left; border: none;\">\n",
              "                Marital_Status\n",
              "            </td>\n",
              "        </tr>\n",
              "    \n",
              "        <tr style=\"background-color: hsl(120, 100.00%, 90.81%); border: none;\">\n",
              "            <td style=\"padding: 0 1em 0 0.5em; text-align: right; border: none;\">\n",
              "                0.0082\n",
              "                \n",
              "                    &plusmn; 0.0109\n",
              "                \n",
              "            </td>\n",
              "            <td style=\"padding: 0 0.5em 0 0.5em; text-align: left; border: none;\">\n",
              "                Income_Range\n",
              "            </td>\n",
              "        </tr>\n",
              "    \n",
              "        <tr style=\"background-color: hsl(120, 100.00%, 92.99%); border: none;\">\n",
              "            <td style=\"padding: 0 1em 0 0.5em; text-align: right; border: none;\">\n",
              "                0.0056\n",
              "                \n",
              "                    &plusmn; 0.0084\n",
              "                \n",
              "            </td>\n",
              "            <td style=\"padding: 0 0.5em 0 0.5em; text-align: left; border: none;\">\n",
              "                Bureau_Data___Monthly_Other_Co_R\n",
              "            </td>\n",
              "        </tr>\n",
              "    \n",
              "        <tr style=\"background-color: hsl(120, 100.00%, 93.08%); border: none;\">\n",
              "            <td style=\"padding: 0 1em 0 0.5em; text-align: right; border: none;\">\n",
              "                0.0055\n",
              "                \n",
              "                    &plusmn; 0.0027\n",
              "                \n",
              "            </td>\n",
              "            <td style=\"padding: 0 0.5em 0 0.5em; text-align: left; border: none;\">\n",
              "                Term\n",
              "            </td>\n",
              "        </tr>\n",
              "    \n",
              "        <tr style=\"background-color: hsl(120, 100.00%, 93.94%); border: none;\">\n",
              "            <td style=\"padding: 0 1em 0 0.5em; text-align: right; border: none;\">\n",
              "                0.0045\n",
              "                \n",
              "                    &plusmn; 0.0059\n",
              "                \n",
              "            </td>\n",
              "            <td style=\"padding: 0 0.5em 0 0.5em; text-align: left; border: none;\">\n",
              "                Time_since_most_recent_outstandi\n",
              "            </td>\n",
              "        </tr>\n",
              "    \n",
              "        <tr style=\"background-color: hsl(120, 100.00%, 94.34%); border: none;\">\n",
              "            <td style=\"padding: 0 1em 0 0.5em; text-align: right; border: none;\">\n",
              "                0.0041\n",
              "                \n",
              "                    &plusmn; 0.0103\n",
              "                \n",
              "            </td>\n",
              "            <td style=\"padding: 0 0.5em 0 0.5em; text-align: left; border: none;\">\n",
              "                Total_value__CAIS_8_9s\n",
              "            </td>\n",
              "        </tr>\n",
              "    \n",
              "        <tr style=\"background-color: hsl(120, 100.00%, 94.86%); border: none;\">\n",
              "            <td style=\"padding: 0 1em 0 0.5em; text-align: right; border: none;\">\n",
              "                0.0036\n",
              "                \n",
              "                    &plusmn; 0.0029\n",
              "                \n",
              "            </td>\n",
              "            <td style=\"padding: 0 0.5em 0 0.5em; text-align: left; border: none;\">\n",
              "                Gender\n",
              "            </td>\n",
              "        </tr>\n",
              "    \n",
              "        <tr style=\"background-color: hsl(120, 100.00%, 96.09%); border: none;\">\n",
              "            <td style=\"padding: 0 1em 0 0.5em; text-align: right; border: none;\">\n",
              "                0.0024\n",
              "                \n",
              "                    &plusmn; 0.0128\n",
              "                \n",
              "            </td>\n",
              "            <td style=\"padding: 0 0.5em 0 0.5em; text-align: left; border: none;\">\n",
              "                Age\n",
              "            </td>\n",
              "        </tr>\n",
              "    \n",
              "        <tr style=\"background-color: hsl(120, 100.00%, 96.09%); border: none;\">\n",
              "            <td style=\"padding: 0 1em 0 0.5em; text-align: right; border: none;\">\n",
              "                0.0024\n",
              "                \n",
              "                    &plusmn; 0.0011\n",
              "                \n",
              "            </td>\n",
              "            <td style=\"padding: 0 0.5em 0 0.5em; text-align: left; border: none;\">\n",
              "                Other_Credit_Store_Card\n",
              "            </td>\n",
              "        </tr>\n",
              "    \n",
              "        <tr style=\"background-color: hsl(120, 100.00%, 96.46%); border: none;\">\n",
              "            <td style=\"padding: 0 1em 0 0.5em; text-align: right; border: none;\">\n",
              "                0.0021\n",
              "                \n",
              "                    &plusmn; 0.0037\n",
              "                \n",
              "            </td>\n",
              "            <td style=\"padding: 0 0.5em 0 0.5em; text-align: left; border: none;\">\n",
              "                Mosaic\n",
              "            </td>\n",
              "        </tr>\n",
              "    \n",
              "        <tr style=\"background-color: hsl(120, 100.00%, 96.71%); border: none;\">\n",
              "            <td style=\"padding: 0 1em 0 0.5em; text-align: right; border: none;\">\n",
              "                0.0019\n",
              "                \n",
              "                    &plusmn; 0.0028\n",
              "                \n",
              "            </td>\n",
              "            <td style=\"padding: 0 0.5em 0 0.5em; text-align: left; border: none;\">\n",
              "                Time_in_Employment\n",
              "            </td>\n",
              "        </tr>\n",
              "    \n",
              "        <tr style=\"background-color: hsl(120, 100.00%, 96.71%); border: none;\">\n",
              "            <td style=\"padding: 0 1em 0 0.5em; text-align: right; border: none;\">\n",
              "                0.0019\n",
              "                \n",
              "                    &plusmn; 0.0026\n",
              "                \n",
              "            </td>\n",
              "            <td style=\"padding: 0 0.5em 0 0.5em; text-align: left; border: none;\">\n",
              "                Residential_Status\n",
              "            </td>\n",
              "        </tr>\n",
              "    \n",
              "        <tr style=\"background-color: hsl(120, 100.00%, 96.97%); border: none;\">\n",
              "            <td style=\"padding: 0 1em 0 0.5em; text-align: right; border: none;\">\n",
              "                0.0017\n",
              "                \n",
              "                    &plusmn; 0.0056\n",
              "                \n",
              "            </td>\n",
              "            <td style=\"padding: 0 0.5em 0 0.5em; text-align: left; border: none;\">\n",
              "                Time_with_Bank\n",
              "            </td>\n",
              "        </tr>\n",
              "    \n",
              "        <tr style=\"background-color: hsl(120, 100.00%, 97.82%); border: none;\">\n",
              "            <td style=\"padding: 0 1em 0 0.5em; text-align: right; border: none;\">\n",
              "                0.0011\n",
              "                \n",
              "                    &plusmn; 0.0020\n",
              "                \n",
              "            </td>\n",
              "            <td style=\"padding: 0 0.5em 0 0.5em; text-align: left; border: none;\">\n",
              "                Worst_CUrrent_Status\n",
              "            </td>\n",
              "        </tr>\n",
              "    \n",
              "        <tr style=\"background-color: hsl(120, 100.00%, 98.13%); border: none;\">\n",
              "            <td style=\"padding: 0 1em 0 0.5em; text-align: right; border: none;\">\n",
              "                0.0008\n",
              "                \n",
              "                    &plusmn; 0.0008\n",
              "                \n",
              "            </td>\n",
              "            <td style=\"padding: 0 0.5em 0 0.5em; text-align: left; border: none;\">\n",
              "                Total___Public_Info___CCJ____ban\n",
              "            </td>\n",
              "        </tr>\n",
              "    \n",
              "        <tr style=\"background-color: hsl(120, 100.00%, 98.85%); border: none;\">\n",
              "            <td style=\"padding: 0 1em 0 0.5em; text-align: right; border: none;\">\n",
              "                0.0004\n",
              "                \n",
              "                    &plusmn; 0.0042\n",
              "                \n",
              "            </td>\n",
              "            <td style=\"padding: 0 0.5em 0 0.5em; text-align: left; border: none;\">\n",
              "                Total___of_accounts\n",
              "            </td>\n",
              "        </tr>\n",
              "    \n",
              "        <tr style=\"background-color: hsl(120, 100.00%, 99.06%); border: none;\">\n",
              "            <td style=\"padding: 0 1em 0 0.5em; text-align: right; border: none;\">\n",
              "                0.0003\n",
              "                \n",
              "                    &plusmn; 0.0013\n",
              "                \n",
              "            </td>\n",
              "            <td style=\"padding: 0 0.5em 0 0.5em; text-align: left; border: none;\">\n",
              "                Loan_Type\n",
              "            </td>\n",
              "        </tr>\n",
              "    \n",
              "        <tr style=\"background-color: hsl(120, 100.00%, 99.56%); border: none;\">\n",
              "            <td style=\"padding: 0 1em 0 0.5em; text-align: right; border: none;\">\n",
              "                0.0001\n",
              "                \n",
              "                    &plusmn; 0.0012\n",
              "                \n",
              "            </td>\n",
              "            <td style=\"padding: 0 0.5em 0 0.5em; text-align: left; border: none;\">\n",
              "                Cheque_Guarantee\n",
              "            </td>\n",
              "        </tr>\n",
              "    \n",
              "        <tr style=\"background-color: hsl(120, 100.00%, 99.56%); border: none;\">\n",
              "            <td style=\"padding: 0 1em 0 0.5em; text-align: right; border: none;\">\n",
              "                0.0001\n",
              "                \n",
              "                    &plusmn; 0.0004\n",
              "                \n",
              "            </td>\n",
              "            <td style=\"padding: 0 0.5em 0 0.5em; text-align: left; border: none;\">\n",
              "                CIFAS_detected\n",
              "            </td>\n",
              "        </tr>\n",
              "    \n",
              "    \n",
              "        \n",
              "            <tr style=\"background-color: hsl(120, 100.00%, 99.56%); border: none;\">\n",
              "                <td colspan=\"2\" style=\"padding: 0 0.5em 0 0.5em; text-align: center; border: none; white-space: nowrap;\">\n",
              "                    <i>&hellip; 30 more &hellip;</i>\n",
              "                </td>\n",
              "            </tr>\n",
              "        \n",
              "    \n",
              "    </tbody>\n",
              "</table>\n",
              "    \n",
              "\n",
              "    \n",
              "\n",
              "\n",
              "    \n",
              "\n",
              "    \n",
              "\n",
              "    \n",
              "\n",
              "    \n",
              "\n",
              "    \n",
              "\n",
              "    \n",
              "\n",
              "\n",
              "\n"
            ],
            "text/plain": [
              "<IPython.core.display.HTML object>"
            ]
          },
          "metadata": {
            "tags": []
          },
          "execution_count": 65
        }
      ]
    },
    {
      "cell_type": "code",
      "metadata": {
        "id": "CQcU9tE2Bd8F"
      },
      "source": [
        ""
      ],
      "execution_count": null,
      "outputs": []
    }
  ]
}