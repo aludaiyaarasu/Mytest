{
  "nbformat": 4,
  "nbformat_minor": 0,
  "metadata": {
    "colab": {
      "name": "GBT_final.ipynb",
      "provenance": [],
      "collapsed_sections": []
    },
    "kernelspec": {
      "name": "python3",
      "display_name": "Python 3"
    }
  },
  "cells": [
    {
      "cell_type": "code",
      "metadata": {
        "id": "_P7FgDeo7sBN"
      },
      "source": [
        "import pandas as pd\n",
        "import seaborn as sns\n",
        "import matplotlib.pyplot as plt\n",
        "from sklearn.preprocessing import LabelEncoder\n",
        "from sklearn.preprocessing import StandardScaler\n",
        "from sklearn.model_selection import train_test_split\n",
        "from sklearn import metrics\n",
        "from sklearn.metrics import f1_score, roc_auc_score\n",
        "from sklearn.ensemble import GradientBoostingClassifier\n",
        "from sklearn.ensemble import RandomForestClassifier\n",
        "from sklearn.model_selection import GridSearchCV\n",
        "from sklearn.pipeline import Pipeline\n",
        "from sklearn.tree import DecisionTreeClassifier\n",
        "from sklearn.metrics import accuracy_score\n",
        "from sklearn.pipeline import make_pipeline\n",
        "from sklearn.model_selection import train_test_split\n",
        "from sklearn.compose import ColumnTransformer"
      ],
      "execution_count": 1,
      "outputs": []
    },
    {
      "cell_type": "code",
      "metadata": {
        "id": "fuueJeCn8QDS"
      },
      "source": [
        "original_dataset = pd.read_csv('/content/drive/My Drive/trans.csv',delimiter=',',header=0)"
      ],
      "execution_count": 2,
      "outputs": []
    },
    {
      "cell_type": "code",
      "metadata": {
        "id": "1XcZxM_e8bdL",
        "outputId": "67aa82cf-96bb-405c-d40d-16efd6613578",
        "colab": {
          "base_uri": "https://localhost:8080/"
        }
      },
      "source": [
        "original_dataset.isnull().sum()"
      ],
      "execution_count": 3,
      "outputs": [
        {
          "output_type": "execute_result",
          "data": {
            "text/plain": [
              "Ref                                    0\n",
              "Credit_Score                           0\n",
              "Final_Grade                            0\n",
              "Term                                   0\n",
              "Net_Advance                            0\n",
              "APR                                    0\n",
              "Loan_Type                              0\n",
              "Mosaic                                 0\n",
              "Mosaic_Class                           0\n",
              "Time_at_Address                        0\n",
              "Residential_Status                     0\n",
              "Telephone_Indicator                    0\n",
              "Number_of_Dependants                   0\n",
              "Marital_Status                         0\n",
              "Gender                                 0\n",
              "Time_in_Employment                     0\n",
              "Employment_Status                      0\n",
              "Full_Part_Time_Empl_Ind                0\n",
              "Perm_Temp_Empl_Ind                     0\n",
              "Income_Range                           0\n",
              "Current_Account                        0\n",
              "ACCESS_Card                            0\n",
              "VISA_Card                              0\n",
              "American_Express                       0\n",
              "Diners_Card                            0\n",
              "Cheque_Guarantee                       0\n",
              "Other_Credit_Store_Card                0\n",
              "Time_with_Bank                         0\n",
              "Value_of_Property                      0\n",
              "Outstanding_Mortgage_Bal               0\n",
              "Total_Outstanding_Balances             0\n",
              "Bureau_Data___Monthly_Other_Co_R       0\n",
              "Worst_History_CT                       0\n",
              "Payment_Method                         0\n",
              "Age                                    0\n",
              "Total_outstanding_balance__mortg       0\n",
              "Total___Public_Info___CCJ____ban       0\n",
              "Total_value__Public_Info___CCJ__       0\n",
              "Time_since_most_recent_Public_In       0\n",
              "Total_value__CAIS_8_9s                 0\n",
              "Worst_status_L6m                       0\n",
              "Worst_CUrrent_Status                   0\n",
              "__of_status_3_s_L6m                    0\n",
              "Searches___Total___L6m                 0\n",
              "Years_on_ER_for_SP                     0\n",
              "Bankruptcy_Detected__SP_               0\n",
              "Total___outstanding_CCJ_s              0\n",
              "Total_outstanding_balance___excl       0\n",
              "Total___of_accounts                    0\n",
              "CIFAS_detected                         0\n",
              "Time_since_most_recent_outstandi       0\n",
              "Insurance_Description               6922\n",
              "PPI                                    0\n",
              "code                                6978\n",
              "prdt_desc                           7038\n",
              "category                            6922\n",
              "PPI_SINGLE                             0\n",
              "PPI_JOINT                              0\n",
              "PPI_LCI                                0\n",
              "dtype: int64"
            ]
          },
          "metadata": {
            "tags": []
          },
          "execution_count": 3
        }
      ]
    },
    {
      "cell_type": "code",
      "metadata": {
        "id": "xVMspufL8dNA"
      },
      "source": [
        "def label_class(row):\n",
        "    if row['PPI_SINGLE'] == 1:\n",
        "        return 'single'\n",
        "    if row['PPI_JOINT'] == 1:\n",
        "        return 'joint'\n",
        "    if row['PPI_LCI'] == 1:\n",
        "        return 'lci'"
      ],
      "execution_count": 4,
      "outputs": []
    },
    {
      "cell_type": "code",
      "metadata": {
        "id": "iWH65w_f8fiQ"
      },
      "source": [
        "original_dataset['class'] = original_dataset.apply (lambda row: label_class(row), axis=1)"
      ],
      "execution_count": 5,
      "outputs": []
    },
    {
      "cell_type": "code",
      "metadata": {
        "id": "LvlP_7rZ8kLo"
      },
      "source": [
        "drop_columns =['Insurance_Description','code','prdt_desc','category','PPI_SINGLE','PPI_JOINT','PPI_LCI']\n",
        "original_dataset.drop(drop_columns,inplace=True,axis=1)"
      ],
      "execution_count": 6,
      "outputs": []
    },
    {
      "cell_type": "code",
      "metadata": {
        "id": "3avyzry78k6h"
      },
      "source": [
        "data_preprocessced = original_dataset"
      ],
      "execution_count": 7,
      "outputs": []
    },
    {
      "cell_type": "code",
      "metadata": {
        "id": "-xPWi2xQ8oOO"
      },
      "source": [
        "data_ready_for_pipeline_train_test = data_preprocessced[data_preprocessced['PPI'].isin(['1'])]\n",
        "data_ready_for_pipeline_scoring = data_preprocessced[data_preprocessced['PPI'].isin(['0'])]"
      ],
      "execution_count": 8,
      "outputs": []
    },
    {
      "cell_type": "code",
      "metadata": {
        "id": "O1sHd6Uh8qWA",
        "outputId": "1abdce99-685c-457b-8e50-c1f9c98e329c",
        "colab": {
          "base_uri": "https://localhost:8080/"
        }
      },
      "source": [
        "\n",
        "data_ready_for_pipeline_scoring.info()"
      ],
      "execution_count": 9,
      "outputs": [
        {
          "output_type": "stream",
          "text": [
            "<class 'pandas.core.frame.DataFrame'>\n",
            "Int64Index: 6922 entries, 0 to 16382\n",
            "Data columns (total 53 columns):\n",
            " #   Column                            Non-Null Count  Dtype  \n",
            "---  ------                            --------------  -----  \n",
            " 0   Ref                               6922 non-null   int64  \n",
            " 1   Credit_Score                      6922 non-null   int64  \n",
            " 2   Final_Grade                       6922 non-null   object \n",
            " 3   Term                              6922 non-null   int64  \n",
            " 4   Net_Advance                       6922 non-null   float64\n",
            " 5   APR                               6922 non-null   float64\n",
            " 6   Loan_Type                         6922 non-null   object \n",
            " 7   Mosaic                            6922 non-null   int64  \n",
            " 8   Mosaic_Class                      6922 non-null   int64  \n",
            " 9   Time_at_Address                   6922 non-null   int64  \n",
            " 10  Residential_Status                6922 non-null   object \n",
            " 11  Telephone_Indicator               6922 non-null   object \n",
            " 12  Number_of_Dependants              6922 non-null   int64  \n",
            " 13  Marital_Status                    6922 non-null   object \n",
            " 14  Gender                            6922 non-null   object \n",
            " 15  Time_in_Employment                6922 non-null   int64  \n",
            " 16  Employment_Status                 6922 non-null   object \n",
            " 17  Full_Part_Time_Empl_Ind           6922 non-null   object \n",
            " 18  Perm_Temp_Empl_Ind                6922 non-null   object \n",
            " 19  Income_Range                      6922 non-null   int64  \n",
            " 20  Current_Account                   6922 non-null   object \n",
            " 21  ACCESS_Card                       6922 non-null   object \n",
            " 22  VISA_Card                         6922 non-null   object \n",
            " 23  American_Express                  6922 non-null   object \n",
            " 24  Diners_Card                       6922 non-null   object \n",
            " 25  Cheque_Guarantee                  6922 non-null   object \n",
            " 26  Other_Credit_Store_Card           6922 non-null   object \n",
            " 27  Time_with_Bank                    6922 non-null   int64  \n",
            " 28  Value_of_Property                 6922 non-null   int64  \n",
            " 29  Outstanding_Mortgage_Bal          6922 non-null   int64  \n",
            " 30  Total_Outstanding_Balances        6922 non-null   int64  \n",
            " 31  Bureau_Data___Monthly_Other_Co_R  6922 non-null   int64  \n",
            " 32  Worst_History_CT                  6922 non-null   int64  \n",
            " 33  Payment_Method                    6922 non-null   object \n",
            " 34  Age                               6922 non-null   int64  \n",
            " 35  Total_outstanding_balance__mortg  6922 non-null   int64  \n",
            " 36  Total___Public_Info___CCJ____ban  6922 non-null   int64  \n",
            " 37  Total_value__Public_Info___CCJ__  6922 non-null   int64  \n",
            " 38  Time_since_most_recent_Public_In  6922 non-null   int64  \n",
            " 39  Total_value__CAIS_8_9s            6922 non-null   int64  \n",
            " 40  Worst_status_L6m                  6922 non-null   int64  \n",
            " 41  Worst_CUrrent_Status              6922 non-null   int64  \n",
            " 42  __of_status_3_s_L6m               6922 non-null   int64  \n",
            " 43  Searches___Total___L6m            6922 non-null   int64  \n",
            " 44  Years_on_ER_for_SP                6922 non-null   int64  \n",
            " 45  Bankruptcy_Detected__SP_          6922 non-null   object \n",
            " 46  Total___outstanding_CCJ_s         6922 non-null   int64  \n",
            " 47  Total_outstanding_balance___excl  6922 non-null   int64  \n",
            " 48  Total___of_accounts               6922 non-null   int64  \n",
            " 49  CIFAS_detected                    6922 non-null   object \n",
            " 50  Time_since_most_recent_outstandi  6922 non-null   int64  \n",
            " 51  PPI                               6922 non-null   int64  \n",
            " 52  class                             0 non-null      object \n",
            "dtypes: float64(2), int64(31), object(20)\n",
            "memory usage: 2.9+ MB\n"
          ],
          "name": "stdout"
        }
      ]
    },
    {
      "cell_type": "code",
      "metadata": {
        "id": "KdHUiX8l8r9q"
      },
      "source": [
        "drop_columns_for_pipeline_scoring=['PPI','class','Ref']\n",
        "drop_columns_for_pipeline_train_test=['PPI','Ref']"
      ],
      "execution_count": 10,
      "outputs": []
    },
    {
      "cell_type": "code",
      "metadata": {
        "id": "t1fcduCK8y5f",
        "outputId": "ad349d53-9c45-44d0-889f-a3f1aa712a71",
        "colab": {
          "base_uri": "https://localhost:8080/"
        }
      },
      "source": [
        "data_ready_for_pipeline_scoring.drop(drop_columns_for_pipeline_scoring,inplace=True,axis=1)"
      ],
      "execution_count": 11,
      "outputs": [
        {
          "output_type": "stream",
          "text": [
            "/usr/local/lib/python3.6/dist-packages/pandas/core/frame.py:4170: SettingWithCopyWarning: \n",
            "A value is trying to be set on a copy of a slice from a DataFrame\n",
            "\n",
            "See the caveats in the documentation: https://pandas.pydata.org/pandas-docs/stable/user_guide/indexing.html#returning-a-view-versus-a-copy\n",
            "  errors=errors,\n"
          ],
          "name": "stderr"
        }
      ]
    },
    {
      "cell_type": "code",
      "metadata": {
        "id": "xC6VsXvWaFHo",
        "outputId": "dd90726a-722e-4bae-c340-99f9b0fff9e7",
        "colab": {
          "base_uri": "https://localhost:8080/"
        }
      },
      "source": [
        "data_ready_for_pipeline_scoring.shape"
      ],
      "execution_count": 12,
      "outputs": [
        {
          "output_type": "execute_result",
          "data": {
            "text/plain": [
              "(6922, 50)"
            ]
          },
          "metadata": {
            "tags": []
          },
          "execution_count": 12
        }
      ]
    },
    {
      "cell_type": "code",
      "metadata": {
        "id": "clDtxl39aUWk",
        "outputId": "edb19a0e-3393-4174-f714-050446976571",
        "colab": {
          "base_uri": "https://localhost:8080/"
        }
      },
      "source": [
        "data_ready_for_pipeline_train_test.drop(drop_columns_for_pipeline_train_test,inplace=True,axis=1)"
      ],
      "execution_count": 13,
      "outputs": [
        {
          "output_type": "stream",
          "text": [
            "/usr/local/lib/python3.6/dist-packages/pandas/core/frame.py:4170: SettingWithCopyWarning: \n",
            "A value is trying to be set on a copy of a slice from a DataFrame\n",
            "\n",
            "See the caveats in the documentation: https://pandas.pydata.org/pandas-docs/stable/user_guide/indexing.html#returning-a-view-versus-a-copy\n",
            "  errors=errors,\n"
          ],
          "name": "stderr"
        }
      ]
    },
    {
      "cell_type": "code",
      "metadata": {
        "id": "r8Yn74NTackw",
        "outputId": "bccb3d98-6773-4523-e2e0-09c3f2ac19ce",
        "colab": {
          "base_uri": "https://localhost:8080/"
        }
      },
      "source": [
        "data_ready_for_pipeline_train_test.shape"
      ],
      "execution_count": 14,
      "outputs": [
        {
          "output_type": "execute_result",
          "data": {
            "text/plain": [
              "(9461, 51)"
            ]
          },
          "metadata": {
            "tags": []
          },
          "execution_count": 14
        }
      ]
    },
    {
      "cell_type": "code",
      "metadata": {
        "id": "mqEDhURg81SR",
        "outputId": "f17b5747-466b-4229-fdf9-a2c24e514375",
        "colab": {
          "base_uri": "https://localhost:8080/"
        }
      },
      "source": [
        "product_map_status={'lci':1,'single':2,'joint':3}\n",
        "data_ready_for_pipeline_train_test['class'] = data_ready_for_pipeline_train_test['class'].map(product_map_status)"
      ],
      "execution_count": 15,
      "outputs": [
        {
          "output_type": "stream",
          "text": [
            "/usr/local/lib/python3.6/dist-packages/ipykernel_launcher.py:2: SettingWithCopyWarning: \n",
            "A value is trying to be set on a copy of a slice from a DataFrame.\n",
            "Try using .loc[row_indexer,col_indexer] = value instead\n",
            "\n",
            "See the caveats in the documentation: https://pandas.pydata.org/pandas-docs/stable/user_guide/indexing.html#returning-a-view-versus-a-copy\n",
            "  \n"
          ],
          "name": "stderr"
        }
      ]
    },
    {
      "cell_type": "code",
      "metadata": {
        "id": "WIUH7UTy9Ksf"
      },
      "source": [
        "y = data_ready_for_pipeline_train_test.pop('class')"
      ],
      "execution_count": 16,
      "outputs": []
    },
    {
      "cell_type": "code",
      "metadata": {
        "id": "2uRtQnCE9Mld"
      },
      "source": [
        "X = data_ready_for_pipeline_train_test"
      ],
      "execution_count": 17,
      "outputs": []
    },
    {
      "cell_type": "code",
      "metadata": {
        "id": "kXV9XUi49OCc",
        "outputId": "42c1a806-9634-4b9d-da7e-a5dcae2e87b8",
        "colab": {
          "base_uri": "https://localhost:8080/"
        }
      },
      "source": [
        "X.info()\n",
        "X.shape"
      ],
      "execution_count": 18,
      "outputs": [
        {
          "output_type": "stream",
          "text": [
            "<class 'pandas.core.frame.DataFrame'>\n",
            "Int64Index: 9461 entries, 1 to 16381\n",
            "Data columns (total 50 columns):\n",
            " #   Column                            Non-Null Count  Dtype  \n",
            "---  ------                            --------------  -----  \n",
            " 0   Credit_Score                      9461 non-null   int64  \n",
            " 1   Final_Grade                       9461 non-null   object \n",
            " 2   Term                              9461 non-null   int64  \n",
            " 3   Net_Advance                       9461 non-null   float64\n",
            " 4   APR                               9461 non-null   float64\n",
            " 5   Loan_Type                         9461 non-null   object \n",
            " 6   Mosaic                            9461 non-null   int64  \n",
            " 7   Mosaic_Class                      9461 non-null   int64  \n",
            " 8   Time_at_Address                   9461 non-null   int64  \n",
            " 9   Residential_Status                9461 non-null   object \n",
            " 10  Telephone_Indicator               9461 non-null   object \n",
            " 11  Number_of_Dependants              9461 non-null   int64  \n",
            " 12  Marital_Status                    9461 non-null   object \n",
            " 13  Gender                            9461 non-null   object \n",
            " 14  Time_in_Employment                9461 non-null   int64  \n",
            " 15  Employment_Status                 9461 non-null   object \n",
            " 16  Full_Part_Time_Empl_Ind           9461 non-null   object \n",
            " 17  Perm_Temp_Empl_Ind                9461 non-null   object \n",
            " 18  Income_Range                      9461 non-null   int64  \n",
            " 19  Current_Account                   9461 non-null   object \n",
            " 20  ACCESS_Card                       9461 non-null   object \n",
            " 21  VISA_Card                         9461 non-null   object \n",
            " 22  American_Express                  9461 non-null   object \n",
            " 23  Diners_Card                       9461 non-null   object \n",
            " 24  Cheque_Guarantee                  9461 non-null   object \n",
            " 25  Other_Credit_Store_Card           9461 non-null   object \n",
            " 26  Time_with_Bank                    9461 non-null   int64  \n",
            " 27  Value_of_Property                 9461 non-null   int64  \n",
            " 28  Outstanding_Mortgage_Bal          9461 non-null   int64  \n",
            " 29  Total_Outstanding_Balances        9461 non-null   int64  \n",
            " 30  Bureau_Data___Monthly_Other_Co_R  9461 non-null   int64  \n",
            " 31  Worst_History_CT                  9461 non-null   int64  \n",
            " 32  Payment_Method                    9461 non-null   object \n",
            " 33  Age                               9461 non-null   int64  \n",
            " 34  Total_outstanding_balance__mortg  9461 non-null   int64  \n",
            " 35  Total___Public_Info___CCJ____ban  9461 non-null   int64  \n",
            " 36  Total_value__Public_Info___CCJ__  9461 non-null   int64  \n",
            " 37  Time_since_most_recent_Public_In  9461 non-null   int64  \n",
            " 38  Total_value__CAIS_8_9s            9461 non-null   int64  \n",
            " 39  Worst_status_L6m                  9461 non-null   int64  \n",
            " 40  Worst_CUrrent_Status              9461 non-null   int64  \n",
            " 41  __of_status_3_s_L6m               9461 non-null   int64  \n",
            " 42  Searches___Total___L6m            9461 non-null   int64  \n",
            " 43  Years_on_ER_for_SP                9461 non-null   int64  \n",
            " 44  Bankruptcy_Detected__SP_          9461 non-null   object \n",
            " 45  Total___outstanding_CCJ_s         9461 non-null   int64  \n",
            " 46  Total_outstanding_balance___excl  9461 non-null   int64  \n",
            " 47  Total___of_accounts               9461 non-null   int64  \n",
            " 48  CIFAS_detected                    9461 non-null   object \n",
            " 49  Time_since_most_recent_outstandi  9461 non-null   int64  \n",
            "dtypes: float64(2), int64(29), object(19)\n",
            "memory usage: 3.7+ MB\n"
          ],
          "name": "stdout"
        },
        {
          "output_type": "execute_result",
          "data": {
            "text/plain": [
              "(9461, 50)"
            ]
          },
          "metadata": {
            "tags": []
          },
          "execution_count": 18
        }
      ]
    },
    {
      "cell_type": "code",
      "metadata": {
        "id": "aB0bu17S9Pk7",
        "outputId": "ca0b03db-b10a-41dc-e69a-1cf73cdcd8fa",
        "colab": {
          "base_uri": "https://localhost:8080/"
        }
      },
      "source": [
        "num_vars =['Credit_Score','Term','Net_Advance','APR','Mosaic','Time_at_Address','Number_of_Dependants','Time_in_Employment','Time_with_Bank','Value_of_Property','Outstanding_Mortgage_Bal','Total_Outstanding_Balances','Bureau_Data___Monthly_Other_Co_R','Age','Total_outstanding_balance__mortg','Total_value__Public_Info___CCJ__','Time_since_most_recent_Public_In','Total_value__CAIS_8_9s','Searches___Total___L6m','Years_on_ER_for_SP','Total_outstanding_balance___excl','Total___of_accounts','Time_since_most_recent_outstandi']\n",
        "cat_vars=['Final_Grade','Loan_Type','Mosaic_Class','Residential_Status','Telephone_Indicator','Marital_Status','Gender','Employment_Status','Full_Part_Time_Empl_Ind','Perm_Temp_Empl_Ind','Income_Range','Current_Account','ACCESS_Card','VISA_Card','American_Express','Diners_Card','Cheque_Guarantee','Other_Credit_Store_Card','Worst_History_CT','Payment_Method','Total___Public_Info___CCJ____ban','Worst_status_L6m','Worst_CUrrent_Status','__of_status_3_s_L6m','Bankruptcy_Detected__SP_','Total___outstanding_CCJ_s','CIFAS_detected']\n",
        "print(len(num_vars))\n",
        "print(len(cat_vars))"
      ],
      "execution_count": 19,
      "outputs": [
        {
          "output_type": "stream",
          "text": [
            "23\n",
            "27\n"
          ],
          "name": "stdout"
        }
      ]
    },
    {
      "cell_type": "code",
      "metadata": {
        "id": "TdTdBtr-9OZD",
        "outputId": "eb4ee95e-8c26-4c73-93a5-62f4ae56f6c1",
        "colab": {
          "base_uri": "https://localhost:8080/"
        }
      },
      "source": [
        "from sklearn.preprocessing import LabelEncoder\n",
        "\n",
        "label = LabelEncoder()\n",
        "for column in cat_vars:\n",
        "    X[column] = label.fit_transform(X[column])"
      ],
      "execution_count": 20,
      "outputs": [
        {
          "output_type": "stream",
          "text": [
            "/usr/local/lib/python3.6/dist-packages/ipykernel_launcher.py:5: SettingWithCopyWarning: \n",
            "A value is trying to be set on a copy of a slice from a DataFrame.\n",
            "Try using .loc[row_indexer,col_indexer] = value instead\n",
            "\n",
            "See the caveats in the documentation: https://pandas.pydata.org/pandas-docs/stable/user_guide/indexing.html#returning-a-view-versus-a-copy\n",
            "  \"\"\"\n"
          ],
          "name": "stderr"
        }
      ]
    },
    {
      "cell_type": "code",
      "metadata": {
        "id": "y_aQqpu_9UPG",
        "outputId": "def75887-bce7-47bf-b2c5-d22578cf171f",
        "colab": {
          "base_uri": "https://localhost:8080/"
        }
      },
      "source": [
        "X_train, X_test, y_train, y_test = train_test_split(X,y,test_size=0.20, random_state = 50)\n",
        "print(\"Number transactions X_train dataset: \", X_train.shape)\n",
        "print(\"Number transactions y_train dataset: \", y_train.shape)\n",
        "print(\"Number transactions X_test dataset: \", X_test.shape)\n",
        "print(\"Number transactions y_test dataset: \", y_test.shape)"
      ],
      "execution_count": 21,
      "outputs": [
        {
          "output_type": "stream",
          "text": [
            "Number transactions X_train dataset:  (7568, 50)\n",
            "Number transactions y_train dataset:  (7568,)\n",
            "Number transactions X_test dataset:  (1893, 50)\n",
            "Number transactions y_test dataset:  (1893,)\n"
          ],
          "name": "stdout"
        }
      ]
    },
    {
      "cell_type": "code",
      "metadata": {
        "id": "7WYWA_TCDR5u",
        "outputId": "e7ff0528-83bd-411e-bb76-c6c91b028be4",
        "colab": {
          "base_uri": "https://localhost:8080/"
        }
      },
      "source": [
        "\n",
        "from imblearn.over_sampling import SMOTE\n",
        "X_train_sm,y_train_sm = SMOTE().fit_resample(X_train,y_train.ravel())\n",
        "print('After OverSampling, the shape of X_train: {}'.format(X_train_sm.shape))\n",
        "print('After OverSampling, the shape of y_train: {} \\n'.format(y_train_sm.shape))\n"
      ],
      "execution_count": 22,
      "outputs": [
        {
          "output_type": "stream",
          "text": [
            "/usr/local/lib/python3.6/dist-packages/sklearn/externals/six.py:31: FutureWarning: The module is deprecated in version 0.21 and will be removed in version 0.23 since we've dropped support for Python 2.7. Please rely on the official version of six (https://pypi.org/project/six/).\n",
            "  \"(https://pypi.org/project/six/).\", FutureWarning)\n",
            "/usr/local/lib/python3.6/dist-packages/sklearn/utils/deprecation.py:144: FutureWarning: The sklearn.neighbors.base module is  deprecated in version 0.22 and will be removed in version 0.24. The corresponding classes / functions should instead be imported from sklearn.neighbors. Anything that cannot be imported from sklearn.neighbors is now part of the private API.\n",
            "  warnings.warn(message, FutureWarning)\n",
            "/usr/local/lib/python3.6/dist-packages/sklearn/utils/deprecation.py:87: FutureWarning: Function safe_indexing is deprecated; safe_indexing is deprecated in version 0.22 and will be removed in version 0.24.\n",
            "  warnings.warn(msg, category=FutureWarning)\n",
            "/usr/local/lib/python3.6/dist-packages/sklearn/utils/deprecation.py:87: FutureWarning: Function safe_indexing is deprecated; safe_indexing is deprecated in version 0.22 and will be removed in version 0.24.\n",
            "  warnings.warn(msg, category=FutureWarning)\n"
          ],
          "name": "stderr"
        },
        {
          "output_type": "stream",
          "text": [
            "After OverSampling, the shape of X_train: (15000, 50)\n",
            "After OverSampling, the shape of y_train: (15000,) \n",
            "\n"
          ],
          "name": "stdout"
        }
      ]
    },
    {
      "cell_type": "code",
      "metadata": {
        "id": "yt17khu89Waw",
        "outputId": "958fd488-ef4d-4a37-cfa3-15138eca33be",
        "colab": {
          "base_uri": "https://localhost:8080/"
        }
      },
      "source": [
        "y_train.shape"
      ],
      "execution_count": 23,
      "outputs": [
        {
          "output_type": "execute_result",
          "data": {
            "text/plain": [
              "(7568,)"
            ]
          },
          "metadata": {
            "tags": []
          },
          "execution_count": 23
        }
      ]
    },
    {
      "cell_type": "code",
      "metadata": {
        "id": "pPH4rnZ79duw"
      },
      "source": [
        "from sklearn.ensemble import GradientBoostingClassifier\n",
        "gbt_classifier =GradientBoostingClassifier(n_estimators=20, learning_rate = 0.2, max_features=2, max_depth = 2, random_state = 0)"
      ],
      "execution_count": 25,
      "outputs": []
    },
    {
      "cell_type": "code",
      "metadata": {
        "id": "cmz5Ugiv9gHI",
        "outputId": "90db0217-8e39-4e39-d81f-b1ed34885d17",
        "colab": {
          "base_uri": "https://localhost:8080/"
        }
      },
      "source": [
        "pipe = make_pipeline(gbt_classifier)\n",
        "pipe.fit(X_train_sm, y_train_sm.ravel())"
      ],
      "execution_count": 45,
      "outputs": [
        {
          "output_type": "execute_result",
          "data": {
            "text/plain": [
              "Pipeline(memory=None,\n",
              "         steps=[('gradientboostingclassifier',\n",
              "                 GradientBoostingClassifier(ccp_alpha=0.0,\n",
              "                                            criterion='friedman_mse', init=None,\n",
              "                                            learning_rate=0.2, loss='deviance',\n",
              "                                            max_depth=2, max_features=2,\n",
              "                                            max_leaf_nodes=None,\n",
              "                                            min_impurity_decrease=0.0,\n",
              "                                            min_impurity_split=None,\n",
              "                                            min_samples_leaf=1,\n",
              "                                            min_samples_split=2,\n",
              "                                            min_weight_fraction_leaf=0.0,\n",
              "                                            n_estimators=20,\n",
              "                                            n_iter_no_change=None,\n",
              "                                            presort='deprecated',\n",
              "                                            random_state=0, subsample=1.0,\n",
              "                                            tol=0.0001, validation_fraction=0.1,\n",
              "                                            verbose=0, warm_start=False))],\n",
              "         verbose=False)"
            ]
          },
          "metadata": {
            "tags": []
          },
          "execution_count": 45
        }
      ]
    },
    {
      "cell_type": "code",
      "metadata": {
        "id": "gxbsUKJL9jbF"
      },
      "source": [
        "y_pred = pipe.predict(X_test)"
      ],
      "execution_count": 46,
      "outputs": []
    },
    {
      "cell_type": "code",
      "metadata": {
        "id": "mXMyGpmg9lte",
        "outputId": "cac22d8c-3aa8-4170-e9dd-727ae64058d0",
        "colab": {
          "base_uri": "https://localhost:8080/"
        }
      },
      "source": [
        "from sklearn.metrics import accuracy_score, confusion_matrix, precision_score, recall_score, roc_auc_score, roc_curve, f1_score,classification_report\n",
        "accuracy_score(y_test, y_pred)\n",
        "print(f\"The accuracy of the model is {round(accuracy_score(y_test,y_pred),3)*100} %\")\n",
        "print('Classification report\\n {} \\n'.format(classification_report(y_test,y_pred)))"
      ],
      "execution_count": 47,
      "outputs": [
        {
          "output_type": "stream",
          "text": [
            "The accuracy of the model is 55.800000000000004 %\n",
            "Classification report\n",
            "               precision    recall  f1-score   support\n",
            "\n",
            "           1       0.36      0.35      0.35       397\n",
            "           2       0.72      0.65      0.69      1264\n",
            "           3       0.25      0.41      0.31       232\n",
            "\n",
            "    accuracy                           0.56      1893\n",
            "   macro avg       0.45      0.47      0.45      1893\n",
            "weighted avg       0.59      0.56      0.57      1893\n",
            " \n",
            "\n"
          ],
          "name": "stdout"
        }
      ]
    },
    {
      "cell_type": "code",
      "metadata": {
        "id": "xH-oMaV497mp",
        "outputId": "52086f39-0edc-4680-b7ee-1c7974a7b270",
        "colab": {
          "base_uri": "https://localhost:8080/",
          "height": 621
        }
      },
      "source": [
        "import itertools\n",
        "import numpy as np\n",
        "def plot_confusion_matrix(cm, classes, normalize = False,\n",
        "                          title='Confusion matrix',\n",
        "                          cmap=plt.cm.Blues): # can change color \n",
        "    plt.figure(figsize = (10, 10))\n",
        "    plt.imshow(cm, interpolation='nearest', cmap=cmap)\n",
        "    plt.title(title, size = 24)\n",
        "    plt.colorbar(aspect=4)\n",
        "    tick_marks = np.arange(len(classes))\n",
        "    plt.xticks(tick_marks, classes, rotation=45, size = 14)\n",
        "    plt.yticks(tick_marks, classes, size = 14)\n",
        "    fmt = '.2f' if normalize else 'd'\n",
        "    thresh = cm.max() / 2.\n",
        "    # Label the plot\n",
        "    for i, j in itertools.product(range(cm.shape[0]),   range(cm.shape[1])):\n",
        "     plt.text(j, i, format(cm[i, j], fmt), \n",
        "             fontsize = 20,\n",
        "             horizontalalignment=\"center\",\n",
        "             color=\"white\" if cm[i, j] > thresh else \"black\")\n",
        "    plt.grid(None)\n",
        "    plt.tight_layout()\n",
        "    plt.ylabel('True label', size = 18)\n",
        "    plt.xlabel('Predicted label', size = 18)\n",
        "\n",
        "# Let's plot it out\n",
        "cm = confusion_matrix(y_test, y_pred)\n",
        "plot_confusion_matrix(cm, classes = ['1 - lci', '2 - single', '3 - joint'],\n",
        "                      title = 'Product_fit Confusion Matrix')"
      ],
      "execution_count": 48,
      "outputs": [
        {
          "output_type": "display_data",
          "data": {
            "image/png": "[encoded data removed]",
            "text/plain": [
              "<Figure size 720x720 with 2 Axes>"
            ]
          },
          "metadata": {
            "tags": [],
            "needs_background": "light"
          }
        }
      ]
    },
    {
      "cell_type": "code",
      "metadata": {
        "id": "dO8h1SVX-KUR",
        "outputId": "2f14ca7a-69d9-4229-ad01-93dd727f8597",
        "colab": {
          "base_uri": "https://localhost:8080/"
        }
      },
      "source": [
        "print(gbt_classifier.feature_importances_)\n",
        "print(f\" There are {len(gbt_classifier.feature_importances_)} features in total\")\n",
        "\n"
      ],
      "execution_count": 50,
      "outputs": [
        {
          "output_type": "stream",
          "text": [
            "[0.00103457 0.0193302  0.01447571 0.00272854 0.00618462 0.00571612\n",
            " 0.01270445 0.00039786 0.0006208  0.         0.00647624 0.06883145\n",
            " 0.13983182 0.03698057 0.01635887 0.08159655 0.00719991 0.\n",
            " 0.15920274 0.00055118 0.01891595 0.00891078 0.00102645 0.00233956\n",
            " 0.00558097 0.03026206 0.00296598 0.02541693 0.00381909 0.00388645\n",
            " 0.0058935  0.00813963 0.00186528 0.01514101 0.00099182 0.0139683\n",
            " 0.00378006 0.02779497 0.02843561 0.01456863 0.04196446 0.01192573\n",
            " 0.0481524  0.01317625 0.         0.03943128 0.00608773 0.01496558\n",
            " 0.00139265 0.0189787 ]\n",
            " There are 50 features in total\n"
          ],
          "name": "stdout"
        }
      ]
    },
    {
      "cell_type": "code",
      "metadata": {
        "id": "GYCQwFIk-2d_",
        "outputId": "409ba23f-2afd-4bc5-a2f0-9257d699c4e4",
        "colab": {
          "base_uri": "https://localhost:8080/"
        }
      },
      "source": [
        "feature_importances = list(zip(X_train, gbt_classifier.feature_importances_))\n",
        "# Then sort the feature importances by most important first\n",
        "feature_importances_ranked = sorted(feature_importances, key = lambda x: x[1], reverse = True)\n",
        "# Print out the feature and importances\n",
        "[print('Feature: {:35} Importance: {}'.format(*pair)) for pair in feature_importances_ranked];"
      ],
      "execution_count": 51,
      "outputs": [
        {
          "output_type": "stream",
          "text": [
            "Feature: Income_Range                        Importance: 0.1592027400643389\n",
            "Feature: Marital_Status                      Importance: 0.13983182048557824\n",
            "Feature: Employment_Status                   Importance: 0.08159654621732391\n",
            "Feature: Number_of_Dependants                Importance: 0.06883144654739494\n",
            "Feature: Searches___Total___L6m              Importance: 0.04815239867141262\n",
            "Feature: Worst_CUrrent_Status                Importance: 0.04196446180317778\n",
            "Feature: Total___outstanding_CCJ_s           Importance: 0.03943128419823083\n",
            "Feature: Gender                              Importance: 0.036980573351524396\n",
            "Feature: Other_Credit_Store_Card             Importance: 0.030262060520703325\n",
            "Feature: Total_value__CAIS_8_9s              Importance: 0.02843561135697731\n",
            "Feature: Time_since_most_recent_Public_In    Importance: 0.027794972230778394\n",
            "Feature: Value_of_Property                   Importance: 0.02541693242738503\n",
            "Feature: Final_Grade                         Importance: 0.01933020311283786\n",
            "Feature: Time_since_most_recent_outstandi    Importance: 0.01897870475040912\n",
            "Feature: ACCESS_Card                         Importance: 0.01891594880910003\n",
            "Feature: Time_in_Employment                  Importance: 0.016358866623560217\n",
            "Feature: Age                                 Importance: 0.015141006994691767\n",
            "Feature: Total___of_accounts                 Importance: 0.014965576974334599\n",
            "Feature: Worst_status_L6m                    Importance: 0.014568627677285544\n",
            "Feature: Term                                Importance: 0.014475711227981851\n",
            "Feature: Total___Public_Info___CCJ____ban    Importance: 0.013968297122955308\n",
            "Feature: Years_on_ER_for_SP                  Importance: 0.01317625323935472\n",
            "Feature: Mosaic                              Importance: 0.012704448873498158\n",
            "Feature: __of_status_3_s_L6m                 Importance: 0.011925730874849433\n",
            "Feature: VISA_Card                           Importance: 0.008910777546801446\n",
            "Feature: Worst_History_CT                    Importance: 0.008139633950019346\n",
            "Feature: Full_Part_Time_Empl_Ind             Importance: 0.007199905973262452\n",
            "Feature: Telephone_Indicator                 Importance: 0.006476243053330024\n",
            "Feature: APR                                 Importance: 0.006184621000841714\n",
            "Feature: Total_outstanding_balance___excl    Importance: 0.006087725270468605\n",
            "Feature: Bureau_Data___Monthly_Other_Co_R    Importance: 0.005893497462911728\n",
            "Feature: Loan_Type                           Importance: 0.005716122192540167\n",
            "Feature: Cheque_Guarantee                    Importance: 0.0055809699427848925\n",
            "Feature: Total_Outstanding_Balances          Importance: 0.003886447400104601\n",
            "Feature: Outstanding_Mortgage_Bal            Importance: 0.003819085137031058\n",
            "Feature: Total_value__Public_Info___CCJ__    Importance: 0.003780063231591218\n",
            "Feature: Time_with_Bank                      Importance: 0.0029659828485857605\n",
            "Feature: Net_Advance                         Importance: 0.002728536072728465\n",
            "Feature: Diners_Card                         Importance: 0.00233956140618125\n",
            "Feature: Payment_Method                      Importance: 0.0018652823943434735\n",
            "Feature: CIFAS_detected                      Importance: 0.0013926507416252326\n",
            "Feature: Credit_Score                        Importance: 0.0010345655546732406\n",
            "Feature: American_Express                    Importance: 0.0010264530463161038\n",
            "Feature: Total_outstanding_balance__mortg    Importance: 0.0009918165561342675\n",
            "Feature: Time_at_Address                     Importance: 0.0006207953048837037\n",
            "Feature: Current_Account                     Importance: 0.0005511816577434494\n",
            "Feature: Mosaic_Class                        Importance: 0.00039785809941346955\n",
            "Feature: Residential_Status                  Importance: 0.0\n",
            "Feature: Perm_Temp_Empl_Ind                  Importance: 0.0\n",
            "Feature: Bankruptcy_Detected__SP_            Importance: 0.0\n"
          ],
          "name": "stdout"
        }
      ]
    },
    {
      "cell_type": "code",
      "metadata": {
        "id": "o13zhm1B-7_h",
        "outputId": "625b28e5-bd1a-4f77-a39b-301aa378c5ee",
        "colab": {
          "base_uri": "https://localhost:8080/",
          "height": 848
        }
      },
      "source": [
        "# Plot the top 30 feature importance\n",
        "feature_names_25 = [i[0] for i in feature_importances_ranked[:30]]\n",
        "y_ticks = np.arange(0, len(feature_names_25))\n",
        "x_axis = [i[1] for i in feature_importances_ranked[:30]]\n",
        "plt.figure(figsize = (10, 14))\n",
        "plt.barh(feature_names_25, x_axis)   #horizontal barplot\n",
        "plt.title('Gradient Boosted tree feature Importance (Top 30)',\n",
        "          fontdict= {'fontname':'Comic Sans MS','fontsize' : 20})\n",
        "plt.xlabel('Features',fontdict= {'fontsize' : 16})\n",
        "plt.show()"
      ],
      "execution_count": 36,
      "outputs": [
        {
          "output_type": "display_data",
          "data": {
            "image/png": "[encoded data removed]",
            "text/plain": [
              "<Figure size 720x1008 with 1 Axes>"
            ]
          },
          "metadata": {
            "tags": [],
            "needs_background": "light"
          }
        }
      ]
    },
    {
      "cell_type": "code",
      "metadata": {
        "id": "kqNWStgaRFBL",
        "outputId": "6780d5f8-82a7-40e8-9dce-38bbb1d7bbe1",
        "colab": {
          "base_uri": "https://localhost:8080/"
        }
      },
      "source": [
        "pip install eli5"
      ],
      "execution_count": 34,
      "outputs": [
        {
          "output_type": "stream",
          "text": [
            "Collecting eli5\n",
            "\u001b[?25l  Downloading https://files.pythonhosted.org/packages/97/2f/c85c7d8f8548e460829971785347e14e45fa5c6617da374711dec8cb38cc/eli5-0.10.1-py2.py3-none-any.whl (105kB)\n",
            "\r\u001b[K     |███                             | 10kB 14.8MB/s eta 0:00:01\r\u001b[K     |██████▏                         | 20kB 7.7MB/s eta 0:00:01\r\u001b[K     |█████████▎                      | 30kB 8.1MB/s eta 0:00:01\r\u001b[K     |████████████▍                   | 40kB 6.2MB/s eta 0:00:01\r\u001b[K     |███████████████▌                | 51kB 5.4MB/s eta 0:00:01\r\u001b[K     |██████████████████▋             | 61kB 5.4MB/s eta 0:00:01\r\u001b[K     |█████████████████████▊          | 71kB 5.5MB/s eta 0:00:01\r\u001b[K     |████████████████████████▊       | 81kB 5.3MB/s eta 0:00:01\r\u001b[K     |███████████████████████████▉    | 92kB 5.5MB/s eta 0:00:01\r\u001b[K     |███████████████████████████████ | 102kB 5.5MB/s eta 0:00:01\r\u001b[K     |████████████████████████████████| 112kB 5.5MB/s \n",
            "\u001b[?25hRequirement already satisfied: scipy in /usr/local/lib/python3.6/dist-packages (from eli5) (1.4.1)\n",
            "Requirement already satisfied: six in /usr/local/lib/python3.6/dist-packages (from eli5) (1.15.0)\n",
            "Requirement already satisfied: attrs>16.0.0 in /usr/local/lib/python3.6/dist-packages (from eli5) (20.2.0)\n",
            "Requirement already satisfied: tabulate>=0.7.7 in /usr/local/lib/python3.6/dist-packages (from eli5) (0.8.7)\n",
            "Requirement already satisfied: scikit-learn>=0.18 in /usr/local/lib/python3.6/dist-packages (from eli5) (0.22.2.post1)\n",
            "Requirement already satisfied: jinja2 in /usr/local/lib/python3.6/dist-packages (from eli5) (2.11.2)\n",
            "Requirement already satisfied: graphviz in /usr/local/lib/python3.6/dist-packages (from eli5) (0.10.1)\n",
            "Requirement already satisfied: numpy>=1.9.0 in /usr/local/lib/python3.6/dist-packages (from eli5) (1.18.5)\n",
            "Requirement already satisfied: joblib>=0.11 in /usr/local/lib/python3.6/dist-packages (from scikit-learn>=0.18->eli5) (0.17.0)\n",
            "Requirement already satisfied: MarkupSafe>=0.23 in /usr/local/lib/python3.6/dist-packages (from jinja2->eli5) (1.1.1)\n",
            "Installing collected packages: eli5\n",
            "Successfully installed eli5-0.10.1\n"
          ],
          "name": "stdout"
        }
      ]
    },
    {
      "cell_type": "code",
      "metadata": {
        "id": "HoABiqv0vUAx",
        "outputId": "ebab8a40-d20e-4ee2-ef2b-7219d8c37292",
        "colab": {
          "base_uri": "https://localhost:8080/",
          "height": 474
        }
      },
      "source": [
        "import eli5\n",
        "from eli5.sklearn import PermutationImportance\n",
        "from eli5 import show_prediction\n",
        "\n",
        "perm = PermutationImportance(gbt_classifier, random_state=1).fit(X_test,y_test)\n",
        "eli5.show_weights(perm, feature_names = X_test.columns.tolist())\n",
        "\n"
      ],
      "execution_count": 35,
      "outputs": [
        {
          "output_type": "stream",
          "text": [
            "/usr/local/lib/python3.6/dist-packages/sklearn/utils/deprecation.py:144: FutureWarning: The sklearn.metrics.scorer module is  deprecated in version 0.22 and will be removed in version 0.24. The corresponding classes / functions should instead be imported from sklearn.metrics. Anything that cannot be imported from sklearn.metrics is now part of the private API.\n",
            "  warnings.warn(message, FutureWarning)\n",
            "/usr/local/lib/python3.6/dist-packages/sklearn/utils/deprecation.py:144: FutureWarning: The sklearn.feature_selection.base module is  deprecated in version 0.22 and will be removed in version 0.24. The corresponding classes / functions should instead be imported from sklearn.feature_selection. Anything that cannot be imported from sklearn.feature_selection is now part of the private API.\n",
            "  warnings.warn(message, FutureWarning)\n"
          ],
          "name": "stderr"
        },
        {
          "output_type": "execute_result",
          "data": {
            "text/html": [
              "\n",
              "    <style>\n",
              "    table.eli5-weights tr:hover {\n",
              "        filter: brightness(85%);\n",
              "    }\n",
              "</style>\n",
              "\n",
              "\n",
              "\n",
              "    \n",
              "\n",
              "    \n",
              "\n",
              "    \n",
              "\n",
              "    \n",
              "\n",
              "    \n",
              "\n",
              "    \n",
              "\n",
              "\n",
              "    \n",
              "\n",
              "    \n",
              "\n",
              "    \n",
              "\n",
              "    \n",
              "\n",
              "    \n",
              "\n",
              "    \n",
              "\n",
              "\n",
              "    \n",
              "\n",
              "    \n",
              "\n",
              "    \n",
              "\n",
              "    \n",
              "\n",
              "    \n",
              "        <table class=\"eli5-weights eli5-feature-importances\" style=\"border-collapse: collapse; border: none; margin-top: 0em; table-layout: auto;\">\n",
              "    <thead>\n",
              "    <tr style=\"border: none;\">\n",
              "        <th style=\"padding: 0 1em 0 0.5em; text-align: right; border: none;\">Weight</th>\n",
              "        <th style=\"padding: 0 0.5em 0 0.5em; text-align: left; border: none;\">Feature</th>\n",
              "    </tr>\n",
              "    </thead>\n",
              "    <tbody>\n",
              "    \n",
              "        <tr style=\"background-color: hsl(120, 100.00%, 80.00%); border: none;\">\n",
              "            <td style=\"padding: 0 1em 0 0.5em; text-align: right; border: none;\">\n",
              "                0.0177\n",
              "                \n",
              "                    &plusmn; 0.0080\n",
              "                \n",
              "            </td>\n",
              "            <td style=\"padding: 0 0.5em 0 0.5em; text-align: left; border: none;\">\n",
              "                Employment_Status\n",
              "            </td>\n",
              "        </tr>\n",
              "    \n",
              "        <tr style=\"background-color: hsl(120, 100.00%, 93.46%); border: none;\">\n",
              "            <td style=\"padding: 0 1em 0 0.5em; text-align: right; border: none;\">\n",
              "                0.0036\n",
              "                \n",
              "                    &plusmn; 0.0062\n",
              "                \n",
              "            </td>\n",
              "            <td style=\"padding: 0 0.5em 0 0.5em; text-align: left; border: none;\">\n",
              "                Total_value__CAIS_8_9s\n",
              "            </td>\n",
              "        </tr>\n",
              "    \n",
              "        <tr style=\"background-color: hsl(120, 100.00%, 94.73%); border: none;\">\n",
              "            <td style=\"padding: 0 1em 0 0.5em; text-align: right; border: none;\">\n",
              "                0.0026\n",
              "                \n",
              "                    &plusmn; 0.0038\n",
              "                \n",
              "            </td>\n",
              "            <td style=\"padding: 0 0.5em 0 0.5em; text-align: left; border: none;\">\n",
              "                Age\n",
              "            </td>\n",
              "        </tr>\n",
              "    \n",
              "        <tr style=\"background-color: hsl(120, 100.00%, 94.73%); border: none;\">\n",
              "            <td style=\"padding: 0 1em 0 0.5em; text-align: right; border: none;\">\n",
              "                0.0026\n",
              "                \n",
              "                    &plusmn; 0.0042\n",
              "                \n",
              "            </td>\n",
              "            <td style=\"padding: 0 0.5em 0 0.5em; text-align: left; border: none;\">\n",
              "                Loan_Type\n",
              "            </td>\n",
              "        </tr>\n",
              "    \n",
              "        <tr style=\"background-color: hsl(120, 100.00%, 95.81%); border: none;\">\n",
              "            <td style=\"padding: 0 1em 0 0.5em; text-align: right; border: none;\">\n",
              "                0.0019\n",
              "                \n",
              "                    &plusmn; 0.0036\n",
              "                \n",
              "            </td>\n",
              "            <td style=\"padding: 0 0.5em 0 0.5em; text-align: left; border: none;\">\n",
              "                Total_outstanding_balance___excl\n",
              "            </td>\n",
              "        </tr>\n",
              "    \n",
              "        <tr style=\"background-color: hsl(120, 100.00%, 96.14%); border: none;\">\n",
              "            <td style=\"padding: 0 1em 0 0.5em; text-align: right; border: none;\">\n",
              "                0.0017\n",
              "                \n",
              "                    &plusmn; 0.0012\n",
              "                \n",
              "            </td>\n",
              "            <td style=\"padding: 0 0.5em 0 0.5em; text-align: left; border: none;\">\n",
              "                VISA_Card\n",
              "            </td>\n",
              "        </tr>\n",
              "    \n",
              "        <tr style=\"background-color: hsl(120, 100.00%, 96.14%); border: none;\">\n",
              "            <td style=\"padding: 0 1em 0 0.5em; text-align: right; border: none;\">\n",
              "                0.0017\n",
              "                \n",
              "                    &plusmn; 0.0039\n",
              "                \n",
              "            </td>\n",
              "            <td style=\"padding: 0 0.5em 0 0.5em; text-align: left; border: none;\">\n",
              "                Total___of_accounts\n",
              "            </td>\n",
              "        </tr>\n",
              "    \n",
              "        <tr style=\"background-color: hsl(120, 100.00%, 98.06%); border: none;\">\n",
              "            <td style=\"padding: 0 1em 0 0.5em; text-align: right; border: none;\">\n",
              "                0.0006\n",
              "                \n",
              "                    &plusmn; 0.0012\n",
              "                \n",
              "            </td>\n",
              "            <td style=\"padding: 0 0.5em 0 0.5em; text-align: left; border: none;\">\n",
              "                CIFAS_detected\n",
              "            </td>\n",
              "        </tr>\n",
              "    \n",
              "        <tr style=\"background-color: hsl(120, 100.00%, 98.06%); border: none;\">\n",
              "            <td style=\"padding: 0 1em 0 0.5em; text-align: right; border: none;\">\n",
              "                0.0006\n",
              "                \n",
              "                    &plusmn; 0.0032\n",
              "                \n",
              "            </td>\n",
              "            <td style=\"padding: 0 0.5em 0 0.5em; text-align: left; border: none;\">\n",
              "                Total_Outstanding_Balances\n",
              "            </td>\n",
              "        </tr>\n",
              "    \n",
              "        <tr style=\"background-color: hsl(120, 100.00%, 98.29%); border: none;\">\n",
              "            <td style=\"padding: 0 1em 0 0.5em; text-align: right; border: none;\">\n",
              "                0.0005\n",
              "                \n",
              "                    &plusmn; 0.0009\n",
              "                \n",
              "            </td>\n",
              "            <td style=\"padding: 0 0.5em 0 0.5em; text-align: left; border: none;\">\n",
              "                Diners_Card\n",
              "            </td>\n",
              "        </tr>\n",
              "    \n",
              "        <tr style=\"background-color: hsl(120, 100.00%, 98.29%); border: none;\">\n",
              "            <td style=\"padding: 0 1em 0 0.5em; text-align: right; border: none;\">\n",
              "                0.0005\n",
              "                \n",
              "                    &plusmn; 0.0030\n",
              "                \n",
              "            </td>\n",
              "            <td style=\"padding: 0 0.5em 0 0.5em; text-align: left; border: none;\">\n",
              "                Cheque_Guarantee\n",
              "            </td>\n",
              "        </tr>\n",
              "    \n",
              "        <tr style=\"background-color: hsl(120, 100.00%, 98.54%); border: none;\">\n",
              "            <td style=\"padding: 0 1em 0 0.5em; text-align: right; border: none;\">\n",
              "                0.0004\n",
              "                \n",
              "                    &plusmn; 0.0039\n",
              "                \n",
              "            </td>\n",
              "            <td style=\"padding: 0 0.5em 0 0.5em; text-align: left; border: none;\">\n",
              "                Other_Credit_Store_Card\n",
              "            </td>\n",
              "        </tr>\n",
              "    \n",
              "        <tr style=\"background-color: hsl(120, 100.00%, 98.81%); border: none;\">\n",
              "            <td style=\"padding: 0 1em 0 0.5em; text-align: right; border: none;\">\n",
              "                0.0003\n",
              "                \n",
              "                    &plusmn; 0.0083\n",
              "                \n",
              "            </td>\n",
              "            <td style=\"padding: 0 0.5em 0 0.5em; text-align: left; border: none;\">\n",
              "                Worst_CUrrent_Status\n",
              "            </td>\n",
              "        </tr>\n",
              "    \n",
              "        <tr style=\"background-color: hsl(120, 100.00%, 99.10%); border: none;\">\n",
              "            <td style=\"padding: 0 1em 0 0.5em; text-align: right; border: none;\">\n",
              "                0.0002\n",
              "                \n",
              "                    &plusmn; 0.0005\n",
              "                \n",
              "            </td>\n",
              "            <td style=\"padding: 0 0.5em 0 0.5em; text-align: left; border: none;\">\n",
              "                American_Express\n",
              "            </td>\n",
              "        </tr>\n",
              "    \n",
              "        <tr style=\"background-color: hsl(120, 100.00%, 99.45%); border: none;\">\n",
              "            <td style=\"padding: 0 1em 0 0.5em; text-align: right; border: none;\">\n",
              "                0.0001\n",
              "                \n",
              "                    &plusmn; 0.0012\n",
              "                \n",
              "            </td>\n",
              "            <td style=\"padding: 0 0.5em 0 0.5em; text-align: left; border: none;\">\n",
              "                Full_Part_Time_Empl_Ind\n",
              "            </td>\n",
              "        </tr>\n",
              "    \n",
              "        <tr style=\"background-color: hsl(0, 100.00%, 100.00%); border: none;\">\n",
              "            <td style=\"padding: 0 1em 0 0.5em; text-align: right; border: none;\">\n",
              "                0\n",
              "                \n",
              "                    &plusmn; 0.0000\n",
              "                \n",
              "            </td>\n",
              "            <td style=\"padding: 0 0.5em 0 0.5em; text-align: left; border: none;\">\n",
              "                Current_Account\n",
              "            </td>\n",
              "        </tr>\n",
              "    \n",
              "        <tr style=\"background-color: hsl(0, 100.00%, 100.00%); border: none;\">\n",
              "            <td style=\"padding: 0 1em 0 0.5em; text-align: right; border: none;\">\n",
              "                0\n",
              "                \n",
              "                    &plusmn; 0.0000\n",
              "                \n",
              "            </td>\n",
              "            <td style=\"padding: 0 0.5em 0 0.5em; text-align: left; border: none;\">\n",
              "                Bankruptcy_Detected__SP_\n",
              "            </td>\n",
              "        </tr>\n",
              "    \n",
              "        <tr style=\"background-color: hsl(0, 100.00%, 100.00%); border: none;\">\n",
              "            <td style=\"padding: 0 1em 0 0.5em; text-align: right; border: none;\">\n",
              "                0\n",
              "                \n",
              "                    &plusmn; 0.0000\n",
              "                \n",
              "            </td>\n",
              "            <td style=\"padding: 0 0.5em 0 0.5em; text-align: left; border: none;\">\n",
              "                Perm_Temp_Empl_Ind\n",
              "            </td>\n",
              "        </tr>\n",
              "    \n",
              "        <tr style=\"background-color: hsl(0, 100.00%, 100.00%); border: none;\">\n",
              "            <td style=\"padding: 0 1em 0 0.5em; text-align: right; border: none;\">\n",
              "                0\n",
              "                \n",
              "                    &plusmn; 0.0000\n",
              "                \n",
              "            </td>\n",
              "            <td style=\"padding: 0 0.5em 0 0.5em; text-align: left; border: none;\">\n",
              "                Time_at_Address\n",
              "            </td>\n",
              "        </tr>\n",
              "    \n",
              "        <tr style=\"background-color: hsl(0, 100.00%, 100.00%); border: none;\">\n",
              "            <td style=\"padding: 0 1em 0 0.5em; text-align: right; border: none;\">\n",
              "                0\n",
              "                \n",
              "                    &plusmn; 0.0000\n",
              "                \n",
              "            </td>\n",
              "            <td style=\"padding: 0 0.5em 0 0.5em; text-align: left; border: none;\">\n",
              "                Residential_Status\n",
              "            </td>\n",
              "        </tr>\n",
              "    \n",
              "    \n",
              "        \n",
              "            <tr style=\"background-color: hsl(0, 100.00%, 100.00%); border: none;\">\n",
              "                <td colspan=\"2\" style=\"padding: 0 0.5em 0 0.5em; text-align: center; border: none; white-space: nowrap;\">\n",
              "                    <i>&hellip; 30 more &hellip;</i>\n",
              "                </td>\n",
              "            </tr>\n",
              "        \n",
              "    \n",
              "    </tbody>\n",
              "</table>\n",
              "    \n",
              "\n",
              "    \n",
              "\n",
              "\n",
              "    \n",
              "\n",
              "    \n",
              "\n",
              "    \n",
              "\n",
              "    \n",
              "\n",
              "    \n",
              "\n",
              "    \n",
              "\n",
              "\n",
              "\n"
            ],
            "text/plain": [
              "<IPython.core.display.HTML object>"
            ]
          },
          "metadata": {
            "tags": []
          },
          "execution_count": 35
        }
      ]
    },
    {
      "cell_type": "code",
      "metadata": {
        "id": "Dw64Ql8ERFPe"
      },
      "source": [
        ""
      ],
      "execution_count": null,
      "outputs": []
    },
    {
      "cell_type": "code",
      "metadata": {
        "id": "CQcU9tE2Bd8F"
      },
      "source": [
        ""
      ],
      "execution_count": null,
      "outputs": []
    }
  ]
}